{
 "cells": [
  {
   "cell_type": "markdown",
   "metadata": {
    "deletable": true,
    "editable": true
   },
   "source": [
    "### Background\n",
    "This is the first part of studying Python packages and in this notebook, the packages included are os, sys, string, copy, random and math.\n",
    "\n",
    "1. os - Miscellaneous operating system interface"
   ]
  },
  {
   "cell_type": "code",
   "execution_count": 3,
   "metadata": {
    "collapsed": false,
    "deletable": true,
    "editable": true
   },
   "outputs": [],
   "source": [
    "import os"
   ]
  },
  {
   "cell_type": "code",
   "execution_count": 2,
   "metadata": {
    "collapsed": false,
    "deletable": true,
    "editable": true
   },
   "outputs": [
    {
     "data": {
      "text/plain": [
       "'posix'"
      ]
     },
     "execution_count": 2,
     "metadata": {},
     "output_type": "execute_result"
    }
   ],
   "source": [
    "os.name"
   ]
  },
  {
   "cell_type": "code",
   "execution_count": 4,
   "metadata": {
    "collapsed": false,
    "deletable": true,
    "editable": true
   },
   "outputs": [
    {
     "data": {
      "text/plain": [
       "environ({'TMPDIR': '/var/folders/j9/yrr2kyxn4xv1zv39wg64p5gm0000gn/T/', 'SHLVL': '1', 'DISPLAY': '/private/tmp/com.apple.launchd.IWkwUZD3sE/org.macosforge.xquartz:0', 'PAGER': 'cat', 'USER': 'hanya', 'TERM_PROGRAM': 'iTerm.app', 'PWD': '/Users/hanya/Github', 'LANG': 'en_US.UTF-8', 'XPC_SERVICE_NAME': '0', 'Apple_PubSub_Socket_Render': '/private/tmp/com.apple.launchd.01azZS3VKv/Render', 'ITERM_PROFILE': 'Default', 'ITERM_SESSION_ID': 'w0t2p0:4E2DA0A5-0E81-4090-9D64-0A5C60EE456A', 'CLICOLOR': '1', 'JPY_PARENT_PID': '2186', 'PATH': '/Library/Frameworks/Python.framework/Versions/3.6/bin:/Library/Frameworks/Python.framework/Versions/3.5/bin:/Users/hanya/anaconda/bin:/opt/local/bin:/opt/local/sbin:/Users/hanya/Library/Python/2.7/bin:/Users/hanya/anaconda/bin:/opt/local/bin:/opt/local/sbin:/opt/local/bin:/opt/local/sbin:/Users/hanya/.cabal/bin:/usr/local/bin:/usr/bin:/bin:/usr/sbin:/sbin:/opt/X11/bin:/usr/local/mysql/bin:/Library/TeX/texbin:/Users/hanya/.cabal/bin:/Users/hanya/Downloads/apache-maven-3.3.9/bin', 'TERM_SESSION_ID': 'w0t2p0:4E2DA0A5-0E81-4090-9D64-0A5C60EE456A', 'COLORFGBG': '11;15', 'MPLBACKEND': 'module://ipykernel.pylab.backend_inline', 'SHELL': '/bin/bash', 'TERM': 'xterm-color', '__CF_USER_TEXT_ENCODING': '0x1F5:0x0:0x0', 'HOME': '/Users/hanya', '_': '/Library/Frameworks/Python.framework/Versions/3.6/bin/ipython', 'LOGNAME': 'hanya', 'TERM_PROGRAM_VERSION': '3.0.14', 'OLDPWD': '/Users/hanya', '__PYVENV_LAUNCHER__': '/Library/Frameworks/Python.framework/Versions/3.6/bin/python3.6', 'GIT_PAGER': 'cat', 'SSH_AUTH_SOCK': '/private/tmp/com.apple.launchd.KeYNnNBHaN/Listeners', 'XPC_FLAGS': '0x0'})"
      ]
     },
     "execution_count": 4,
     "metadata": {},
     "output_type": "execute_result"
    }
   ],
   "source": [
    "os.environ"
   ]
  },
  {
   "cell_type": "code",
   "execution_count": 5,
   "metadata": {
    "collapsed": false,
    "deletable": true,
    "editable": true
   },
   "outputs": [
    {
     "data": {
      "text/plain": [
       "'/Users/hanya/Github/myPython/Reviews'"
      ]
     },
     "execution_count": 5,
     "metadata": {},
     "output_type": "execute_result"
    }
   ],
   "source": [
    "os.getcwd()"
   ]
  },
  {
   "cell_type": "code",
   "execution_count": 6,
   "metadata": {
    "collapsed": false,
    "deletable": true,
    "editable": true
   },
   "outputs": [
    {
     "data": {
      "text/plain": [
       "[20, 401, 12, 61, 79, 80, 81, 98, 33, 100, 204, 395, 398, 399]"
      ]
     },
     "execution_count": 6,
     "metadata": {},
     "output_type": "execute_result"
    }
   ],
   "source": [
    "os.getgroups()"
   ]
  },
  {
   "cell_type": "code",
   "execution_count": 7,
   "metadata": {
    "collapsed": false,
    "deletable": true,
    "editable": true
   },
   "outputs": [
    {
     "data": {
      "text/plain": [
       "20"
      ]
     },
     "execution_count": 7,
     "metadata": {},
     "output_type": "execute_result"
    }
   ],
   "source": [
    "os.getgid()"
   ]
  },
  {
   "cell_type": "code",
   "execution_count": 9,
   "metadata": {
    "collapsed": false,
    "deletable": true,
    "editable": true
   },
   "outputs": [
    {
     "data": {
      "text/plain": [
       "'hanya'"
      ]
     },
     "execution_count": 9,
     "metadata": {},
     "output_type": "execute_result"
    }
   ],
   "source": [
    "os.getlogin()"
   ]
  },
  {
   "cell_type": "code",
   "execution_count": 10,
   "metadata": {
    "collapsed": false,
    "deletable": true,
    "editable": true
   },
   "outputs": [
    {
     "data": {
      "text/plain": [
       "2363"
      ]
     },
     "execution_count": 10,
     "metadata": {},
     "output_type": "execute_result"
    }
   ],
   "source": [
    "os.getpid()"
   ]
  },
  {
   "cell_type": "code",
   "execution_count": 11,
   "metadata": {
    "collapsed": false,
    "deletable": true,
    "editable": true
   },
   "outputs": [
    {
     "data": {
      "text/plain": [
       "2186"
      ]
     },
     "execution_count": 11,
     "metadata": {},
     "output_type": "execute_result"
    }
   ],
   "source": [
    "os.getppid()"
   ]
  },
  {
   "cell_type": "code",
   "execution_count": 12,
   "metadata": {
    "collapsed": false,
    "deletable": true,
    "editable": true
   },
   "outputs": [
    {
     "data": {
      "text/plain": [
       "501"
      ]
     },
     "execution_count": 12,
     "metadata": {},
     "output_type": "execute_result"
    }
   ],
   "source": [
    "os.getuid()"
   ]
  },
  {
   "cell_type": "code",
   "execution_count": 16,
   "metadata": {
    "collapsed": false,
    "deletable": true,
    "editable": true
   },
   "outputs": [
    {
     "data": {
      "text/plain": [
       "2062"
      ]
     },
     "execution_count": 16,
     "metadata": {},
     "output_type": "execute_result"
    }
   ],
   "source": [
    "os.getsid(2186)"
   ]
  },
  {
   "cell_type": "code",
   "execution_count": 17,
   "metadata": {
    "collapsed": false,
    "deletable": true,
    "editable": true
   },
   "outputs": [
    {
     "data": {
      "text/plain": [
       "{'CS_PATH': 1,\n",
       " 'CS_XBS5_ILP32_OFF32_CFLAGS': 20,\n",
       " 'CS_XBS5_ILP32_OFF32_LDFLAGS': 21,\n",
       " 'CS_XBS5_ILP32_OFF32_LIBS': 22,\n",
       " 'CS_XBS5_ILP32_OFF32_LINTFLAGS': 23,\n",
       " 'CS_XBS5_ILP32_OFFBIG_CFLAGS': 24,\n",
       " 'CS_XBS5_ILP32_OFFBIG_LDFLAGS': 25,\n",
       " 'CS_XBS5_ILP32_OFFBIG_LIBS': 26,\n",
       " 'CS_XBS5_ILP32_OFFBIG_LINTFLAGS': 27,\n",
       " 'CS_XBS5_LP64_OFF64_CFLAGS': 28,\n",
       " 'CS_XBS5_LP64_OFF64_LDFLAGS': 29,\n",
       " 'CS_XBS5_LP64_OFF64_LIBS': 30,\n",
       " 'CS_XBS5_LP64_OFF64_LINTFLAGS': 31,\n",
       " 'CS_XBS5_LPBIG_OFFBIG_CFLAGS': 32,\n",
       " 'CS_XBS5_LPBIG_OFFBIG_LDFLAGS': 33,\n",
       " 'CS_XBS5_LPBIG_OFFBIG_LIBS': 34,\n",
       " 'CS_XBS5_LPBIG_OFFBIG_LINTFLAGS': 35}"
      ]
     },
     "execution_count": 17,
     "metadata": {},
     "output_type": "execute_result"
    }
   ],
   "source": [
    "os.confstr_names"
   ]
  },
  {
   "cell_type": "code",
   "execution_count": 18,
   "metadata": {
    "collapsed": false,
    "deletable": true,
    "editable": true
   },
   "outputs": [
    {
     "data": {
      "text/plain": [
       "posix.uname_result(sysname='Darwin', nodename='Xus-MacBook-Pro.fios-router.home', release='15.6.0', version='Darwin Kernel Version 15.6.0: Mon Jan  9 23:07:29 PST 2017; root:xnu-3248.60.11.2.1~1/RELEASE_X86_64', machine='x86_64')"
      ]
     },
     "execution_count": 18,
     "metadata": {},
     "output_type": "execute_result"
    }
   ],
   "source": [
    "os.uname()"
   ]
  },
  {
   "cell_type": "code",
   "execution_count": 19,
   "metadata": {
    "collapsed": false,
    "deletable": true,
    "editable": true
   },
   "outputs": [
    {
     "name": "stdout",
     "output_type": "stream",
     "text": [
      "Darwin\n",
      "Xus-MacBook-Pro.fios-router.home\n",
      "15.6.0\n",
      "Darwin Kernel Version 15.6.0: Mon Jan  9 23:07:29 PST 2017; root:xnu-3248.60.11.2.1~1/RELEASE_X86_64\n",
      "x86_64\n"
     ]
    }
   ],
   "source": [
    "for i in os.uname(): print(i)"
   ]
  },
  {
   "cell_type": "code",
   "execution_count": 26,
   "metadata": {
    "collapsed": false,
    "deletable": true,
    "editable": true
   },
   "outputs": [
    {
     "name": "stdout",
     "output_type": "stream",
     "text": [
      "0\n"
     ]
    }
   ],
   "source": [
    "os.system(\"pwd\")  # Execute a shell command"
   ]
  },
  {
   "cell_type": "code",
   "execution_count": 27,
   "metadata": {
    "collapsed": false,
    "deletable": true,
    "editable": true
   },
   "outputs": [
    {
     "data": {
      "text/plain": [
       "['.ipynb_checkpoints',\n",
       " 'datetime.ipynb',\n",
       " 'matplotlib.ipynb',\n",
       " 'packages.ipynb',\n",
       " 'Pandas.ipynb',\n",
       " 'Pythonize basic concepts.ipynb']"
      ]
     },
     "execution_count": 27,
     "metadata": {},
     "output_type": "execute_result"
    }
   ],
   "source": [
    "os.listdir()"
   ]
  },
  {
   "cell_type": "code",
   "execution_count": 28,
   "metadata": {
    "collapsed": false,
    "deletable": true,
    "editable": true
   },
   "outputs": [
    {
     "ename": "FileNotFoundError",
     "evalue": "[Errno 2] No such file or directory: 'hello'",
     "output_type": "error",
     "traceback": [
      "\u001b[0;31m---------------------------------------------------------------------------\u001b[0m",
      "\u001b[0;31mFileNotFoundError\u001b[0m                         Traceback (most recent call last)",
      "\u001b[0;32m<ipython-input-28-92105cd31b34>\u001b[0m in \u001b[0;36m<module>\u001b[0;34m()\u001b[0m\n\u001b[0;32m----> 1\u001b[0;31m \u001b[0mos\u001b[0m\u001b[0;34m.\u001b[0m\u001b[0mrmdir\u001b[0m\u001b[0;34m(\u001b[0m\u001b[0;34m'hello'\u001b[0m\u001b[0;34m)\u001b[0m\u001b[0;34m\u001b[0m\u001b[0m\n\u001b[0m",
      "\u001b[0;31mFileNotFoundError\u001b[0m: [Errno 2] No such file or directory: 'hello'"
     ]
    }
   ],
   "source": [
    "os.rmdir('hello')"
   ]
  },
  {
   "cell_type": "markdown",
   "metadata": {
    "deletable": true,
    "editable": true
   },
   "source": [
    "2 sys: The above are the common functions in the package os and there are many other functions in this package. I'll stop here and continue with the sys package."
   ]
  },
  {
   "cell_type": "code",
   "execution_count": 29,
   "metadata": {
    "collapsed": true,
    "deletable": true,
    "editable": true
   },
   "outputs": [],
   "source": [
    "import sys"
   ]
  },
  {
   "cell_type": "code",
   "execution_count": 30,
   "metadata": {
    "collapsed": false,
    "deletable": true,
    "editable": true
   },
   "outputs": [
    {
     "name": "stdout",
     "output_type": "stream",
     "text": [
      "['/Library/Frameworks/Python.framework/Versions/3.6/lib/python3.6/site-packages/ipykernel/__main__.py', '-f', '/Users/hanya/Library/Jupyter/runtime/kernel-5710a34a-b4a8-42e8-9af2-b311109dfc79.json']\n"
     ]
    }
   ],
   "source": [
    "print(sys.argv)"
   ]
  },
  {
   "cell_type": "code",
   "execution_count": 31,
   "metadata": {
    "collapsed": false,
    "deletable": true,
    "editable": true
   },
   "outputs": [
    {
     "name": "stdout",
     "output_type": "stream",
     "text": [
      "Copyright (c) 2001-2016 Python Software Foundation.\n",
      "All Rights Reserved.\n",
      "\n",
      "Copyright (c) 2000 BeOpen.com.\n",
      "All Rights Reserved.\n",
      "\n",
      "Copyright (c) 1995-2001 Corporation for National Research Initiatives.\n",
      "All Rights Reserved.\n",
      "\n",
      "Copyright (c) 1991-1995 Stichting Mathematisch Centrum, Amsterdam.\n",
      "All Rights Reserved.\n"
     ]
    }
   ],
   "source": [
    "print(sys.copyright)"
   ]
  },
  {
   "cell_type": "code",
   "execution_count": 32,
   "metadata": {
    "collapsed": false,
    "deletable": true,
    "editable": true
   },
   "outputs": [
    {
     "name": "stdout",
     "output_type": "stream",
     "text": [
      "/Library/Frameworks/Python.framework/Versions/3.6/bin/python3.6\n"
     ]
    }
   ],
   "source": [
    "print(sys.executable)"
   ]
  },
  {
   "cell_type": "code",
   "execution_count": 33,
   "metadata": {
    "collapsed": false,
    "deletable": true,
    "editable": true
   },
   "outputs": [
    {
     "name": "stdout",
     "output_type": "stream",
     "text": [
      "sys.flags(debug=0, inspect=0, interactive=0, optimize=0, dont_write_bytecode=0, no_user_site=0, no_site=0, ignore_environment=0, verbose=0, bytes_warning=0, quiet=0, hash_randomization=1, isolated=0)\n"
     ]
    }
   ],
   "source": [
    "print(sys.flags)"
   ]
  },
  {
   "cell_type": "code",
   "execution_count": 35,
   "metadata": {
    "collapsed": false,
    "deletable": true,
    "editable": true
   },
   "outputs": [
    {
     "name": "stdout",
     "output_type": "stream",
     "text": [
      "sys.float_info(max=1.7976931348623157e+308, max_exp=1024, max_10_exp=308, min=2.2250738585072014e-308, min_exp=-1021, min_10_exp=-307, dig=15, mant_dig=53, epsilon=2.220446049250313e-16, radix=2, rounds=1)\n"
     ]
    }
   ],
   "source": [
    "print(sys.float_info)"
   ]
  },
  {
   "cell_type": "code",
   "execution_count": 36,
   "metadata": {
    "collapsed": false,
    "deletable": true,
    "editable": true
   },
   "outputs": [
    {
     "name": "stdout",
     "output_type": "stream",
     "text": [
      "1.7976931348623157e+308\n",
      "1024\n",
      "308\n",
      "2.2250738585072014e-308\n",
      "-1021\n",
      "-307\n",
      "15\n",
      "53\n",
      "2.220446049250313e-16\n",
      "2\n",
      "1\n"
     ]
    }
   ],
   "source": [
    "for i in sys.float_info: print(i)"
   ]
  },
  {
   "cell_type": "code",
   "execution_count": 37,
   "metadata": {
    "collapsed": false,
    "deletable": true,
    "editable": true
   },
   "outputs": [
    {
     "name": "stdout",
     "output_type": "stream",
     "text": [
      "9223372036854775807\n"
     ]
    }
   ],
   "source": [
    "print(sys.maxsize)"
   ]
  },
  {
   "cell_type": "code",
   "execution_count": 40,
   "metadata": {
    "collapsed": false,
    "deletable": true,
    "editable": true
   },
   "outputs": [
    {
     "name": "stdout",
     "output_type": "stream",
     "text": [
      "prompt_toolkit.eventloop.base\n",
      "IPython.lib.display\n",
      "traitlets.config.application\n",
      "traitlets._version\n",
      "zmq.sugar.version\n",
      "ctypes.macholib\n",
      "pygments.styles.default\n",
      "_heapq\n",
      "IPython.utils._tokenize_py3\n",
      "_socket\n",
      "socket\n",
      "prompt_toolkit.clipboard.in_memory\n",
      "traitlets.log\n",
      "IPython.terminal.prompts\n",
      "traitlets.config\n",
      "email.quoprimime\n",
      "jupyter_client.session\n",
      "_operator\n",
      "IPython.core.extensions\n",
      "ipywidgets.widgets.widget_selection\n",
      "IPython.utils.ipstruct\n",
      "prompt_toolkit.clipboard.base\n",
      "IPython.terminal.pt_inputhooks\n",
      "ipykernel.serialize\n",
      "IPython.core.hooks\n",
      "IPython.utils.decorators\n",
      "IPython.terminal.ipapp\n",
      "pkg_resources\n",
      "abc\n",
      "prompt_toolkit.key_binding.input_processor\n",
      "ipywidgets.widgets.trait_types\n",
      "ipywidgets.widgets.interaction\n",
      "prompt_toolkit.key_binding.bindings.completion\n",
      "token\n",
      "IPython.core.splitinput\n",
      "__mp_main__\n",
      "pygments.formatters\n",
      "IPython.core.displaypub\n",
      "stat\n",
      "IPython.testing.skipdoctest\n",
      "jupyter_core.version\n",
      "IPython.core.displayhook\n",
      "posixpath\n",
      "prompt_toolkit.document\n",
      "IPython.core.magics.code\n",
      "cmd\n",
      "prompt_toolkit.layout.controls\n",
      "pygments.modeline\n",
      "xml\n",
      "IPython.lib.pretty\n",
      "ntpath\n",
      "dateutil._common\n",
      "grp\n",
      "jupyter_core.paths\n",
      "decorator\n",
      "prompt_toolkit.eventloop\n",
      "ipykernel.comm.comm\n",
      "packaging.__about__\n",
      "prompt_toolkit.layout.utils\n",
      "copyreg\n",
      "IPython.utils.tempdir\n",
      "zmq.sugar.poll\n",
      "IPython.lib\n",
      "jupyter_client.multikernelmanager\n",
      "IPython.core.display_trap\n",
      "pstats\n",
      "pickleshare\n",
      "urllib\n",
      "_sqlite3\n",
      "email.encoders\n",
      "pygments.regexopt\n",
      "keyword\n",
      "zmq.sugar\n",
      "_random\n",
      "jupyter_client.kernelspec\n",
      "ipython_genutils.path\n",
      "jupyter_client.manager\n",
      "IPython.terminal.embed\n",
      "ipykernel.ipkernel\n",
      "encodings.aliases\n",
      "zmq.utils.constant_names\n",
      "quopri\n",
      "prompt_toolkit.utils\n",
      "_functools\n",
      "sre_constants\n",
      "struct\n",
      "ipykernel.comm\n",
      "IPython.core.magics.osm\n",
      "IPython.core.getipython\n",
      "selectors\n",
      "IPython.core.inputtransformer\n",
      "os.path\n",
      "_frozen_importlib_external\n",
      "uuid\n",
      "IPython.utils.sysinfo\n",
      "ipython_genutils.py3compat\n",
      "_locale\n",
      "typing.io\n",
      "_imp\n",
      "IPython.utils.ulinecache\n",
      "zmq\n",
      "pygments.plugin\n",
      "ipywidgets._version\n",
      "_datetime\n",
      "IPython.utils.strdispatch\n",
      "jupyter_client.jsonutil\n",
      "ptyprocess\n",
      "email.base64mime\n",
      "prompt_toolkit.history\n",
      "wcwidth.wcwidth\n",
      "prompt_toolkit.filters.base\n",
      "prompt_toolkit.filters.utils\n",
      "IPython.utils.colorable\n",
      "atexit\n",
      "multiprocessing.process\n",
      "_strptime\n",
      "zmq.error\n",
      "IPython.utils.timing\n",
      "prompt_toolkit.renderer\n",
      "prompt_toolkit.clipboard\n",
      "types\n",
      "_collections_abc\n",
      "plistlib\n",
      "ctypes.macholib.dylib\n",
      "fnmatch\n",
      "sysconfig\n",
      "ipywidgets.widgets.widget_button\n",
      "zmq.sugar.constants\n",
      "locale\n",
      "_codecs\n",
      "ipywidgets.widgets.widget_bool\n",
      "IPython.display\n",
      "jupyter_client.channelsabc\n",
      "timeit\n",
      "prompt_toolkit.styles.from_dict\n",
      "pyexpat\n",
      "prompt_toolkit.key_binding.registry\n",
      "zmq.backend\n",
      "IPython.utils.capture\n",
      "_io\n",
      "zmq.sugar.context\n",
      "pygments.formatter\n",
      "tokenize\n",
      "jupyter_client.localinterfaces\n",
      "_sre\n",
      "io\n",
      "IPython.testing\n",
      "IPython.core.macro\n",
      "jupyter_client.client\n",
      "logging\n",
      "email.charset\n",
      "os\n",
      "_compat_pickle\n",
      "IPython.utils._sysinfo\n",
      "IPython.utils.syspathcontext\n",
      "xml.parsers.expat\n",
      "traitlets.traitlets\n",
      "prompt_toolkit.layout.toolbars\n",
      "marshal\n",
      "prompt_toolkit.interface\n",
      "threading\n",
      "ipykernel.kernelapp\n",
      "ipykernel.displayhook\n",
      "email.feedparser\n",
      "zmq.sugar.stopwatch\n",
      "pygments.unistring\n",
      "zmq.backend.cython._version\n",
      "IPython.utils.text\n",
      "subprocess\n",
      "IPython.core.profiledir\n",
      "zmq.backend.cython.constants\n",
      "typing.re\n",
      "IPython.utils.dir2\n",
      "ipykernel._version\n",
      "IPython.utils.io\n",
      "textwrap\n",
      "tornado.speedups\n",
      "IPython.core.builtin_trap\n",
      "packaging._compat\n",
      "six.moves\n",
      "tornado\n",
      "prompt_toolkit.key_binding.manager\n",
      "IPython.core.excolors\n",
      "IPython.core.history\n",
      "prompt_toolkit.layout.menus\n",
      "prompt_toolkit.layout.margins\n",
      "pathlib\n",
      "ipykernel.pickleutil\n",
      "IPython.core.page\n",
      "traitlets\n",
      "IPython.core.interactiveshell\n",
      "prompt_toolkit.key_binding.bindings.basic\n",
      "zmq.backend.select\n",
      "prompt_toolkit.input\n",
      "opcode\n",
      "zmq.utils\n",
      "IPython.core.magic\n",
      "importlib.util\n",
      "pygments.style\n",
      "bz2\n",
      "prompt_toolkit.key_binding.digraphs\n",
      "IPython.core.magics.script\n",
      "platform\n",
      "pdb\n",
      "_string\n",
      "ipykernel.codeutil\n",
      "IPython.utils.process\n",
      "prompt_toolkit\n",
      "argparse\n",
      "_sitebuiltins\n",
      "IPython.utils.terminal\n",
      "zmq.backend.cython\n",
      "prompt_toolkit.validation\n",
      "mpl_toolkits\n",
      "IPython.utils.importstring\n",
      "pygments.filters\n",
      "prompt_toolkit.layout.processors\n",
      "ipykernel.zmqshell\n",
      "codecs\n",
      "pkgutil\n",
      "prompt_toolkit.shortcuts\n",
      "prompt_toolkit.filters.cli\n",
      "site\n",
      "zmq.backend.cython._device\n",
      "pygments\n",
      "datetime\n",
      "tornado.platform.auto\n",
      "_frozen_importlib\n",
      "IPython.core.magics.execution\n",
      "ipywidgets.widgets.widget_output\n",
      "concurrent.futures.process\n",
      "uu\n",
      "jupyter_client.blocking.client\n",
      "prompt_toolkit.mouse_events\n",
      "prompt_toolkit.layout\n",
      "appdirs\n",
      "IPython.core.usage\n",
      "IPython.core.ultratb\n",
      "pygments.lexers._mapping\n",
      "dateutil.tz\n",
      "prompt_toolkit.layout.screen\n",
      "concurrent.futures._base\n",
      "warnings\n",
      "traitlets.utils.importstring\n",
      "IPython.terminal.interactiveshell\n",
      "ipython_genutils\n",
      "IPython.utils.PyColorize\n",
      "tornado.escape\n",
      "zlib\n",
      "pyexpat.errors\n",
      "IPython.core.magics.history\n",
      "_weakrefset\n",
      "sqlite3.dbapi2\n",
      "IPython.terminal.magics\n",
      "reprlib\n",
      "xml.parsers.expat.errors\n",
      "_opcode\n",
      "IPython.core.autocall\n",
      "prompt_toolkit.styles\n",
      "copy\n",
      "pyexpat.model\n",
      "prompt_toolkit.key_binding.bindings.vi\n",
      "IPython.core.magics.config\n",
      "gettext\n",
      "email\n",
      "IPython.core.display\n",
      "prompt_toolkit.layout.mouse_handlers\n",
      "IPython.core.alias\n",
      "multiprocessing.util\n",
      "IPython.utils.encoding\n",
      "termios\n",
      "wcwidth.table_wide\n",
      "ipywidgets\n",
      "tty\n",
      "ipywidgets.widgets.domwidget\n",
      "hashlib\n",
      "ipykernel.kernelbase\n",
      "IPython.core.magics.basic\n",
      "IPython.core.completer\n",
      "IPython.utils.coloransi\n",
      "packaging.requirements\n",
      "ipykernel.iostream\n",
      "imp\n",
      "multiprocessing.context\n",
      "prompt_toolkit.layout.prompt\n",
      "prompt_toolkit.terminal\n",
      "_stat\n",
      "enum\n",
      "codeop\n",
      "wcwidth\n",
      "IPython.core.oinspect\n",
      "html.entities\n",
      "importlib\n",
      "_thread\n",
      "ipywidgets.widgets\n",
      "packaging.markers\n",
      "IPython.core.application\n",
      "gc\n",
      "IPython.utils.generics\n",
      "prompt_toolkit.application\n",
      "dateutil.parser\n",
      "ipython_genutils.encoding\n",
      "code\n",
      "IPython.utils.sentinel\n",
      "prompt_toolkit.key_binding.bindings.emacs\n",
      "IPython.core.magics.extension\n",
      "zmq.backend.cython._poll\n",
      "jupyter_client.clientabc\n",
      "random\n",
      "ipykernel.parentpoller\n",
      "_multiprocessing\n",
      "IPython.utils.path\n",
      "ipywidgets.widgets.widget_int\n",
      "ipywidgets.widgets.widget_color\n",
      "concurrent.futures.thread\n",
      "IPython.terminal\n",
      "IPython.utils\n",
      "builtins\n",
      "ctypes.util\n",
      "zmq.eventloop.zmqstream\n",
      "email.header\n",
      "fcntl\n",
      "_signal\n",
      "packaging\n",
      "zipfile\n",
      "prompt_toolkit.key_binding.defaults\n",
      "traitlets.utils\n",
      "_sysconfigdata\n",
      "zmq.backend.cython.utils\n",
      "IPython.core.formatters\n",
      "ipykernel.datapub\n",
      "_json\n",
      "ipywidgets.widgets.eventful\n",
      "ipython_genutils._version\n",
      "ipywidgets.widgets.widget\n",
      "packaging.specifiers\n",
      "prompt_toolkit.key_binding.vi_state\n",
      "email.parser\n",
      "prompt_toolkit.buffer_mapping\n",
      "tornado.platform.posix\n",
      "IPython.core.shellapp\n",
      "IPython.extensions\n",
      "encodings.utf_8\n",
      "glob\n",
      "traitlets.utils.bunch\n",
      "ipykernel.comm.manager\n",
      "pexpect.run\n",
      "json.decoder\n",
      "IPython.extensions.storemagic\n",
      "_ctypes\n",
      "logging.handlers\n",
      "IPython.utils.module_paths\n",
      "packaging.version\n",
      "concurrent\n",
      "runpy\n",
      "genericpath\n",
      "pygments.formatters._mapping\n",
      "wcwidth.table_zero\n",
      "zmq.utils.jsonapi\n",
      "ipython_genutils.importstring\n",
      "IPython.core\n",
      "cProfile\n",
      "profile\n",
      "numbers\n",
      "tarfile\n",
      "prompt_toolkit.terminal.vt100_input\n",
      "IPython.lib.security\n",
      "prompt_toolkit.keys\n",
      "IPython.utils.tokenize2\n",
      "IPython.core.magics.auto\n",
      "pexpect\n",
      "IPython.paths\n",
      "tornado.ioloop\n",
      "sre_compile\n",
      "IPython.core.debugger\n",
      "traitlets.utils.sentinel\n",
      "ipython_genutils.text\n",
      "base64\n",
      "pygments.lexer\n",
      "jupyter_core\n",
      "encodings\n",
      "dateutil.relativedelta\n",
      "errno\n",
      "prompt_toolkit.key_binding.bindings.named_commands\n",
      "_osx_support\n",
      "jupyter_client.launcher\n",
      "string\n",
      "prompt_toolkit.enums\n",
      "heapq\n",
      "_bisect\n",
      "prompt_toolkit.auto_suggest\n",
      "ipywidgets.widgets.widget_image\n",
      "dateutil.tz.tz\n",
      "IPython.terminal.ptutils\n",
      "email.message\n",
      "queue\n",
      "zmq.sugar.frame\n",
      "zmq.sugar.attrsettr\n",
      "inspect\n",
      "IPython.utils.frame\n",
      "zmq.libzmq\n",
      "pickle\n",
      "collections.abc\n",
      "zmq.sugar.tracker\n",
      "prompt_toolkit.cache\n",
      "prompt_toolkit.styles.utils\n",
      "pty\n",
      "unicodedata\n",
      "sre_parse\n",
      "__future__\n",
      "IPython.utils.tokenutil\n",
      "IPython.utils.data\n",
      "optparse\n",
      "ipykernel.heartbeat\n",
      "pygments.token\n",
      "re\n",
      "jupyter_client._version\n",
      "sqlite3\n",
      "pexpect.pty_spawn\n",
      "shutil\n",
      "ipykernel.jsonutil\n",
      "IPython.core.inputsplitter\n",
      "getopt\n",
      "email.utils\n",
      "ctypes.macholib.dyld\n",
      "operator\n",
      "IPython.core.payloadpage\n",
      "jupyter_client.connect\n",
      "packaging._structures\n",
      "jupyter_client.channels\n",
      "ipywidgets.widgets.widget_selectioncontainer\n",
      "_bootlocale\n",
      "shlex\n",
      "concurrent.futures\n",
      "pygments.styles\n",
      "bisect\n",
      "ptyprocess.util\n",
      "tornado.platform.interface\n",
      "prompt_toolkit.key_binding.bindings\n",
      "IPython.core.events\n",
      "xml.parsers.expat.model\n",
      "pydoc\n",
      "email.iterators\n",
      "traceback\n",
      "IPython.utils._process_common\n",
      "encodings.latin_1\n",
      "json.scanner\n",
      "tornado.util\n",
      "IPython.core.payload\n",
      "IPython.utils.wildcard\n",
      "IPython.core.pylabtools\n",
      "pprint\n",
      "IPython.lib.backgroundjobs\n",
      "_struct\n",
      "typing\n",
      "jupyter_client.blocking\n",
      "math\n",
      "prompt_toolkit.key_binding.bindings.scroll\n",
      "weakref\n",
      "IPython.core.crashhandler\n",
      "prompt_toolkit.selection\n",
      "prompt_toolkit.completion\n",
      "html\n",
      "IPython.core.magics.pylab\n",
      "prompt_toolkit.filters\n",
      "array\n",
      "tempfile\n",
      "IPython.terminal.shortcuts\n",
      "dateutil.tz._common\n",
      "prompt_toolkit.buffer\n",
      "IPython.core.magics.logging\n",
      "IPython.core.logger\n",
      "pexpect.exceptions\n",
      "signal\n",
      "multiprocessing.reduction\n",
      "__main__\n",
      "prompt_toolkit.layout.dimension\n",
      "zmq.sugar.socket\n",
      "dateutil\n",
      "functools\n",
      "IPython.core.shadowns\n",
      "IPython.core.release\n",
      "ndg\n",
      "faulthandler\n",
      "IPython.core.magics.display\n",
      "tornado.platform\n",
      "pygments.lexers\n",
      "_lsprof\n",
      "zmq.eventloop.ioloop\n",
      "zmq.utils.garbage\n",
      "jupyter_client.blocking.channels\n",
      "resource\n",
      "ctypes.macholib.framework\n",
      "_warnings\n",
      "IPython.utils._process_posix\n",
      "IPython\n",
      "importlib._bootstrap_external\n",
      "_bz2\n",
      "lzma\n",
      "contextlib\n",
      "storemagic\n",
      "select\n",
      "calendar\n",
      "ipywidgets.widgets.widget_layout\n",
      "traitlets.config.loader\n",
      "IPython.utils.contexts\n",
      "zipimport\n",
      "six\n",
      "_compression\n",
      "prompt_toolkit.styles.from_pygments\n",
      "importlib.abc\n",
      "ptyprocess.ptyprocess\n",
      "pygments.lexers.python\n",
      "urllib.parse\n",
      "prompt_toolkit.styles.defaults\n",
      "zmq.backend.cython.context\n",
      "email._policybase\n",
      "tornado.concurrent\n",
      "prompt_toolkit.layout.containers\n",
      "pygments.formatters.html\n",
      "pygments.util\n",
      "ipywidgets.widgets.widget_link\n",
      "_posixsubprocess\n",
      "binascii\n",
      "_weakref\n",
      "_lzma\n",
      "jupyter_client.managerabc\n",
      "zmq.backend.cython.error\n",
      "IPython.utils.signatures\n",
      "linecache\n",
      "prompt_toolkit.filters.types\n",
      "prompt_toolkit.layout.lexers\n",
      "ast\n",
      "IPython.core.error\n",
      "IPython.core.magics\n",
      "hmac\n",
      "email._encoded_words\n",
      "_curses\n",
      "bdb\n",
      "IPython.core.compilerop\n",
      "_cython_0_25_1\n",
      "IPython.utils.py3compat\n",
      "ipywidgets.widgets.widget_controller\n",
      "IPython.core.prefilter\n",
      "pwd\n",
      "IPython.core.magics.namespace\n",
      "six.moves.urllib\n",
      "ipywidgets.widgets.widget_float\n",
      "zmq.backend.cython.message\n",
      "importlib._bootstrap\n",
      "jupyter_client\n",
      "curses\n",
      "tornado.stack_context\n",
      "_collections\n",
      "tornado.log\n",
      "sys\n",
      "email._parseaddr\n",
      "prompt_toolkit.key_binding\n",
      "ipykernel\n",
      "IPython.lib.deepreload\n",
      "prompt_toolkit.styles.base\n",
      "time\n",
      "itertools\n",
      "multiprocessing\n",
      "IPython.terminal.debugger\n",
      "ipywidgets.widgets.widget_box\n",
      "importlib.machinery\n",
      "prompt_toolkit.output\n",
      "ipykernel.connect\n",
      "traitlets.utils.getargspec\n",
      "IPython.core.latex_symbols\n",
      "pygments.filter\n",
      "_ast\n",
      "getpass\n",
      "pexpect.utils\n",
      "posix\n",
      "prompt_toolkit.token\n",
      "json\n",
      "jupyter_client.adapter\n",
      "xml.parsers\n",
      "dis\n",
      "collections\n",
      "zmq.eventloop\n",
      "ipywidgets.widgets.widget_string\n",
      "multiprocessing.connection\n",
      "mimetypes\n",
      "email.errors\n",
      "zmq.utils.strtypes\n",
      "prompt_toolkit.terminal.vt100_output\n",
      "prompt_toolkit.reactive\n",
      "json.encoder\n",
      "prompt_toolkit.search_state\n",
      "IPython.core.completerlib\n",
      "_hashlib\n",
      "ctypes\n",
      "pexpect.spawnbase\n",
      "IPython.lib.clipboard\n",
      "pexpect.expect\n",
      "IPython.core.magic_arguments\n",
      "pyparsing\n",
      "prompt_toolkit.eventloop.callbacks\n",
      "IPython.utils.openpy\n",
      "ctypes._endian\n",
      "traitlets.config.configurable\n",
      "_pickle\n",
      "simplegeneric\n",
      "zmq.backend.cython.socket\n"
     ]
    }
   ],
   "source": [
    "for i in sys.modules: print(i)"
   ]
  },
  {
   "cell_type": "code",
   "execution_count": 41,
   "metadata": {
    "collapsed": false,
    "deletable": true,
    "editable": true
   },
   "outputs": [
    {
     "name": "stdout",
     "output_type": "stream",
     "text": [
      "\n",
      "/Library/Frameworks/Python.framework/Versions/3.6/lib/python36.zip\n",
      "/Library/Frameworks/Python.framework/Versions/3.6/lib/python3.6\n",
      "/Library/Frameworks/Python.framework/Versions/3.6/lib/python3.6/plat-darwin\n",
      "/Library/Frameworks/Python.framework/Versions/3.6/lib/python3.6/lib-dynload\n",
      "/Library/Frameworks/Python.framework/Versions/3.6/lib/python3.6/site-packages\n",
      "/Library/Frameworks/Python.framework/Versions/3.6/lib/python3.6/site-packages/IPython/extensions\n",
      "/Users/hanya/.ipython\n"
     ]
    }
   ],
   "source": [
    "for i in sys.path: print(i)"
   ]
  },
  {
   "cell_type": "code",
   "execution_count": 42,
   "metadata": {
    "collapsed": false,
    "deletable": true,
    "editable": true
   },
   "outputs": [
    {
     "name": "stdout",
     "output_type": "stream",
     "text": [
      "darwin\n"
     ]
    }
   ],
   "source": [
    "print(sys.platform)"
   ]
  },
  {
   "cell_type": "code",
   "execution_count": 43,
   "metadata": {
    "collapsed": false,
    "deletable": true,
    "editable": true
   },
   "outputs": [
    {
     "name": "stdout",
     "output_type": "stream",
     "text": [
      "<_io.TextIOWrapper name='<stdin>' mode='r' encoding='UTF-8'>\n"
     ]
    }
   ],
   "source": [
    "print(sys.stdin)"
   ]
  },
  {
   "cell_type": "code",
   "execution_count": 44,
   "metadata": {
    "collapsed": false,
    "deletable": true,
    "editable": true
   },
   "outputs": [
    {
     "name": "stdout",
     "output_type": "stream",
     "text": [
      "<ipykernel.iostream.OutStream object at 0x10698d240>\n"
     ]
    }
   ],
   "source": [
    "print(sys.stdout)"
   ]
  },
  {
   "cell_type": "code",
   "execution_count": 45,
   "metadata": {
    "collapsed": false,
    "deletable": true,
    "editable": true
   },
   "outputs": [
    {
     "name": "stdout",
     "output_type": "stream",
     "text": [
      "3.6.0a1 (v3.6.0a1:5896da372fb0, May 16 2016, 15:20:48) \n",
      "[GCC 4.2.1 (Apple Inc. build 5666) (dot 3)]\n"
     ]
    }
   ],
   "source": [
    "print(sys.version)"
   ]
  },
  {
   "cell_type": "code",
   "execution_count": 46,
   "metadata": {
    "collapsed": false,
    "deletable": true,
    "editable": true
   },
   "outputs": [
    {
     "name": "stdout",
     "output_type": "stream",
     "text": [
      "sys.version_info(major=3, minor=6, micro=0, releaselevel='alpha', serial=1)\n"
     ]
    }
   ],
   "source": [
    "print(sys.version_info)"
   ]
  },
  {
   "cell_type": "code",
   "execution_count": 47,
   "metadata": {
    "collapsed": false,
    "deletable": true,
    "editable": true
   },
   "outputs": [
    {
     "name": "stdout",
     "output_type": "stream",
     "text": [
      "[]\n"
     ]
    }
   ],
   "source": [
    "print(sys.warnoptions)"
   ]
  },
  {
   "cell_type": "markdown",
   "metadata": {
    "deletable": true,
    "editable": true
   },
   "source": [
    "As we can see, the sys package contains many functions dealing with system operations and information, like version, path, options, float_info, etc. If you want to check information about the system the Python program is running on, use the sys package. By properly using this module, a more platform compatible program can be built and the compatibility and migratability can be improved, however, nothing can be guranteed though.\n",
    "\n",
    "3 string package: now it mainly contains the constants related to strings instead of the methods related to strings."
   ]
  },
  {
   "cell_type": "code",
   "execution_count": 50,
   "metadata": {
    "collapsed": false,
    "deletable": true,
    "editable": true
   },
   "outputs": [
    {
     "name": "stdout",
     "output_type": "stream",
     "text": [
      "abcdefghijklmnopqrstuvwxyzABCDEFGHIJKLMNOPQRSTUVWXYZ\n"
     ]
    }
   ],
   "source": [
    "import string\n",
    "print(string.ascii_letters)"
   ]
  },
  {
   "cell_type": "code",
   "execution_count": 52,
   "metadata": {
    "collapsed": false,
    "deletable": true,
    "editable": true
   },
   "outputs": [
    {
     "name": "stdout",
     "output_type": "stream",
     "text": [
      "abcdefghijklmnopqrstuvwxyz\n"
     ]
    }
   ],
   "source": [
    "print(string.ascii_lowercase)"
   ]
  },
  {
   "cell_type": "code",
   "execution_count": 53,
   "metadata": {
    "collapsed": false,
    "deletable": true,
    "editable": true
   },
   "outputs": [
    {
     "name": "stdout",
     "output_type": "stream",
     "text": [
      "ABCDEFGHIJKLMNOPQRSTUVWXYZ\n"
     ]
    }
   ],
   "source": [
    "print(string.ascii_uppercase)"
   ]
  },
  {
   "cell_type": "code",
   "execution_count": 54,
   "metadata": {
    "collapsed": false,
    "deletable": true,
    "editable": true
   },
   "outputs": [
    {
     "name": "stdout",
     "output_type": "stream",
     "text": [
      "0123456789\n"
     ]
    }
   ],
   "source": [
    "print(string.digits)"
   ]
  },
  {
   "cell_type": "code",
   "execution_count": 55,
   "metadata": {
    "collapsed": false,
    "deletable": true,
    "editable": true
   },
   "outputs": [
    {
     "name": "stdout",
     "output_type": "stream",
     "text": [
      "0123456789abcdefABCDEF\n"
     ]
    }
   ],
   "source": [
    "print(string.hexdigits)  # Hex"
   ]
  },
  {
   "cell_type": "code",
   "execution_count": 56,
   "metadata": {
    "collapsed": false,
    "deletable": true,
    "editable": true
   },
   "outputs": [
    {
     "name": "stdout",
     "output_type": "stream",
     "text": [
      "01234567\n"
     ]
    }
   ],
   "source": [
    "print(string.octdigits)  # Oct"
   ]
  },
  {
   "cell_type": "code",
   "execution_count": 57,
   "metadata": {
    "collapsed": false,
    "deletable": true,
    "editable": true
   },
   "outputs": [
    {
     "name": "stdout",
     "output_type": "stream",
     "text": [
      "!\"#$%&'()*+,-./:;<=>?@[\\]^_`{|}~\n"
     ]
    }
   ],
   "source": [
    "print(string.punctuation)"
   ]
  },
  {
   "cell_type": "code",
   "execution_count": 58,
   "metadata": {
    "collapsed": false,
    "deletable": true,
    "editable": true
   },
   "outputs": [
    {
     "name": "stdout",
     "output_type": "stream",
     "text": [
      "0123456789abcdefghijklmnopqrstuvwxyzABCDEFGHIJKLMNOPQRSTUVWXYZ!\"#$%&'()*+,-./:;<=>?@[\\]^_`{|}~ \t\n",
      "\r",
      "\u000b",
      "\f",
      "\n"
     ]
    }
   ],
   "source": [
    "print(string.printable)"
   ]
  },
  {
   "cell_type": "code",
   "execution_count": 63,
   "metadata": {
    "collapsed": false,
    "deletable": true,
    "editable": true
   },
   "outputs": [
    {
     "name": "stdout",
     "output_type": "stream",
     "text": [
      "0   characters space\n",
      "1 \t tab\n",
      "2 \n",
      " linefeed\n",
      "3 \r",
      " return\n",
      "4 \u000b",
      " formfeed\n",
      "5 \f",
      " vertical tab\n"
     ]
    }
   ],
   "source": [
    "names = ['characters space', 'tab', 'linefeed', 'return', 'formfeed', 'vertical tab']\n",
    "for i, k in enumerate(string.whitespace): print(i, k, names[i])"
   ]
  },
  {
   "cell_type": "code",
   "execution_count": 64,
   "metadata": {
    "collapsed": false,
    "deletable": true,
    "editable": true
   },
   "outputs": [
    {
     "data": {
      "text/plain": [
       "'a, b, c'"
      ]
     },
     "execution_count": 64,
     "metadata": {},
     "output_type": "execute_result"
    }
   ],
   "source": [
    "'{0}, {1}, {2}'.format('a', 'b', 'c')"
   ]
  },
  {
   "cell_type": "code",
   "execution_count": 65,
   "metadata": {
    "collapsed": false,
    "deletable": true,
    "editable": true
   },
   "outputs": [
    {
     "data": {
      "text/plain": [
       "'a, b, c'"
      ]
     },
     "execution_count": 65,
     "metadata": {},
     "output_type": "execute_result"
    }
   ],
   "source": [
    "'{}, {}, {}'.format('a', 'b', 'c')  # 3.1+ only"
   ]
  },
  {
   "cell_type": "code",
   "execution_count": 66,
   "metadata": {
    "collapsed": false,
    "deletable": true,
    "editable": true
   },
   "outputs": [
    {
     "data": {
      "text/plain": [
       "'Coordinates: 37.24N, -115.81W'"
      ]
     },
     "execution_count": 66,
     "metadata": {},
     "output_type": "execute_result"
    }
   ],
   "source": [
    "'Coordinates: {latitude}, {longitude}'.format(latitude='37.24N', longitude='-115.81W')"
   ]
  },
  {
   "cell_type": "code",
   "execution_count": 67,
   "metadata": {
    "collapsed": false,
    "deletable": true,
    "editable": true
   },
   "outputs": [
    {
     "data": {
      "text/plain": [
       "'Point(4, 2)'"
      ]
     },
     "execution_count": 67,
     "metadata": {},
     "output_type": "execute_result"
    }
   ],
   "source": [
    "class Point:\n",
    "    def __init__(self, x, y):\n",
    "        self.x, self.y = x, y\n",
    "    def __str__(self):\n",
    "        return 'Point({self.x}, {self.y})'.format(self=self)\n",
    "str(Point(4, 2))"
   ]
  },
  {
   "cell_type": "code",
   "execution_count": 68,
   "metadata": {
    "collapsed": false,
    "deletable": true,
    "editable": true
   },
   "outputs": [
    {
     "name": "stdout",
     "output_type": "stream",
     "text": [
      "Point(5, 6)\n"
     ]
    }
   ],
   "source": [
    "print(Point(5, 6))"
   ]
  },
  {
   "cell_type": "markdown",
   "metadata": {
    "deletable": true,
    "editable": true
   },
   "source": [
    "String formatting can be a big topic, however, I don't think it's a big game changer in my programming skills.\n",
    "\n",
    "4 copy: in Python, an assignment doesn't make a copy of the object, but to assign a new alias of the target object. For some mutable objects, this can be inconvenient since mutatable objects are subject to changes, making a copy to the original object is more suitable in such circumstances."
   ]
  },
  {
   "cell_type": "code",
   "execution_count": 69,
   "metadata": {
    "collapsed": false,
    "deletable": true,
    "editable": true
   },
   "outputs": [
    {
     "name": "stdout",
     "output_type": "stream",
     "text": [
      "[1, 4, 3]\n"
     ]
    }
   ],
   "source": [
    "a = [1, 2, 3]\n",
    "b = a\n",
    "a[1] = 4\n",
    "print(b)  # b is changed as well"
   ]
  },
  {
   "cell_type": "code",
   "execution_count": 70,
   "metadata": {
    "collapsed": false,
    "deletable": true,
    "editable": true
   },
   "outputs": [
    {
     "name": "stdout",
     "output_type": "stream",
     "text": [
      "[1, 2, 3]\n"
     ]
    }
   ],
   "source": [
    "import copy\n",
    "a = [1, 2, 3]\n",
    "b = copy.copy(a)\n",
    "a[1] = 4\n",
    "print(b)  # b is not changed"
   ]
  },
  {
   "cell_type": "markdown",
   "metadata": {
    "deletable": true,
    "editable": true
   },
   "source": [
    "Many other objects have their own copy methods, therefore, the copy module doesn't contain that much, for example, a dictionary has its own copy method. There's some issues in using deep copy. When it's used, be super careful about nested structures in a deep copy process. \n",
    "\n",
    "The next module is random. Always interested in knowing the difference between random module and numpy random subclass. Here I'm going to make a clarification between the two."
   ]
  },
  {
   "cell_type": "code",
   "execution_count": 71,
   "metadata": {
    "collapsed": true,
    "deletable": true,
    "editable": true
   },
   "outputs": [],
   "source": [
    "import random\n",
    "random.seed(1)"
   ]
  },
  {
   "cell_type": "code",
   "execution_count": 72,
   "metadata": {
    "collapsed": false,
    "deletable": true,
    "editable": true
   },
   "outputs": [
    {
     "data": {
      "text/plain": [
       "(3,\n",
       " (2147483648,\n",
       "  163610392,\n",
       "  3414454684,\n",
       "  213706556,\n",
       "  4107842212,\n",
       "  2345084137,\n",
       "  1370141154,\n",
       "  308032203,\n",
       "  1333762497,\n",
       "  62788148,\n",
       "  3897778028,\n",
       "  747877958,\n",
       "  1467715487,\n",
       "  3456091536,\n",
       "  2761063683,\n",
       "  1618744790,\n",
       "  1478419815,\n",
       "  1764113510,\n",
       "  846282508,\n",
       "  2723886408,\n",
       "  4169581479,\n",
       "  1502702845,\n",
       "  2646586442,\n",
       "  2469253028,\n",
       "  2959591262,\n",
       "  4098450497,\n",
       "  884511481,\n",
       "  335884721,\n",
       "  3599209546,\n",
       "  513139374,\n",
       "  3325056467,\n",
       "  728657986,\n",
       "  4258769976,\n",
       "  1345736399,\n",
       "  2025918085,\n",
       "  3316918730,\n",
       "  2943630414,\n",
       "  2227403036,\n",
       "  2570027851,\n",
       "  3647123330,\n",
       "  1428539568,\n",
       "  3871201705,\n",
       "  1751794003,\n",
       "  270064251,\n",
       "  1795576567,\n",
       "  1369598507,\n",
       "  618682879,\n",
       "  2451807245,\n",
       "  529121120,\n",
       "  3890334672,\n",
       "  1711572734,\n",
       "  3489061444,\n",
       "  651351815,\n",
       "  4134812839,\n",
       "  69921281,\n",
       "  166843555,\n",
       "  3639104358,\n",
       "  1220147039,\n",
       "  1949863666,\n",
       "  1735631448,\n",
       "  1274775129,\n",
       "  2568486724,\n",
       "  1135749407,\n",
       "  4184445328,\n",
       "  1474571425,\n",
       "  2839972547,\n",
       "  1408182003,\n",
       "  244421551,\n",
       "  3350038055,\n",
       "  1060682618,\n",
       "  4280572247,\n",
       "  1303862814,\n",
       "  2374039070,\n",
       "  2105482037,\n",
       "  3963285136,\n",
       "  1813783878,\n",
       "  3843306449,\n",
       "  1550621711,\n",
       "  3201633678,\n",
       "  3993032609,\n",
       "  2696521485,\n",
       "  1737817996,\n",
       "  2171565928,\n",
       "  2455244480,\n",
       "  1159916282,\n",
       "  512285753,\n",
       "  3858590612,\n",
       "  4026374369,\n",
       "  1315072297,\n",
       "  1616330716,\n",
       "  2575452881,\n",
       "  2244992328,\n",
       "  3829642776,\n",
       "  3110057432,\n",
       "  2014659424,\n",
       "  2754832975,\n",
       "  325146004,\n",
       "  2099885769,\n",
       "  2020308731,\n",
       "  1285440480,\n",
       "  3077009376,\n",
       "  2090384422,\n",
       "  1391632928,\n",
       "  3117180829,\n",
       "  446498285,\n",
       "  441350144,\n",
       "  2181843108,\n",
       "  2070907054,\n",
       "  159173329,\n",
       "  2146887474,\n",
       "  2552448310,\n",
       "  2804228090,\n",
       "  1104855231,\n",
       "  3423489232,\n",
       "  571551281,\n",
       "  2985027384,\n",
       "  2539165306,\n",
       "  297570257,\n",
       "  2726511311,\n",
       "  4153586362,\n",
       "  2738372079,\n",
       "  136762299,\n",
       "  632694665,\n",
       "  2321868360,\n",
       "  405387135,\n",
       "  3889854117,\n",
       "  3664524696,\n",
       "  2155352969,\n",
       "  3438225114,\n",
       "  1479423152,\n",
       "  3490667914,\n",
       "  1428754172,\n",
       "  4202177206,\n",
       "  3666900963,\n",
       "  1589695458,\n",
       "  1376009076,\n",
       "  2045844259,\n",
       "  2570438673,\n",
       "  4062196720,\n",
       "  2557681198,\n",
       "  3588069788,\n",
       "  3816335341,\n",
       "  1913661670,\n",
       "  2760431498,\n",
       "  473535928,\n",
       "  886428644,\n",
       "  3042733200,\n",
       "  3514611376,\n",
       "  1727272720,\n",
       "  1352272367,\n",
       "  1182350217,\n",
       "  2770160529,\n",
       "  1408757716,\n",
       "  1236436838,\n",
       "  2638114048,\n",
       "  2288958075,\n",
       "  1907848138,\n",
       "  2513183981,\n",
       "  430007381,\n",
       "  1410996817,\n",
       "  2893861882,\n",
       "  93734637,\n",
       "  889812797,\n",
       "  1746269177,\n",
       "  2955589432,\n",
       "  2154616085,\n",
       "  2341907336,\n",
       "  3667241034,\n",
       "  3612199480,\n",
       "  3276336868,\n",
       "  2147135321,\n",
       "  1218242541,\n",
       "  4191308092,\n",
       "  3390432817,\n",
       "  3936122595,\n",
       "  2082616352,\n",
       "  2829353186,\n",
       "  2952040553,\n",
       "  713551976,\n",
       "  2561783586,\n",
       "  1479607462,\n",
       "  3332321760,\n",
       "  1309567703,\n",
       "  22089850,\n",
       "  2486755466,\n",
       "  381044148,\n",
       "  159099040,\n",
       "  388730878,\n",
       "  609513646,\n",
       "  2552905871,\n",
       "  3544022117,\n",
       "  3805737844,\n",
       "  2227334610,\n",
       "  2494928250,\n",
       "  3378607757,\n",
       "  3524817012,\n",
       "  2139887110,\n",
       "  1238988590,\n",
       "  1805829162,\n",
       "  517563348,\n",
       "  3523030613,\n",
       "  2561647659,\n",
       "  2457033094,\n",
       "  110524459,\n",
       "  3060194499,\n",
       "  1371354234,\n",
       "  3106249499,\n",
       "  654135201,\n",
       "  3060697207,\n",
       "  1782090502,\n",
       "  3493197751,\n",
       "  2011962950,\n",
       "  3463067072,\n",
       "  2125293843,\n",
       "  3618129160,\n",
       "  264083333,\n",
       "  1779954467,\n",
       "  2211720346,\n",
       "  4182937327,\n",
       "  2941369992,\n",
       "  3794523672,\n",
       "  1330988599,\n",
       "  234225856,\n",
       "  90287582,\n",
       "  2051877036,\n",
       "  3960155203,\n",
       "  2325302511,\n",
       "  1243082884,\n",
       "  2254641221,\n",
       "  3139095438,\n",
       "  2202182478,\n",
       "  2713924425,\n",
       "  891524757,\n",
       "  4005270835,\n",
       "  387403269,\n",
       "  1030701411,\n",
       "  2326221003,\n",
       "  3972817848,\n",
       "  37068874,\n",
       "  4188732375,\n",
       "  4170743689,\n",
       "  1563571666,\n",
       "  3264605422,\n",
       "  1224007347,\n",
       "  2388878847,\n",
       "  2696076550,\n",
       "  1160443253,\n",
       "  3998214265,\n",
       "  3911940885,\n",
       "  309058713,\n",
       "  1299838128,\n",
       "  301738434,\n",
       "  1868013930,\n",
       "  2026352840,\n",
       "  29203600,\n",
       "  99450731,\n",
       "  2742148479,\n",
       "  1264016868,\n",
       "  2461978269,\n",
       "  3930600891,\n",
       "  158658524,\n",
       "  1095791153,\n",
       "  431156709,\n",
       "  1089146157,\n",
       "  3086708774,\n",
       "  3913479923,\n",
       "  3488886065,\n",
       "  662837957,\n",
       "  512314933,\n",
       "  2687580555,\n",
       "  1640087888,\n",
       "  1842891598,\n",
       "  2484638237,\n",
       "  1503175697,\n",
       "  2919500073,\n",
       "  935426647,\n",
       "  3390674322,\n",
       "  3710660216,\n",
       "  3948785403,\n",
       "  3859267761,\n",
       "  886850881,\n",
       "  3266066614,\n",
       "  2405923502,\n",
       "  1778892505,\n",
       "  1078419801,\n",
       "  1202668153,\n",
       "  394351055,\n",
       "  415838974,\n",
       "  3983768587,\n",
       "  825332883,\n",
       "  3634217853,\n",
       "  1472412051,\n",
       "  1551030949,\n",
       "  931843079,\n",
       "  427180435,\n",
       "  725935900,\n",
       "  4262431060,\n",
       "  939768058,\n",
       "  1301081958,\n",
       "  636087235,\n",
       "  271721944,\n",
       "  2204560285,\n",
       "  2497269100,\n",
       "  2473167459,\n",
       "  21620607,\n",
       "  3335975034,\n",
       "  3517674840,\n",
       "  3222417599,\n",
       "  3447164101,\n",
       "  1339565348,\n",
       "  3349704368,\n",
       "  3857516299,\n",
       "  1095981426,\n",
       "  544959111,\n",
       "  234180808,\n",
       "  2480014075,\n",
       "  3949935942,\n",
       "  1047216236,\n",
       "  589300123,\n",
       "  950190608,\n",
       "  1291006957,\n",
       "  424096100,\n",
       "  1214133370,\n",
       "  2491845264,\n",
       "  1910609750,\n",
       "  515729687,\n",
       "  1468575130,\n",
       "  3508223487,\n",
       "  3358189942,\n",
       "  3760910659,\n",
       "  662492595,\n",
       "  3290816602,\n",
       "  1495146986,\n",
       "  3554891657,\n",
       "  2379549908,\n",
       "  1284425649,\n",
       "  3908438764,\n",
       "  500208693,\n",
       "  370734844,\n",
       "  1862397830,\n",
       "  2496258349,\n",
       "  643941428,\n",
       "  3847013908,\n",
       "  430464089,\n",
       "  757441939,\n",
       "  4234893488,\n",
       "  2402089443,\n",
       "  3885899272,\n",
       "  123955394,\n",
       "  2911486454,\n",
       "  3570245885,\n",
       "  305823305,\n",
       "  3521973682,\n",
       "  1134143933,\n",
       "  1822715901,\n",
       "  3771209687,\n",
       "  3765835594,\n",
       "  503306148,\n",
       "  2350585095,\n",
       "  74213553,\n",
       "  244012694,\n",
       "  802358191,\n",
       "  2625353188,\n",
       "  2628956054,\n",
       "  145736569,\n",
       "  2172920852,\n",
       "  1568086026,\n",
       "  733619507,\n",
       "  145496153,\n",
       "  2787717823,\n",
       "  880654765,\n",
       "  1331585910,\n",
       "  1509465018,\n",
       "  2573573594,\n",
       "  1824150333,\n",
       "  1865181627,\n",
       "  4223844607,\n",
       "  2293788278,\n",
       "  2772801702,\n",
       "  3925583439,\n",
       "  356447406,\n",
       "  2275228672,\n",
       "  1673212648,\n",
       "  2042698565,\n",
       "  551936189,\n",
       "  3909795553,\n",
       "  567834322,\n",
       "  338699308,\n",
       "  2642651442,\n",
       "  3561630650,\n",
       "  3766126637,\n",
       "  274749558,\n",
       "  223928195,\n",
       "  3276818380,\n",
       "  3595671621,\n",
       "  1529598288,\n",
       "  3512135371,\n",
       "  990408170,\n",
       "  2187846354,\n",
       "  952429742,\n",
       "  3852385894,\n",
       "  1322368093,\n",
       "  163246556,\n",
       "  3259930194,\n",
       "  3283300532,\n",
       "  323737423,\n",
       "  1292813868,\n",
       "  3393309894,\n",
       "  3713892438,\n",
       "  1677062690,\n",
       "  2298850951,\n",
       "  1458909664,\n",
       "  1403814726,\n",
       "  2831530730,\n",
       "  4228128557,\n",
       "  3781052071,\n",
       "  925731853,\n",
       "  4201869440,\n",
       "  875580200,\n",
       "  1391612016,\n",
       "  1456821743,\n",
       "  1236774598,\n",
       "  655110906,\n",
       "  2237702866,\n",
       "  2535339850,\n",
       "  3500123217,\n",
       "  1831097575,\n",
       "  2339509975,\n",
       "  3223214024,\n",
       "  3242702888,\n",
       "  3348863740,\n",
       "  4116159753,\n",
       "  2639186856,\n",
       "  1354770100,\n",
       "  117843731,\n",
       "  1020244916,\n",
       "  351111739,\n",
       "  1986396569,\n",
       "  424269361,\n",
       "  2196821979,\n",
       "  2537273993,\n",
       "  1099950039,\n",
       "  2929886044,\n",
       "  2892244184,\n",
       "  1264517853,\n",
       "  203709692,\n",
       "  2382681067,\n",
       "  742099144,\n",
       "  1432956886,\n",
       "  1044385927,\n",
       "  429332988,\n",
       "  3613380401,\n",
       "  49444759,\n",
       "  756116338,\n",
       "  1251280805,\n",
       "  2433090297,\n",
       "  780894170,\n",
       "  323183842,\n",
       "  1323214767,\n",
       "  2433951660,\n",
       "  2719446105,\n",
       "  3017944748,\n",
       "  2520180279,\n",
       "  756337248,\n",
       "  1982568823,\n",
       "  2576088552,\n",
       "  63554701,\n",
       "  1246766315,\n",
       "  308294942,\n",
       "  1783051840,\n",
       "  2559719156,\n",
       "  2508295691,\n",
       "  2220094509,\n",
       "  1885560612,\n",
       "  1389554963,\n",
       "  2409332505,\n",
       "  3551025026,\n",
       "  935038925,\n",
       "  2282550240,\n",
       "  567151253,\n",
       "  1056625473,\n",
       "  1361090054,\n",
       "  1830928174,\n",
       "  1948837568,\n",
       "  604804332,\n",
       "  175213352,\n",
       "  1616532552,\n",
       "  2864856813,\n",
       "  3664285213,\n",
       "  1796704245,\n",
       "  2207154019,\n",
       "  1703148797,\n",
       "  3029510914,\n",
       "  3916216499,\n",
       "  3046424967,\n",
       "  2469057762,\n",
       "  3688516508,\n",
       "  4174594823,\n",
       "  826735065,\n",
       "  3609658778,\n",
       "  2706825366,\n",
       "  1721894425,\n",
       "  4102204064,\n",
       "  2372640683,\n",
       "  873998586,\n",
       "  4645688,\n",
       "  342108091,\n",
       "  1052229759,\n",
       "  2885481328,\n",
       "  3846566736,\n",
       "  2725335273,\n",
       "  3141905149,\n",
       "  1944588128,\n",
       "  3338309352,\n",
       "  1217293365,\n",
       "  758904441,\n",
       "  908714149,\n",
       "  1857017353,\n",
       "  3158344528,\n",
       "  407367111,\n",
       "  1832778363,\n",
       "  2870192017,\n",
       "  195421260,\n",
       "  2082695712,\n",
       "  2299786895,\n",
       "  3924633962,\n",
       "  3816319308,\n",
       "  4174469444,\n",
       "  352017743,\n",
       "  3919653893,\n",
       "  3552084113,\n",
       "  4084281710,\n",
       "  217019257,\n",
       "  2220897032,\n",
       "  2831356070,\n",
       "  517986126,\n",
       "  2126042467,\n",
       "  3500893938,\n",
       "  486038748,\n",
       "  282202472,\n",
       "  62418345,\n",
       "  4243706353,\n",
       "  3034591456,\n",
       "  2928836324,\n",
       "  2433510828,\n",
       "  1171220900,\n",
       "  3151109281,\n",
       "  4133436617,\n",
       "  3496079655,\n",
       "  889039997,\n",
       "  3169404797,\n",
       "  4218370257,\n",
       "  3184524119,\n",
       "  3222673742,\n",
       "  955349275,\n",
       "  2029908831,\n",
       "  410243278,\n",
       "  2276423897,\n",
       "  4200509024,\n",
       "  427092757,\n",
       "  2393598070,\n",
       "  1849682457,\n",
       "  3026238934,\n",
       "  2818453350,\n",
       "  2830402705,\n",
       "  910713912,\n",
       "  1567238953,\n",
       "  2857806016,\n",
       "  4178086031,\n",
       "  3618315352,\n",
       "  2721672244,\n",
       "  1362169819,\n",
       "  2879403111,\n",
       "  944177284,\n",
       "  3409592433,\n",
       "  3148312349,\n",
       "  117073596,\n",
       "  2159545286,\n",
       "  667249336,\n",
       "  442234702,\n",
       "  1437245782,\n",
       "  1195451558,\n",
       "  3555215932,\n",
       "  3898790982,\n",
       "  2775911198,\n",
       "  2796500044,\n",
       "  4192572470,\n",
       "  61910163,\n",
       "  1144565006,\n",
       "  1759081450,\n",
       "  4217561358,\n",
       "  3851781926,\n",
       "  1895855845,\n",
       "  2978681379,\n",
       "  3636215304,\n",
       "  1364798791,\n",
       "  791350095,\n",
       "  1253102225,\n",
       "  2548766165,\n",
       "  4180900150,\n",
       "  1987462070,\n",
       "  1190937574,\n",
       "  312972162,\n",
       "  1033899022,\n",
       "  3652779080,\n",
       "  1460108538,\n",
       "  2200492031,\n",
       "  2596682597,\n",
       "  2194804720,\n",
       "  1702535764,\n",
       "  2371568706,\n",
       "  3426924971,\n",
       "  1084035508,\n",
       "  1270666209,\n",
       "  2966270095,\n",
       "  3594748641,\n",
       "  2314251442,\n",
       "  662353580,\n",
       "  4005784134,\n",
       "  4037513750,\n",
       "  2711695041,\n",
       "  402334646,\n",
       "  906313207,\n",
       "  1781494222,\n",
       "  624),\n",
       " None)"
      ]
     },
     "execution_count": 72,
     "metadata": {},
     "output_type": "execute_result"
    }
   ],
   "source": [
    "random.getstate()"
   ]
  },
  {
   "cell_type": "code",
   "execution_count": 86,
   "metadata": {
    "collapsed": false,
    "deletable": true,
    "editable": true
   },
   "outputs": [
    {
     "name": "stdout",
     "output_type": "stream",
     "text": [
      "20 0b10100\n"
     ]
    }
   ],
   "source": [
    "num = random.getrandbits(5)\n",
    "print(num, bin(num))"
   ]
  },
  {
   "cell_type": "code",
   "execution_count": 93,
   "metadata": {
    "collapsed": false,
    "deletable": true,
    "editable": true
   },
   "outputs": [
    {
     "data": {
      "text/plain": [
       "Counter({0: 90,\n",
       "         1: 103,\n",
       "         2: 95,\n",
       "         3: 92,\n",
       "         4: 124,\n",
       "         5: 90,\n",
       "         6: 102,\n",
       "         7: 91,\n",
       "         8: 116,\n",
       "         9: 97})"
      ]
     },
     "execution_count": 93,
     "metadata": {},
     "output_type": "execute_result"
    }
   ],
   "source": [
    "from collections import Counter\n",
    "Counter((random.randrange(10) for _ in range(1000)))  # randrange is up to n"
   ]
  },
  {
   "cell_type": "code",
   "execution_count": 97,
   "metadata": {
    "collapsed": false,
    "deletable": true,
    "editable": true
   },
   "outputs": [
    {
     "data": {
      "text/plain": [
       "Counter({10: 172, 12: 153, 14: 170, 16: 176, 18: 172, 20: 157})"
      ]
     },
     "execution_count": 97,
     "metadata": {},
     "output_type": "execute_result"
    }
   ],
   "source": [
    "Counter((random.randrange(10, 21, 2) for _ in range(1000)))  # randrange is up to n"
   ]
  },
  {
   "cell_type": "code",
   "execution_count": 100,
   "metadata": {
    "collapsed": false,
    "deletable": true,
    "editable": true
   },
   "outputs": [
    {
     "data": {
      "text/plain": [
       "9"
      ]
     },
     "execution_count": 100,
     "metadata": {},
     "output_type": "execute_result"
    }
   ],
   "source": [
    "random.randrange(10.0)"
   ]
  },
  {
   "cell_type": "code",
   "execution_count": 103,
   "metadata": {
    "collapsed": false,
    "deletable": true,
    "editable": true
   },
   "outputs": [
    {
     "data": {
      "text/plain": [
       "3"
      ]
     },
     "execution_count": 103,
     "metadata": {},
     "output_type": "execute_result"
    }
   ],
   "source": [
    "random.randrange(10.00000000000000000001)"
   ]
  },
  {
   "cell_type": "markdown",
   "metadata": {
    "deletable": true,
    "editable": true
   },
   "source": [
    "Comments: in the above two examples, we can see that when an integer argument is needed for a function but a float is given, if it can be converted to an integer with no loss of information, then it's OK, otherwise, it's going to cause a ValueError, i.e., random.randrange(10.0) is fine yet random.randrange(10.1) is not. However, 10.00000000000000000001 works as well. I think internally the judgement is made by if x == int(x), then the argument is a valid input argument, otherwise, it's truncated and invalid. See the following three examples."
   ]
  },
  {
   "cell_type": "code",
   "execution_count": 104,
   "metadata": {
    "collapsed": false,
    "deletable": true,
    "editable": true
   },
   "outputs": [
    {
     "data": {
      "text/plain": [
       "True"
      ]
     },
     "execution_count": 104,
     "metadata": {},
     "output_type": "execute_result"
    }
   ],
   "source": [
    "10.00000000000000000001 == 10"
   ]
  },
  {
   "cell_type": "code",
   "execution_count": 105,
   "metadata": {
    "collapsed": false,
    "deletable": true,
    "editable": true
   },
   "outputs": [
    {
     "data": {
      "text/plain": [
       "10"
      ]
     },
     "execution_count": 105,
     "metadata": {},
     "output_type": "execute_result"
    }
   ],
   "source": [
    "int(10.00000000000000000001)"
   ]
  },
  {
   "cell_type": "code",
   "execution_count": 106,
   "metadata": {
    "collapsed": false,
    "deletable": true,
    "editable": true
   },
   "outputs": [
    {
     "data": {
      "text/plain": [
       "True"
      ]
     },
     "execution_count": 106,
     "metadata": {},
     "output_type": "execute_result"
    }
   ],
   "source": [
    "10.00000000000000000001 == int(10.00000000000000000001)"
   ]
  },
  {
   "cell_type": "code",
   "execution_count": 108,
   "metadata": {
    "collapsed": false,
    "deletable": true,
    "editable": true
   },
   "outputs": [
    {
     "data": {
      "text/plain": [
       "12"
      ]
     },
     "execution_count": 108,
     "metadata": {},
     "output_type": "execute_result"
    }
   ],
   "source": [
    "# alias for random.randrange(a, b+1), this is inclusive \n",
    "# on both ends, randrange is inclusive on the left\n",
    "random.randint(10, 20)"
   ]
  },
  {
   "cell_type": "code",
   "execution_count": 110,
   "metadata": {
    "collapsed": false,
    "deletable": true,
    "editable": true
   },
   "outputs": [
    {
     "data": {
      "text/plain": [
       "'apple'"
      ]
     },
     "execution_count": 110,
     "metadata": {},
     "output_type": "execute_result"
    }
   ],
   "source": [
    "l0 = ['apple', 'orange', 'watermelon', 'flower']\n",
    "random.choice(l0)"
   ]
  },
  {
   "cell_type": "code",
   "execution_count": 113,
   "metadata": {
    "collapsed": false,
    "deletable": true,
    "editable": true
   },
   "outputs": [
    {
     "ename": "AttributeError",
     "evalue": "module 'random' has no attribute 'choices'",
     "output_type": "error",
     "traceback": [
      "\u001b[0;31m---------------------------------------------------------------------------\u001b[0m",
      "\u001b[0;31mAttributeError\u001b[0m                            Traceback (most recent call last)",
      "\u001b[0;32m<ipython-input-113-830dab58f43b>\u001b[0m in \u001b[0;36m<module>\u001b[0;34m()\u001b[0m\n\u001b[0;32m----> 1\u001b[0;31m \u001b[0mrandom\u001b[0m\u001b[0;34m.\u001b[0m\u001b[0mchoices\u001b[0m\u001b[0;34m(\u001b[0m\u001b[0ml0\u001b[0m\u001b[0;34m,\u001b[0m \u001b[0mweights\u001b[0m\u001b[0;34m=\u001b[0m\u001b[0;34m[\u001b[0m\u001b[0;36m1\u001b[0m\u001b[0;34m,\u001b[0m \u001b[0;36m2\u001b[0m\u001b[0;34m,\u001b[0m \u001b[0;36m3\u001b[0m\u001b[0;34m,\u001b[0m \u001b[0;36m4\u001b[0m\u001b[0;34m]\u001b[0m\u001b[0;34m,\u001b[0m \u001b[0mk\u001b[0m \u001b[0;34m=\u001b[0m \u001b[0;36m2\u001b[0m\u001b[0;34m)\u001b[0m\u001b[0;34m\u001b[0m\u001b[0m\n\u001b[0m",
      "\u001b[0;31mAttributeError\u001b[0m: module 'random' has no attribute 'choices'"
     ]
    }
   ],
   "source": [
    "random.choices(l0, weights=[1, 2, 3, 4], k = 2)  # This is in 3.6.1"
   ]
  },
  {
   "cell_type": "code",
   "execution_count": 117,
   "metadata": {
    "collapsed": false,
    "deletable": true,
    "editable": true
   },
   "outputs": [
    {
     "name": "stdout",
     "output_type": "stream",
     "text": [
      "3.6.0a1 (v3.6.0a1:5896da372fb0, May 16 2016, 15:20:48) \n",
      "[GCC 4.2.1 (Apple Inc. build 5666) (dot 3)]\n"
     ]
    }
   ],
   "source": [
    "print(sys.version)"
   ]
  },
  {
   "cell_type": "code",
   "execution_count": 119,
   "metadata": {
    "collapsed": false,
    "deletable": true,
    "editable": true
   },
   "outputs": [
    {
     "name": "stdout",
     "output_type": "stream",
     "text": [
      "['orange', 'apple', 'flower', 'watermelon']\n"
     ]
    }
   ],
   "source": [
    "random.shuffle(l0)  # in-place\n",
    "print(l0)"
   ]
  },
  {
   "cell_type": "code",
   "execution_count": 124,
   "metadata": {
    "collapsed": false,
    "deletable": true,
    "editable": true
   },
   "outputs": [
    {
     "name": "stdout",
     "output_type": "stream",
     "text": [
      "['orange', 'flower']\n",
      "['watermelon', 'flower']\n",
      "['flower', 'watermelon']\n",
      "['flower', 'orange']\n",
      "['flower', 'apple']\n",
      "['apple', 'flower']\n",
      "['flower', 'watermelon']\n",
      "['flower', 'watermelon']\n",
      "['apple', 'flower']\n",
      "['flower', 'apple']\n"
     ]
    }
   ],
   "source": [
    "for i in (random.sample(l0, 2) for _ in range(10)): print(i)"
   ]
  },
  {
   "cell_type": "code",
   "execution_count": 128,
   "metadata": {
    "collapsed": false,
    "deletable": true,
    "editable": true
   },
   "outputs": [
    {
     "name": "stdout",
     "output_type": "stream",
     "text": [
      "0.6964169364205693\n",
      "0.3834900993002106\n",
      "0.48393403266835777\n",
      "0.21054343162211342\n",
      "0.529814477334562\n"
     ]
    }
   ],
   "source": [
    "# uniform distribution, different from np.random.random()\n",
    "for i in (random.random() for _ in range(5)): print(i)"
   ]
  },
  {
   "cell_type": "code",
   "execution_count": 130,
   "metadata": {
    "collapsed": false,
    "deletable": true,
    "editable": true
   },
   "outputs": [
    {
     "name": "stdout",
     "output_type": "stream",
     "text": [
      "0.7027098763930745\n",
      "0.40964444529507127\n",
      "0.6911482988316469\n",
      "0.30951020837190746\n",
      "0.4903382875805682\n"
     ]
    }
   ],
   "source": [
    "# uniform distribution by numpy, looks very similar\n",
    "import numpy as np\n",
    "for i in (np.random.random() for _ in range(5)): print(i)"
   ]
  },
  {
   "cell_type": "code",
   "execution_count": 131,
   "metadata": {
    "collapsed": false,
    "deletable": true,
    "editable": true
   },
   "outputs": [
    {
     "name": "stdout",
     "output_type": "stream",
     "text": [
      "1.487011511194373\n",
      "1.9050696016488207\n",
      "1.1068059547483078\n",
      "1.1893548096573734\n",
      "1.0093598794550709\n"
     ]
    }
   ],
   "source": [
    "for i in (np.random.uniform(1, 2) for _ in range(5)): print(i)"
   ]
  },
  {
   "cell_type": "code",
   "execution_count": 133,
   "metadata": {
    "collapsed": false,
    "deletable": true,
    "editable": true
   },
   "outputs": [
    {
     "name": "stdout",
     "output_type": "stream",
     "text": [
      "0.44123501412234006\n",
      "0.4019031417635792\n",
      "0.2658649571276126\n",
      "0.0415238044917235\n",
      "0.14931380270119224\n"
     ]
    }
   ],
   "source": [
    "for i in (random.betavariate(1, 2) for _ in range(5)): print(i)"
   ]
  },
  {
   "cell_type": "markdown",
   "metadata": {
    "deletable": true,
    "editable": true
   },
   "source": [
    "**Other the uniform distribution, the other well-known distributions are redudant in their names with the variate post-fix. Therefore, a decision is made not to use the random number generator in the random package except the basic sampling and uniform distribution.**\n",
    "\n",
    "This concludes the study of the random package. The next is the math package. Usually, the sqrt function is used which is also a built-in function. Here I think the advantage of using math module is 1) readability: people can see clearly where this function sqrt comes from, even though people know there's a built-in function, however, it can also mean a self-defined sqrt function which overwrites the default one, 2) convenience: other mathematical functions can be also loaded at the same time and there's no reason to seperate the usage of math.sqrt with math.power, etc. To be consistent, unless only the sqrt function is used in a quick calculation, it's also recommended to use math.sqrt."
   ]
  },
  {
   "cell_type": "code",
   "execution_count": 134,
   "metadata": {
    "collapsed": true,
    "deletable": true,
    "editable": true
   },
   "outputs": [],
   "source": [
    "import math"
   ]
  },
  {
   "cell_type": "code",
   "execution_count": 135,
   "metadata": {
    "collapsed": false,
    "deletable": true,
    "editable": true
   },
   "outputs": [
    {
     "data": {
      "text/plain": [
       "3.5342983388109106"
      ]
     },
     "execution_count": 135,
     "metadata": {},
     "output_type": "execute_result"
    }
   ],
   "source": [
    "x = random.uniform(1, 10)\n",
    "x"
   ]
  },
  {
   "cell_type": "code",
   "execution_count": 136,
   "metadata": {
    "collapsed": false,
    "deletable": true,
    "editable": true
   },
   "outputs": [
    {
     "data": {
      "text/plain": [
       "4"
      ]
     },
     "execution_count": 136,
     "metadata": {},
     "output_type": "execute_result"
    }
   ],
   "source": [
    "math.ceil(x)"
   ]
  },
  {
   "cell_type": "code",
   "execution_count": 137,
   "metadata": {
    "collapsed": false,
    "deletable": true,
    "editable": true
   },
   "outputs": [
    {
     "data": {
      "text/plain": [
       "3"
      ]
     },
     "execution_count": 137,
     "metadata": {},
     "output_type": "execute_result"
    }
   ],
   "source": [
    "math.floor(x)"
   ]
  },
  {
   "cell_type": "code",
   "execution_count": 138,
   "metadata": {
    "collapsed": false,
    "deletable": true,
    "editable": true
   },
   "outputs": [
    {
     "ename": "AttributeError",
     "evalue": "module 'math' has no attribute 'abs'",
     "output_type": "error",
     "traceback": [
      "\u001b[0;31m---------------------------------------------------------------------------\u001b[0m",
      "\u001b[0;31mAttributeError\u001b[0m                            Traceback (most recent call last)",
      "\u001b[0;32m<ipython-input-138-e53f45e5fc24>\u001b[0m in \u001b[0;36m<module>\u001b[0;34m()\u001b[0m\n\u001b[0;32m----> 1\u001b[0;31m \u001b[0mmath\u001b[0m\u001b[0;34m.\u001b[0m\u001b[0mabs\u001b[0m\u001b[0;34m(\u001b[0m\u001b[0mx\u001b[0m\u001b[0;34m)\u001b[0m\u001b[0;34m\u001b[0m\u001b[0m\n\u001b[0m",
      "\u001b[0;31mAttributeError\u001b[0m: module 'math' has no attribute 'abs'"
     ]
    }
   ],
   "source": [
    "math.fabs(x)"
   ]
  },
  {
   "cell_type": "markdown",
   "metadata": {
    "deletable": true,
    "editable": true
   },
   "source": [
    "- abs <=> math.fabs\n",
    "- sqrt <=> math.sqrt\n",
    "- pow <=> math.pow\n",
    "- sum <=> math.fsum # the later is more accurate\n",
    "- np.pi <=> math.pi\n",
    "- np.isnan <=> math.isnan\n",
    "- np.e <=> math.e\n",
    "\n",
    "I think many modules have overlap for convenience and completeness. This further illustrates the importance of adding the module identifier before functions or constants to show the origins.\n"
   ]
  },
  {
   "cell_type": "code",
   "execution_count": 142,
   "metadata": {
    "collapsed": false,
    "deletable": true,
    "editable": true
   },
   "outputs": [
    {
     "data": {
      "text/plain": [
       "1.0"
      ]
     },
     "execution_count": 142,
     "metadata": {},
     "output_type": "execute_result"
    }
   ],
   "source": [
    "math.pow(1, 2)"
   ]
  },
  {
   "cell_type": "code",
   "execution_count": 143,
   "metadata": {
    "collapsed": false,
    "deletable": true,
    "editable": true
   },
   "outputs": [
    {
     "data": {
      "text/plain": [
       "(0.625, 5)"
      ]
     },
     "execution_count": 143,
     "metadata": {},
     "output_type": "execute_result"
    }
   ],
   "source": [
    "math.frexp(20)  # 20 = 0.625 * 2 ** 5"
   ]
  },
  {
   "cell_type": "code",
   "execution_count": 144,
   "metadata": {
    "collapsed": false,
    "deletable": true,
    "editable": true
   },
   "outputs": [
    {
     "data": {
      "text/plain": [
       "1"
      ]
     },
     "execution_count": 144,
     "metadata": {},
     "output_type": "execute_result"
    }
   ],
   "source": [
    "math.gcd(2, 5)"
   ]
  },
  {
   "cell_type": "code",
   "execution_count": 146,
   "metadata": {
    "collapsed": false,
    "deletable": true,
    "editable": true
   },
   "outputs": [
    {
     "data": {
      "text/plain": [
       "3"
      ]
     },
     "execution_count": 146,
     "metadata": {},
     "output_type": "execute_result"
    }
   ],
   "source": [
    "math.gcd(12, 15)  # greatest common divisor"
   ]
  },
  {
   "cell_type": "code",
   "execution_count": 151,
   "metadata": {
    "collapsed": false,
    "deletable": true,
    "editable": true
   },
   "outputs": [
    {
     "data": {
      "text/plain": [
       "True"
      ]
     },
     "execution_count": 151,
     "metadata": {},
     "output_type": "execute_result"
    }
   ],
   "source": [
    "math.isclose(1, 1+1e-10)"
   ]
  },
  {
   "cell_type": "code",
   "execution_count": 153,
   "metadata": {
    "collapsed": false,
    "deletable": true,
    "editable": true
   },
   "outputs": [
    {
     "data": {
      "text/plain": [
       "False"
      ]
     },
     "execution_count": 153,
     "metadata": {},
     "output_type": "execute_result"
    }
   ],
   "source": [
    "math.isfinite(math.inf)"
   ]
  },
  {
   "cell_type": "code",
   "execution_count": 154,
   "metadata": {
    "collapsed": false,
    "deletable": true,
    "editable": true
   },
   "outputs": [
    {
     "data": {
      "text/plain": [
       "True"
      ]
     },
     "execution_count": 154,
     "metadata": {},
     "output_type": "execute_result"
    }
   ],
   "source": [
    "math.isfinite(12)"
   ]
  },
  {
   "cell_type": "code",
   "execution_count": 155,
   "metadata": {
    "collapsed": false,
    "deletable": true,
    "editable": true
   },
   "outputs": [
    {
     "data": {
      "text/plain": [
       "True"
      ]
     },
     "execution_count": 155,
     "metadata": {},
     "output_type": "execute_result"
    }
   ],
   "source": [
    "math.isinf(math.inf)"
   ]
  },
  {
   "cell_type": "code",
   "execution_count": 157,
   "metadata": {
    "collapsed": false,
    "deletable": true,
    "editable": true
   },
   "outputs": [
    {
     "data": {
      "text/plain": [
       "True"
      ]
     },
     "execution_count": 157,
     "metadata": {},
     "output_type": "execute_result"
    }
   ],
   "source": [
    "math.isnan(np.nan)  # NaN: not a number"
   ]
  },
  {
   "cell_type": "code",
   "execution_count": 160,
   "metadata": {
    "collapsed": false,
    "deletable": true,
    "editable": true
   },
   "outputs": [
    {
     "name": "stdout",
     "output_type": "stream",
     "text": [
      "0.123 1.0\n"
     ]
    }
   ],
   "source": [
    "f, i = math.modf(1.123)\n",
    "print(f, i)"
   ]
  },
  {
   "cell_type": "code",
   "execution_count": 162,
   "metadata": {
    "collapsed": false,
    "deletable": true,
    "editable": true
   },
   "outputs": [
    {
     "data": {
      "text/plain": [
       "1"
      ]
     },
     "execution_count": 162,
     "metadata": {},
     "output_type": "execute_result"
    }
   ],
   "source": [
    "math.trunc(1.123)"
   ]
  },
  {
   "cell_type": "code",
   "execution_count": 163,
   "metadata": {
    "collapsed": false,
    "deletable": true,
    "editable": true
   },
   "outputs": [
    {
     "data": {
      "text/plain": [
       "162754.79141900392"
      ]
     },
     "execution_count": 163,
     "metadata": {},
     "output_type": "execute_result"
    }
   ],
   "source": [
    "math.exp(12)"
   ]
  },
  {
   "cell_type": "code",
   "execution_count": 164,
   "metadata": {
    "collapsed": false,
    "deletable": true,
    "editable": true
   },
   "outputs": [
    {
     "data": {
      "text/plain": [
       "0.26236426446749106"
      ]
     },
     "execution_count": 164,
     "metadata": {},
     "output_type": "execute_result"
    }
   ],
   "source": [
    "math.log(1.3)"
   ]
  },
  {
   "cell_type": "markdown",
   "metadata": {
    "deletable": true,
    "editable": true
   },
   "source": [
    "There's no exp, log, in the built-in functions."
   ]
  },
  {
   "cell_type": "code",
   "execution_count": 167,
   "metadata": {
    "collapsed": false,
    "deletable": true,
    "editable": true
   },
   "outputs": [
    {
     "data": {
      "text/plain": [
       "1.2630344058337937"
      ]
     },
     "execution_count": 167,
     "metadata": {},
     "output_type": "execute_result"
    }
   ],
   "source": [
    "math.log2(2.4)"
   ]
  },
  {
   "cell_type": "code",
   "execution_count": 168,
   "metadata": {
    "collapsed": false,
    "deletable": true,
    "editable": true
   },
   "outputs": [
    {
     "data": {
      "text/plain": [
       "1.3010299956639813"
      ]
     },
     "execution_count": 168,
     "metadata": {},
     "output_type": "execute_result"
    }
   ],
   "source": [
    "math.log10(20)"
   ]
  },
  {
   "cell_type": "code",
   "execution_count": 169,
   "metadata": {
    "collapsed": false,
    "deletable": true,
    "editable": true
   },
   "outputs": [
    {
     "data": {
      "text/plain": [
       "-0.9880316240928618"
      ]
     },
     "execution_count": 169,
     "metadata": {},
     "output_type": "execute_result"
    }
   ],
   "source": [
    "math.sin(30)"
   ]
  },
  {
   "cell_type": "code",
   "execution_count": 170,
   "metadata": {
    "collapsed": false,
    "deletable": true,
    "editable": true
   },
   "outputs": [
    {
     "data": {
      "text/plain": [
       "0.49999999999999994"
      ]
     },
     "execution_count": 170,
     "metadata": {},
     "output_type": "execute_result"
    }
   ],
   "source": [
    "math.sin(math.radians(30))"
   ]
  },
  {
   "cell_type": "code",
   "execution_count": 171,
   "metadata": {
    "collapsed": false,
    "deletable": true,
    "editable": true
   },
   "outputs": [
    {
     "data": {
      "text/plain": [
       "57.29577951308232"
      ]
     },
     "execution_count": 171,
     "metadata": {},
     "output_type": "execute_result"
    }
   ],
   "source": [
    "math.degrees(1)"
   ]
  },
  {
   "cell_type": "code",
   "execution_count": 172,
   "metadata": {
    "collapsed": false,
    "deletable": true,
    "editable": true
   },
   "outputs": [
    {
     "data": {
      "text/plain": [
       "180.0"
      ]
     },
     "execution_count": 172,
     "metadata": {},
     "output_type": "execute_result"
    }
   ],
   "source": [
    "math.degrees(math.pi)"
   ]
  },
  {
   "cell_type": "code",
   "execution_count": 173,
   "metadata": {
    "collapsed": false,
    "deletable": true,
    "editable": true
   },
   "outputs": [
    {
     "data": {
      "text/plain": [
       "180.0"
      ]
     },
     "execution_count": 173,
     "metadata": {},
     "output_type": "execute_result"
    }
   ],
   "source": [
    "math.degrees(np.pi)"
   ]
  },
  {
   "cell_type": "code",
   "execution_count": 174,
   "metadata": {
    "collapsed": false,
    "deletable": true,
    "editable": true
   },
   "outputs": [
    {
     "data": {
      "text/plain": [
       "True"
      ]
     },
     "execution_count": 174,
     "metadata": {},
     "output_type": "execute_result"
    }
   ],
   "source": [
    "np.isnan(np.nan)"
   ]
  },
  {
   "cell_type": "code",
   "execution_count": 175,
   "metadata": {
    "collapsed": false,
    "deletable": true,
    "editable": true
   },
   "outputs": [
    {
     "data": {
      "text/plain": [
       "2.718281828459045"
      ]
     },
     "execution_count": 175,
     "metadata": {},
     "output_type": "execute_result"
    }
   ],
   "source": [
    "math.e"
   ]
  },
  {
   "cell_type": "code",
   "execution_count": 176,
   "metadata": {
    "collapsed": false,
    "deletable": true,
    "editable": true
   },
   "outputs": [
    {
     "data": {
      "text/plain": [
       "2.718281828459045"
      ]
     },
     "execution_count": 176,
     "metadata": {},
     "output_type": "execute_result"
    }
   ],
   "source": [
    "np.e"
   ]
  },
  {
   "cell_type": "code",
   "execution_count": 177,
   "metadata": {
    "collapsed": false,
    "deletable": true,
    "editable": true
   },
   "outputs": [
    {
     "data": {
      "text/plain": [
       "3.141592653589793"
      ]
     },
     "execution_count": 177,
     "metadata": {},
     "output_type": "execute_result"
    }
   ],
   "source": [
    "np.pi"
   ]
  },
  {
   "cell_type": "code",
   "execution_count": 178,
   "metadata": {
    "collapsed": false,
    "deletable": true,
    "editable": true
   },
   "outputs": [
    {
     "data": {
      "text/plain": [
       "3.141592653589793"
      ]
     },
     "execution_count": 178,
     "metadata": {},
     "output_type": "execute_result"
    }
   ],
   "source": [
    "math.pi"
   ]
  },
  {
   "cell_type": "code",
   "execution_count": 180,
   "metadata": {
    "collapsed": false,
    "deletable": true,
    "editable": true
   },
   "outputs": [
    {
     "data": {
      "text/plain": [
       "0.842700792949715"
      ]
     },
     "execution_count": 180,
     "metadata": {},
     "output_type": "execute_result"
    }
   ],
   "source": [
    "math.erf(1)"
   ]
  },
  {
   "cell_type": "code",
   "execution_count": 185,
   "metadata": {
    "collapsed": false,
    "deletable": true,
    "editable": true
   },
   "outputs": [
    {
     "name": "stdout",
     "output_type": "stream",
     "text": [
      "0.5095736956460306\n"
     ]
    }
   ],
   "source": [
    "def phi(x):\n",
    "    'Cumulative distribution function for the standard normal distribution'\n",
    "    return (1.0 + math.erf(x / math.sqrt(2.0))) / 2.0\n",
    "\n",
    "print(phi(0.024))"
   ]
  },
  {
   "cell_type": "markdown",
   "metadata": {
    "deletable": true,
    "editable": true
   },
   "source": [
    "**This concludes the math module. This clarifies the overlaps of the modules and illustrates the uniqueness and advantage of this math module.**"
   ]
  },
  {
   "cell_type": "code",
   "execution_count": null,
   "metadata": {
    "collapsed": true,
    "deletable": true,
    "editable": true
   },
   "outputs": [],
   "source": []
  }
 ],
 "metadata": {
  "kernelspec": {
   "display_name": "Python 3",
   "language": "python",
   "name": "python3"
  },
  "language_info": {
   "codemirror_mode": {
    "name": "ipython",
    "version": 3
   },
   "file_extension": ".py",
   "mimetype": "text/x-python",
   "name": "python",
   "nbconvert_exporter": "python",
   "pygments_lexer": "ipython3",
   "version": "3.6.0a1"
  }
 },
 "nbformat": 4,
 "nbformat_minor": 2
}
