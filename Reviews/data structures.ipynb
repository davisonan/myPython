{
 "cells": [
  {
   "cell_type": "markdown",
   "metadata": {},
   "source": [
    "# Data structures\n",
    "## HashTable\n",
    "## Queue\n",
    "## Stack\n",
    "## Set\n",
    "## Dictionary"
   ]
  },
  {
   "cell_type": "markdown",
   "metadata": {},
   "source": [
    "## [HashTable](https://en.wikipedia.org/wiki/Hash_table)\n",
    "- A hash function is used to hash the key to create a hash value.\n",
    "- The hashed value will then be used as the address of the bucket to store the value.\n",
    "- A well-designed hash function should return uniformly distributed hashed values.\n",
    "- A similar problem to the birthday problem would occur.\n",
    "- Even $2450$ keys with $1000000$ buckets would have more than 95% chance to have a collision.\n",
    "- The typical solution is to use linked list for the hashed value with collision.\n",
    "- Rather than a constant searching time, now it's the average searching time of the linked list."
   ]
  },
  {
   "cell_type": "markdown",
   "metadata": {},
   "source": [
    "# Queue"
   ]
  }
 ],
 "metadata": {
  "kernelspec": {
   "display_name": "Python 3",
   "language": "python",
   "name": "python3"
  },
  "language_info": {
   "codemirror_mode": {
    "name": "ipython",
    "version": 3
   },
   "file_extension": ".py",
   "mimetype": "text/x-python",
   "name": "python",
   "nbconvert_exporter": "python",
   "pygments_lexer": "ipython3",
   "version": "3.6.0a1"
  }
 },
 "nbformat": 4,
 "nbformat_minor": 2
}
