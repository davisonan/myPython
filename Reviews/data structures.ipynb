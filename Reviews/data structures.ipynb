{
 "cells": [
  {
   "cell_type": "markdown",
   "metadata": {
    "deletable": true,
    "editable": true
   },
   "source": [
    "# Data structures\n",
    "## HashTable\n",
    "## Queue\n",
    "## Stack\n",
    "## Set\n",
    "## Dictionary"
   ]
  },
  {
   "cell_type": "markdown",
   "metadata": {
    "deletable": true,
    "editable": true
   },
   "source": [
    "## [HashTable](https://en.wikipedia.org/wiki/Hash_table)\n",
    "- A hash function is used to hash the key to create a hash value.\n",
    "- The hashed value will then be used as the address of the bucket to store the value.\n",
    "- A well-designed hash function should return uniformly distributed hashed values.\n",
    "- A similar problem to the birthday problem would occur.\n",
    "- Even $2450$ keys with $1000000$ buckets would have more than 95% chance to have a collision.\n",
    "- The typical solution is to use linked list for the hashed value with collision.\n",
    "- Rather than a constant searching time, now it's the average searching time of the linked list."
   ]
  },
  {
   "cell_type": "markdown",
   "metadata": {
    "deletable": true,
    "editable": true
   },
   "source": [
    "# Queue"
   ]
  },
  {
   "cell_type": "markdown",
   "metadata": {},
   "source": []
  },
  {
   "cell_type": "code",
   "execution_count": 2,
   "metadata": {
    "collapsed": false
   },
   "outputs": [],
   "source": [
    "# deque: A study about deque data structure\n",
    "from collections import deque\n",
    "class foo(object):\n",
    "\tdef __init__(self, id):\n",
    "\t\tself.id = id\n",
    "\tdef setID(self, newID):\n",
    "\t\tself.id = newID\n",
    "\tdef getID(self):\n",
    "\t\treturn self.id\n",
    "\n",
    "aDq = deque([])\n",
    "f1 = foo(1)\n",
    "f2 = foo(2)\n",
    "f3 = foo(3)\n",
    "aDq.append(f1)\n",
    "aDq.append(f2)\n",
    "aDq.append(f3)\n",
    "ff2 = aDq[1]\n",
    "aDq[1].setID(20)\n",
    "aDq[1].getID()\n",
    "aDq.remove(ff2)"
   ]
  },
  {
   "cell_type": "markdown",
   "metadata": {},
   "source": [
    "My concern about Python is about list, like copying stuff."
   ]
  },
  {
   "cell_type": "code",
   "execution_count": 7,
   "metadata": {
    "collapsed": false
   },
   "outputs": [
    {
     "data": {
      "text/plain": [
       "[1, 4, 3]"
      ]
     },
     "execution_count": 7,
     "metadata": {},
     "output_type": "execute_result"
    }
   ],
   "source": [
    "l1 = [1, 2, 3]\n",
    "l2 = l1  # l2 is an alias of l1, not a copy.\n",
    "l2[1] = 4\n",
    "l1"
   ]
  },
  {
   "cell_type": "code",
   "execution_count": 8,
   "metadata": {
    "collapsed": false
   },
   "outputs": [
    {
     "data": {
      "text/plain": [
       "True"
      ]
     },
     "execution_count": 8,
     "metadata": {},
     "output_type": "execute_result"
    }
   ],
   "source": [
    "l1 is l2"
   ]
  },
  {
   "cell_type": "code",
   "execution_count": 9,
   "metadata": {
    "collapsed": false
   },
   "outputs": [
    {
     "data": {
      "text/plain": [
       "[1, 2, 3]"
      ]
     },
     "execution_count": 9,
     "metadata": {},
     "output_type": "execute_result"
    }
   ],
   "source": [
    "l1 = [1, 2, 3]\n",
    "l2 = l1.copy()  # l2 is a copy, l1 and l2 are different\n",
    "l2[1] = 4\n",
    "l1"
   ]
  },
  {
   "cell_type": "code",
   "execution_count": 11,
   "metadata": {
    "collapsed": false
   },
   "outputs": [
    {
     "data": {
      "text/plain": [
       "[1, 4, 3]"
      ]
     },
     "execution_count": 11,
     "metadata": {},
     "output_type": "execute_result"
    }
   ],
   "source": [
    "l2"
   ]
  },
  {
   "cell_type": "code",
   "execution_count": 10,
   "metadata": {
    "collapsed": false
   },
   "outputs": [
    {
     "data": {
      "text/plain": [
       "False"
      ]
     },
     "execution_count": 10,
     "metadata": {},
     "output_type": "execute_result"
    }
   ],
   "source": [
    "l1 is l2"
   ]
  },
  {
   "cell_type": "code",
   "execution_count": 12,
   "metadata": {
    "collapsed": false
   },
   "outputs": [
    {
     "name": "stdout",
     "output_type": "stream",
     "text": [
      "hello\n"
     ]
    }
   ],
   "source": [
    "# class\n",
    "\n",
    "class foo(object):\n",
    "    def __init__(self, aStr):\n",
    "        self.str = aStr\n",
    "    def setStr(self, aStr):\n",
    "        self.str = aStr\n",
    "    def getStr(self):\n",
    "        return self.str\n",
    "\n",
    "class bar(object):\n",
    "    def __init__(self):\n",
    "        self.line = []\n",
    "        aFoo = foo('hello')\n",
    "        self.line.append(aFoo)\n",
    "    def __str__(self):\n",
    "        return self.line.pop().getStr()\n",
    "\n",
    "b1 = bar()\n",
    "print(b1)"
   ]
  },
  {
   "cell_type": "code",
   "execution_count": null,
   "metadata": {
    "collapsed": true
   },
   "outputs": [],
   "source": []
  }
 ],
 "metadata": {
  "kernelspec": {
   "display_name": "Python 3",
   "language": "python",
   "name": "python3"
  },
  "language_info": {
   "codemirror_mode": {
    "name": "ipython",
    "version": 3
   },
   "file_extension": ".py",
   "mimetype": "text/x-python",
   "name": "python",
   "nbconvert_exporter": "python",
   "pygments_lexer": "ipython3",
   "version": "3.6.0a1"
  }
 },
 "nbformat": 4,
 "nbformat_minor": 2
}
