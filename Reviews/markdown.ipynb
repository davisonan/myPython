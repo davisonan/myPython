{
 "cells": [
  {
   "cell_type": "markdown",
   "metadata": {},
   "source": [
    "# Title\n",
    "## subtitle\n",
    "### subsubtitle\n",
    "\n",
    "\n",
    "**Bold**\n",
    "\n",
    "__Bold__\n",
    "\n",
    "*Italic*\n",
    "\n",
    "_Italic_\n",
    "\n",
    "[link](http://jupyter-notebook.readthedocs.io/en/latest/examples/Notebook/Working%20With%20Markdown%20Cells.html)\n",
    "\n",
    "- Item 1\n",
    "- Item 2\n",
    "\n",
    "Seperation\n",
    "\n",
    "1. Item 1\n",
    "2. Item 2\n",
    "\n",
    "\n",
    "Embed a math equation in text $a=b^2+\\sqrt{c}$. \n",
    "\n",
    "Display a math equation on its own line:\n",
    "$$f(x) = ax^3-4, x \\in (-10, 10)$$"
   ]
  },
  {
   "cell_type": "markdown",
   "metadata": {},
   "source": [
    "<pre>\n",
    "```python\n",
    "print(\"Hello World\")\n",
    "```\n",
    "</pre>\n"
   ]
  },
  {
   "cell_type": "markdown",
   "metadata": {},
   "source": [
    "<pre>\n",
    "```\n",
    "\n",
    "| This | is   |\n",
    "|------|------|\n",
    "|   a  | table|\n",
    "\n",
    "```\n",
    "</pre>"
   ]
  },
  {
   "cell_type": "markdown",
   "metadata": {},
   "source": [
    "A First Level Header\n",
    "====================\n",
    "\n",
    "A Second Level Header\n",
    "---------------------\n",
    "\n",
    "Now is the time for all good men to come to\n",
    "the aid of their country. This is just a\n",
    "regular paragraph.\n",
    "\n",
    "The quick brown fox jumped over the lazy\n",
    "dog's back.\n",
    "\n",
    "### Header 3\n",
    "\n",
    "> This is a blockquote.\n",
    "> \n",
    "> This is the second paragraph in the blockquote.\n",
    ">\n",
    "> ## This is an H2 in a blockquote"
   ]
  },
  {
   "cell_type": "markdown",
   "metadata": {},
   "source": [
    "* A list\n",
    "    \n",
    "    hello world\n",
    "\n",
    "* B list"
   ]
  },
  {
   "cell_type": "markdown",
   "metadata": {},
   "source": [
    "Text is squared bracketed, and link is parathesized. [Text](www.helloworld.com)"
   ]
  },
  {
   "cell_type": "markdown",
   "metadata": {},
   "source": [
    "\n",
    "I get 10 times more traffic from [Google][1] than from\n",
    "[Yahoo][2] or [MSN][3].\n",
    "\n",
    "[1]: http://google.com/        \"Google\"\n",
    "[2]: http://search.yahoo.com/  \"Yahoo Search\"\n",
    "[3]: http://search.msn.com/    \"MSN Search\""
   ]
  },
  {
   "cell_type": "markdown",
   "metadata": {},
   "source": [
    "More details in using Markdown in iPython Notebook can be found [here](http://daringfireball.net/projects/markdown/)."
   ]
  },
  {
   "cell_type": "code",
   "execution_count": null,
   "metadata": {
    "collapsed": true
   },
   "outputs": [],
   "source": []
  }
 ],
 "metadata": {
  "kernelspec": {
   "display_name": "Python 3",
   "language": "python",
   "name": "python3"
  },
  "language_info": {
   "codemirror_mode": {
    "name": "ipython",
    "version": 3
   },
   "file_extension": ".py",
   "mimetype": "text/x-python",
   "name": "python",
   "nbconvert_exporter": "python",
   "pygments_lexer": "ipython3",
   "version": "3.6.0a1"
  }
 },
 "nbformat": 4,
 "nbformat_minor": 2
}
