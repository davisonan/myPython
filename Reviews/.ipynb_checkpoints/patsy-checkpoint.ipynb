{
 "cells": [
  {
   "cell_type": "code",
   "execution_count": 12,
   "metadata": {
    "collapsed": true
   },
   "outputs": [],
   "source": [
    "import numpy as np\n",
    "from patsy import dmatrices, dmatrix, demo_data"
   ]
  },
  {
   "cell_type": "code",
   "execution_count": 5,
   "metadata": {
    "collapsed": false
   },
   "outputs": [],
   "source": [
    "data = demo_data(\"a\", \"b\", \"x1\", \"x2\", \"y\", \"z column\")"
   ]
  },
  {
   "cell_type": "code",
   "execution_count": 7,
   "metadata": {
    "collapsed": false
   },
   "outputs": [
    {
     "data": {
      "text/plain": [
       "(DesignMatrix with shape (8, 1)\n",
       "          y\n",
       "    1.49408\n",
       "   -0.20516\n",
       "    0.31307\n",
       "   -0.85410\n",
       "   -2.55299\n",
       "    0.65362\n",
       "    0.86444\n",
       "   -0.74217\n",
       "   Terms:\n",
       "     'y' (column 0),\n",
       " DesignMatrix with shape (8, 6)\n",
       "   Intercept  a[T.a2]  b[T.b2]  a[T.a2]:b[T.b2]        x1        x2\n",
       "           1        0        0                0   1.76405  -0.10322\n",
       "           1        0        1                0   0.40016   0.41060\n",
       "           1        1        0                0   0.97874   0.14404\n",
       "           1        1        1                1   2.24089   1.45427\n",
       "           1        0        0                0   1.86756   0.76104\n",
       "           1        0        1                0  -0.97728   0.12168\n",
       "           1        1        0                0   0.95009   0.44386\n",
       "           1        1        1                1  -0.15136   0.33367\n",
       "   Terms:\n",
       "     'Intercept' (column 0)\n",
       "     'a' (column 1)\n",
       "     'b' (column 2)\n",
       "     'a:b' (column 3)\n",
       "     'x1' (column 4)\n",
       "     'x2' (column 5))"
      ]
     },
     "execution_count": 7,
     "metadata": {},
     "output_type": "execute_result"
    }
   ],
   "source": [
    "patsy.dmatrices(\"y ~ x1 + x2 + a + b + a:b\", data)"
   ]
  },
  {
   "cell_type": "code",
   "execution_count": 8,
   "metadata": {
    "collapsed": true
   },
   "outputs": [],
   "source": [
    "outcome, predictors = dmatrices(\"y ~ x1 + x2\", data)"
   ]
  },
  {
   "cell_type": "code",
   "execution_count": 9,
   "metadata": {
    "collapsed": false
   },
   "outputs": [
    {
     "data": {
      "text/plain": [
       "DesignMatrix with shape (8, 1)\n",
       "         y\n",
       "   1.49408\n",
       "  -0.20516\n",
       "   0.31307\n",
       "  -0.85410\n",
       "  -2.55299\n",
       "   0.65362\n",
       "   0.86444\n",
       "  -0.74217\n",
       "  Terms:\n",
       "    'y' (column 0)"
      ]
     },
     "execution_count": 9,
     "metadata": {},
     "output_type": "execute_result"
    }
   ],
   "source": [
    "outcome"
   ]
  },
  {
   "cell_type": "code",
   "execution_count": 10,
   "metadata": {
    "collapsed": false
   },
   "outputs": [
    {
     "data": {
      "text/plain": [
       "DesignMatrix with shape (8, 3)\n",
       "  Intercept        x1        x2\n",
       "          1   1.76405  -0.10322\n",
       "          1   0.40016   0.41060\n",
       "          1   0.97874   0.14404\n",
       "          1   2.24089   1.45427\n",
       "          1   1.86756   0.76104\n",
       "          1  -0.97728   0.12168\n",
       "          1   0.95009   0.44386\n",
       "          1  -0.15136   0.33367\n",
       "  Terms:\n",
       "    'Intercept' (column 0)\n",
       "    'x1' (column 1)\n",
       "    'x2' (column 2)"
      ]
     },
     "execution_count": 10,
     "metadata": {},
     "output_type": "execute_result"
    }
   ],
   "source": [
    "predictors"
   ]
  },
  {
   "cell_type": "code",
   "execution_count": 13,
   "metadata": {
    "collapsed": false
   },
   "outputs": [],
   "source": [
    "betas = np.linalg.lstsq(predictors, outcome)[0].ravel()"
   ]
  },
  {
   "cell_type": "code",
   "execution_count": 14,
   "metadata": {
    "collapsed": false
   },
   "outputs": [
    {
     "data": {
      "text/plain": [
       "array([ 0.57966234,  0.08859919, -1.76479206])"
      ]
     },
     "execution_count": 14,
     "metadata": {},
     "output_type": "execute_result"
    }
   ],
   "source": [
    "betas"
   ]
  },
  {
   "cell_type": "code",
   "execution_count": 15,
   "metadata": {
    "collapsed": false
   },
   "outputs": [
    {
     "name": "stdout",
     "output_type": "stream",
     "text": [
      "Intercept: 0.579662344123\n",
      "x1: 0.0885991903554\n",
      "x2: -1.76479205551\n"
     ]
    }
   ],
   "source": [
    "for name, beta in zip(predictors.design_info.column_names, betas):\n",
    "    print(\"%s: %s\" % (name, beta))"
   ]
  },
  {
   "cell_type": "code",
   "execution_count": 16,
   "metadata": {
    "collapsed": false
   },
   "outputs": [
    {
     "data": {
      "text/plain": [
       "DesignMatrix with shape (8, 3)\n",
       "  Intercept        x1        x2\n",
       "          1   1.76405  -0.10322\n",
       "          1   0.40016   0.41060\n",
       "          1   0.97874   0.14404\n",
       "          1   2.24089   1.45427\n",
       "          1   1.86756   0.76104\n",
       "          1  -0.97728   0.12168\n",
       "          1   0.95009   0.44386\n",
       "          1  -0.15136   0.33367\n",
       "  Terms:\n",
       "    'Intercept' (column 0)\n",
       "    'x1' (column 1)\n",
       "    'x2' (column 2)"
      ]
     },
     "execution_count": 16,
     "metadata": {},
     "output_type": "execute_result"
    }
   ],
   "source": [
    "dmatrix(\"x1 + x2\", data)"
   ]
  },
  {
   "cell_type": "code",
   "execution_count": null,
   "metadata": {
    "collapsed": true
   },
   "outputs": [],
   "source": []
  }
 ],
 "metadata": {
  "kernelspec": {
   "display_name": "Python 3",
   "language": "python",
   "name": "python3"
  },
  "language_info": {
   "codemirror_mode": {
    "name": "ipython",
    "version": 3
   },
   "file_extension": ".py",
   "mimetype": "text/x-python",
   "name": "python",
   "nbconvert_exporter": "python",
   "pygments_lexer": "ipython3",
   "version": "3.6.0a1"
  }
 },
 "nbformat": 4,
 "nbformat_minor": 2
}
