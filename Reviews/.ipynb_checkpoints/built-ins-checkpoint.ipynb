{
 "cells": [
  {
   "cell_type": "markdown",
   "metadata": {},
   "source": [
    "### Background\n",
    "This notebook is about nothing but the built-in functions in Python. Although some of the functions are also covered by other modules, like math, numpy, etc., some other functions do show handy functionality. The complete list of built-in functions can be found on this [link](https://docs.python.org/3/library/functions.html)."
   ]
  },
  {
   "cell_type": "code",
   "execution_count": 1,
   "metadata": {
    "collapsed": false
   },
   "outputs": [
    {
     "data": {
      "text/plain": [
       "10"
      ]
     },
     "execution_count": 1,
     "metadata": {},
     "output_type": "execute_result"
    }
   ],
   "source": [
    "abs(10)"
   ]
  },
  {
   "cell_type": "code",
   "execution_count": 3,
   "metadata": {
    "collapsed": false
   },
   "outputs": [
    {
     "data": {
      "text/plain": [
       "5.0"
      ]
     },
     "execution_count": 3,
     "metadata": {},
     "output_type": "execute_result"
    }
   ],
   "source": [
    "abs(3-4j)  # returns the magnitude for complex numbers"
   ]
  },
  {
   "cell_type": "code",
   "execution_count": 4,
   "metadata": {
    "collapsed": false
   },
   "outputs": [
    {
     "data": {
      "text/plain": [
       "False"
      ]
     },
     "execution_count": 4,
     "metadata": {},
     "output_type": "execute_result"
    }
   ],
   "source": [
    "all(range(3))  # all(iterable)"
   ]
  },
  {
   "cell_type": "code",
   "execution_count": 5,
   "metadata": {
    "collapsed": false
   },
   "outputs": [
    {
     "data": {
      "text/plain": [
       "True"
      ]
     },
     "execution_count": 5,
     "metadata": {},
     "output_type": "execute_result"
    }
   ],
   "source": [
    "all([1, 2, 3])"
   ]
  },
  {
   "cell_type": "code",
   "execution_count": 7,
   "metadata": {
    "collapsed": false
   },
   "outputs": [
    {
     "data": {
      "text/plain": [
       "True"
      ]
     },
     "execution_count": 7,
     "metadata": {},
     "output_type": "execute_result"
    }
   ],
   "source": [
    "all((1, 2, 3))"
   ]
  },
  {
   "cell_type": "code",
   "execution_count": 8,
   "metadata": {
    "collapsed": false
   },
   "outputs": [
    {
     "data": {
      "text/plain": [
       "<generator object <genexpr> at 0x106aa69e8>"
      ]
     },
     "execution_count": 8,
     "metadata": {},
     "output_type": "execute_result"
    }
   ],
   "source": [
    "(1 for _ in range(10))"
   ]
  },
  {
   "cell_type": "code",
   "execution_count": 9,
   "metadata": {
    "collapsed": false
   },
   "outputs": [
    {
     "data": {
      "text/plain": [
       "True"
      ]
     },
     "execution_count": 9,
     "metadata": {},
     "output_type": "execute_result"
    }
   ],
   "source": [
    "all((1 for _ in range(10)))"
   ]
  },
  {
   "cell_type": "code",
   "execution_count": 10,
   "metadata": {
    "collapsed": false
   },
   "outputs": [
    {
     "data": {
      "text/plain": [
       "True"
      ]
     },
     "execution_count": 10,
     "metadata": {},
     "output_type": "execute_result"
    }
   ],
   "source": [
    "any(range(2))  # any(iterable)"
   ]
  },
  {
   "cell_type": "code",
   "execution_count": 11,
   "metadata": {
    "collapsed": false
   },
   "outputs": [
    {
     "data": {
      "text/plain": [
       "True"
      ]
     },
     "execution_count": 11,
     "metadata": {},
     "output_type": "execute_result"
    }
   ],
   "source": [
    "any((0, 1, 2))"
   ]
  },
  {
   "cell_type": "code",
   "execution_count": 13,
   "metadata": {
    "collapsed": false
   },
   "outputs": [
    {
     "data": {
      "text/plain": [
       "\"'a'\""
      ]
     },
     "execution_count": 13,
     "metadata": {},
     "output_type": "execute_result"
    }
   ],
   "source": [
    "ascii('a')"
   ]
  },
  {
   "cell_type": "code",
   "execution_count": 15,
   "metadata": {
    "collapsed": false
   },
   "outputs": [
    {
     "data": {
      "text/plain": [
       "\"'\\\\u21321'\""
      ]
     },
     "execution_count": 15,
     "metadata": {},
     "output_type": "execute_result"
    }
   ],
   "source": [
    "ascii('\\u21321')  # Return a string containing a printable representation of an object"
   ]
  },
  {
   "cell_type": "code",
   "execution_count": 16,
   "metadata": {
    "collapsed": false
   },
   "outputs": [
    {
     "data": {
      "text/plain": [
       "'0b1010'"
      ]
     },
     "execution_count": 16,
     "metadata": {},
     "output_type": "execute_result"
    }
   ],
   "source": [
    "bin(10)  # Notice how bin() is dealing with negative numbers, simply put minus sign at the beginning."
   ]
  },
  {
   "cell_type": "code",
   "execution_count": 19,
   "metadata": {
    "collapsed": false
   },
   "outputs": [
    {
     "data": {
      "text/plain": [
       "'-0b1010'"
      ]
     },
     "execution_count": 19,
     "metadata": {},
     "output_type": "execute_result"
    }
   ],
   "source": [
    "bin(-10)"
   ]
  },
  {
   "cell_type": "code",
   "execution_count": 20,
   "metadata": {
    "collapsed": false
   },
   "outputs": [
    {
     "data": {
      "text/plain": [
       "True"
      ]
     },
     "execution_count": 20,
     "metadata": {},
     "output_type": "execute_result"
    }
   ],
   "source": [
    "bool(1)"
   ]
  },
  {
   "cell_type": "code",
   "execution_count": 21,
   "metadata": {
    "collapsed": false
   },
   "outputs": [
    {
     "data": {
      "text/plain": [
       "True"
      ]
     },
     "execution_count": 21,
     "metadata": {},
     "output_type": "execute_result"
    }
   ],
   "source": [
    "bool(-1)"
   ]
  },
  {
   "cell_type": "code",
   "execution_count": 22,
   "metadata": {
    "collapsed": false
   },
   "outputs": [
    {
     "data": {
      "text/plain": [
       "False"
      ]
     },
     "execution_count": 22,
     "metadata": {},
     "output_type": "execute_result"
    }
   ],
   "source": [
    "bool(0)"
   ]
  },
  {
   "cell_type": "code",
   "execution_count": 24,
   "metadata": {
    "collapsed": false
   },
   "outputs": [
    {
     "data": {
      "text/plain": [
       "bytearray(b'\\x00\\x00\\x00\\x00\\x00\\x00\\x00\\x00\\x00\\x00')"
      ]
     },
     "execution_count": 24,
     "metadata": {},
     "output_type": "execute_result"
    }
   ],
   "source": [
    "bytearray(10)  # ? Do not fully understand"
   ]
  },
  {
   "cell_type": "code",
   "execution_count": 25,
   "metadata": {
    "collapsed": false
   },
   "outputs": [
    {
     "data": {
      "text/plain": [
       "True"
      ]
     },
     "execution_count": 25,
     "metadata": {},
     "output_type": "execute_result"
    }
   ],
   "source": [
    "callable(bool)"
   ]
  },
  {
   "cell_type": "code",
   "execution_count": 26,
   "metadata": {
    "collapsed": false
   },
   "outputs": [
    {
     "data": {
      "text/plain": [
       "False"
      ]
     },
     "execution_count": 26,
     "metadata": {},
     "output_type": "execute_result"
    }
   ],
   "source": [
    "callable(1)"
   ]
  },
  {
   "cell_type": "code",
   "execution_count": 28,
   "metadata": {
    "collapsed": false
   },
   "outputs": [
    {
     "ename": "SyntaxError",
     "evalue": "invalid syntax (<ipython-input-28-6a343dd51203>, line 1)",
     "output_type": "error",
     "traceback": [
      "\u001b[0;36m  File \u001b[0;32m\"<ipython-input-28-6a343dd51203>\"\u001b[0;36m, line \u001b[0;32m1\u001b[0m\n\u001b[0;31m    callable(def)\u001b[0m\n\u001b[0m               ^\u001b[0m\n\u001b[0;31mSyntaxError\u001b[0m\u001b[0;31m:\u001b[0m invalid syntax\n"
     ]
    }
   ],
   "source": [
    "callable(def)  # callable(object), def, class, import are not objects"
   ]
  },
  {
   "cell_type": "code",
   "execution_count": 31,
   "metadata": {
    "collapsed": false
   },
   "outputs": [
    {
     "data": {
      "text/plain": [
       "'a'"
      ]
     },
     "execution_count": 31,
     "metadata": {},
     "output_type": "execute_result"
    }
   ],
   "source": [
    "chr(97)"
   ]
  },
  {
   "cell_type": "code",
   "execution_count": 30,
   "metadata": {
    "collapsed": false
   },
   "outputs": [
    {
     "ename": "SyntaxError",
     "evalue": "invalid syntax (<ipython-input-30-7a5e2dfb2599>, line 1)",
     "output_type": "error",
     "traceback": [
      "\u001b[0;36m  File \u001b[0;32m\"<ipython-input-30-7a5e2dfb2599>\"\u001b[0;36m, line \u001b[0;32m1\u001b[0m\n\u001b[0;31m    callable(import)\u001b[0m\n\u001b[0m                  ^\u001b[0m\n\u001b[0;31mSyntaxError\u001b[0m\u001b[0;31m:\u001b[0m invalid syntax\n"
     ]
    }
   ],
   "source": [
    "callable(import)"
   ]
  },
  {
   "cell_type": "code",
   "execution_count": 38,
   "metadata": {
    "collapsed": false
   },
   "outputs": [
    {
     "name": "stdout",
     "output_type": "stream",
     "text": [
      "Foo: 3\n"
     ]
    }
   ],
   "source": [
    "class foo(object):\n",
    "    def __init__(self, a):\n",
    "        self.val = a\n",
    "    def setVal(self, b):\n",
    "        self.val = b\n",
    "    def __str__(self):\n",
    "        return \"Foo: {}\".format(self.val)\n",
    "a = foo(3)\n",
    "print(a)"
   ]
  },
  {
   "cell_type": "code",
   "execution_count": 39,
   "metadata": {
    "collapsed": false
   },
   "outputs": [
    {
     "data": {
      "text/plain": [
       "['__class__',\n",
       " '__delattr__',\n",
       " '__dict__',\n",
       " '__dir__',\n",
       " '__doc__',\n",
       " '__eq__',\n",
       " '__format__',\n",
       " '__ge__',\n",
       " '__getattribute__',\n",
       " '__gt__',\n",
       " '__hash__',\n",
       " '__init__',\n",
       " '__le__',\n",
       " '__lt__',\n",
       " '__module__',\n",
       " '__ne__',\n",
       " '__new__',\n",
       " '__reduce__',\n",
       " '__reduce_ex__',\n",
       " '__repr__',\n",
       " '__setattr__',\n",
       " '__sizeof__',\n",
       " '__str__',\n",
       " '__subclasshook__',\n",
       " '__weakref__',\n",
       " 'setVal',\n",
       " 'val']"
      ]
     },
     "execution_count": 39,
     "metadata": {},
     "output_type": "execute_result"
    }
   ],
   "source": [
    "dir(a)"
   ]
  },
  {
   "cell_type": "code",
   "execution_count": 42,
   "metadata": {
    "collapsed": false
   },
   "outputs": [],
   "source": [
    "delattr(a, 'val')"
   ]
  },
  {
   "cell_type": "code",
   "execution_count": 43,
   "metadata": {
    "collapsed": false
   },
   "outputs": [
    {
     "ename": "AttributeError",
     "evalue": "'foo' object has no attribute 'val'",
     "output_type": "error",
     "traceback": [
      "\u001b[0;31m---------------------------------------------------------------------------\u001b[0m",
      "\u001b[0;31mAttributeError\u001b[0m                            Traceback (most recent call last)",
      "\u001b[0;32m<ipython-input-43-c5a4f3535135>\u001b[0m in \u001b[0;36m<module>\u001b[0;34m()\u001b[0m\n\u001b[0;32m----> 1\u001b[0;31m \u001b[0mprint\u001b[0m\u001b[0;34m(\u001b[0m\u001b[0ma\u001b[0m\u001b[0;34m)\u001b[0m\u001b[0;34m\u001b[0m\u001b[0m\n\u001b[0m",
      "\u001b[0;32m<ipython-input-38-10ec1bfa44a3>\u001b[0m in \u001b[0;36m__str__\u001b[0;34m(self)\u001b[0m\n\u001b[1;32m      5\u001b[0m         \u001b[0mself\u001b[0m\u001b[0;34m.\u001b[0m\u001b[0mval\u001b[0m \u001b[0;34m=\u001b[0m \u001b[0mb\u001b[0m\u001b[0;34m\u001b[0m\u001b[0m\n\u001b[1;32m      6\u001b[0m     \u001b[0;32mdef\u001b[0m \u001b[0m__str__\u001b[0m\u001b[0;34m(\u001b[0m\u001b[0mself\u001b[0m\u001b[0;34m)\u001b[0m\u001b[0;34m:\u001b[0m\u001b[0;34m\u001b[0m\u001b[0m\n\u001b[0;32m----> 7\u001b[0;31m         \u001b[0;32mreturn\u001b[0m \u001b[0;34m\"Foo: {}\"\u001b[0m\u001b[0;34m.\u001b[0m\u001b[0mformat\u001b[0m\u001b[0;34m(\u001b[0m\u001b[0mself\u001b[0m\u001b[0;34m.\u001b[0m\u001b[0mval\u001b[0m\u001b[0;34m)\u001b[0m\u001b[0;34m\u001b[0m\u001b[0m\n\u001b[0m\u001b[1;32m      8\u001b[0m \u001b[0ma\u001b[0m \u001b[0;34m=\u001b[0m \u001b[0mfoo\u001b[0m\u001b[0;34m(\u001b[0m\u001b[0;36m3\u001b[0m\u001b[0;34m)\u001b[0m\u001b[0;34m\u001b[0m\u001b[0m\n\u001b[1;32m      9\u001b[0m \u001b[0mprint\u001b[0m\u001b[0;34m(\u001b[0m\u001b[0ma\u001b[0m\u001b[0;34m)\u001b[0m\u001b[0;34m\u001b[0m\u001b[0m\n",
      "\u001b[0;31mAttributeError\u001b[0m: 'foo' object has no attribute 'val'"
     ]
    }
   ],
   "source": [
    "print(a)"
   ]
  },
  {
   "cell_type": "code",
   "execution_count": 45,
   "metadata": {
    "collapsed": false
   },
   "outputs": [],
   "source": [
    "setattr(a, 'val', 3)  # An attribute is essentailly an member variable"
   ]
  },
  {
   "cell_type": "code",
   "execution_count": 46,
   "metadata": {
    "collapsed": false
   },
   "outputs": [
    {
     "name": "stdout",
     "output_type": "stream",
     "text": [
      "Foo: 3\n"
     ]
    }
   ],
   "source": [
    "print(a)"
   ]
  },
  {
   "cell_type": "code",
   "execution_count": 49,
   "metadata": {
    "collapsed": false
   },
   "outputs": [
    {
     "data": {
      "text/plain": [
       "3"
      ]
     },
     "execution_count": 49,
     "metadata": {},
     "output_type": "execute_result"
    }
   ],
   "source": [
    "getattr(a, 'val')  # Returns the attribute val of the object a."
   ]
  },
  {
   "cell_type": "code",
   "execution_count": 51,
   "metadata": {
    "collapsed": false
   },
   "outputs": [
    {
     "data": {
      "text/plain": [
       "['__class__',\n",
       " '__delattr__',\n",
       " '__dict__',\n",
       " '__dir__',\n",
       " '__doc__',\n",
       " '__eq__',\n",
       " '__format__',\n",
       " '__ge__',\n",
       " '__getattribute__',\n",
       " '__gt__',\n",
       " '__hash__',\n",
       " '__init__',\n",
       " '__le__',\n",
       " '__lt__',\n",
       " '__module__',\n",
       " '__ne__',\n",
       " '__new__',\n",
       " '__reduce__',\n",
       " '__reduce_ex__',\n",
       " '__repr__',\n",
       " '__setattr__',\n",
       " '__sizeof__',\n",
       " '__str__',\n",
       " '__subclasshook__',\n",
       " '__weakref__',\n",
       " 'setVal',\n",
       " 'val']"
      ]
     },
     "execution_count": 51,
     "metadata": {},
     "output_type": "execute_result"
    }
   ],
   "source": [
    "dir(a)  # this does return a list of attributes, but I think getattr is specifically referring to values."
   ]
  },
  {
   "cell_type": "code",
   "execution_count": 54,
   "metadata": {
    "collapsed": false
   },
   "outputs": [
    {
     "data": {
      "text/plain": [
       "['area', 'location', 'perimeter']"
      ]
     },
     "execution_count": 54,
     "metadata": {},
     "output_type": "execute_result"
    }
   ],
   "source": [
    "class Shape:\n",
    "    def __dir__(self):\n",
    "        return ['area', 'perimeter', 'location']\n",
    "a = Shape()\n",
    "dir(a)  # the dir function calls the __dir__ method in an object which is customizable."
   ]
  },
  {
   "cell_type": "code",
   "execution_count": 55,
   "metadata": {
    "collapsed": false
   },
   "outputs": [
    {
     "name": "stdout",
     "output_type": "stream",
     "text": [
      "3 1\n"
     ]
    }
   ],
   "source": [
    "x, y = divmod(10, 3)\n",
    "print(x, y)"
   ]
  },
  {
   "cell_type": "code",
   "execution_count": 56,
   "metadata": {
    "collapsed": false
   },
   "outputs": [
    {
     "data": {
      "text/plain": [
       "[(0, 'Spring'), (1, 'Summer'), (2, 'Fall'), (3, 'Winter')]"
      ]
     },
     "execution_count": 56,
     "metadata": {},
     "output_type": "execute_result"
    }
   ],
   "source": [
    "seasons = ['Spring', 'Summer', 'Fall', 'Winter']\n",
    "list(enumerate(seasons))"
   ]
  },
  {
   "cell_type": "code",
   "execution_count": 57,
   "metadata": {
    "collapsed": false
   },
   "outputs": [
    {
     "data": {
      "text/plain": [
       "2"
      ]
     },
     "execution_count": 57,
     "metadata": {},
     "output_type": "execute_result"
    }
   ],
   "source": [
    "x = 1\n",
    "eval('x+1')"
   ]
  },
  {
   "cell_type": "code",
   "execution_count": 58,
   "metadata": {
    "collapsed": false
   },
   "outputs": [
    {
     "data": {
      "text/plain": [
       "4"
      ]
     },
     "execution_count": 58,
     "metadata": {},
     "output_type": "execute_result"
    }
   ],
   "source": [
    "s = 'pow(2, x+1)'\n",
    "eval(s)"
   ]
  },
  {
   "cell_type": "code",
   "execution_count": 61,
   "metadata": {
    "collapsed": false
   },
   "outputs": [
    {
     "data": {
      "text/plain": [
       "<filter at 0x106b5c390>"
      ]
     },
     "execution_count": 61,
     "metadata": {},
     "output_type": "execute_result"
    }
   ],
   "source": [
    "a = filter(lambda x: x > 3, range(10))  # This returns an iterable\n",
    "a"
   ]
  },
  {
   "cell_type": "code",
   "execution_count": 62,
   "metadata": {
    "collapsed": false
   },
   "outputs": [
    {
     "data": {
      "text/plain": [
       "[4, 5, 6, 7, 8, 9]"
      ]
     },
     "execution_count": 62,
     "metadata": {},
     "output_type": "execute_result"
    }
   ],
   "source": [
    "list(a)"
   ]
  },
  {
   "cell_type": "code",
   "execution_count": 63,
   "metadata": {
    "collapsed": false
   },
   "outputs": [
    {
     "data": {
      "text/plain": [
       "1.0"
      ]
     },
     "execution_count": 63,
     "metadata": {},
     "output_type": "execute_result"
    }
   ],
   "source": [
    "float(1)"
   ]
  },
  {
   "cell_type": "code",
   "execution_count": 65,
   "metadata": {
    "collapsed": false
   },
   "outputs": [
    {
     "data": {
      "text/plain": [
       "'Time is Money.'"
      ]
     },
     "execution_count": 65,
     "metadata": {},
     "output_type": "execute_result"
    }
   ],
   "source": [
    "'{0} is {1}'.format(\"Time\", \"Money.\")  # More formats to go. "
   ]
  },
  {
   "cell_type": "code",
   "execution_count": 66,
   "metadata": {
    "collapsed": false
   },
   "outputs": [
    {
     "data": {
      "text/plain": [
       "{'In': ['',\n",
       "  'abs(10)',\n",
       "  'abs(1-8j)',\n",
       "  'abs(3-4j)',\n",
       "  'all(range(3))  # all(iterable)',\n",
       "  'all([1, 2, 3])',\n",
       "  'all((1, 2, 3)',\n",
       "  'all((1, 2, 3))',\n",
       "  '(1 for _ in range(10))',\n",
       "  'all((1 for _ in range(10)))',\n",
       "  'any(range(2))  # any(iterable)',\n",
       "  'any((0, 1, 2))',\n",
       "  'ascii(1)',\n",
       "  \"ascii('a')\",\n",
       "  \"ascii('a\\\\u')\",\n",
       "  \"ascii('\\\\u21321')\",\n",
       "  'bin(10)',\n",
       "  'bin(-10)',\n",
       "  'bin(-1)',\n",
       "  'bin(-10)',\n",
       "  'bool(1)',\n",
       "  'bool(-1)',\n",
       "  'bool(0)',\n",
       "  'bytearray(1)',\n",
       "  'bytearray(10)',\n",
       "  'callable(bool)',\n",
       "  'callable(1)',\n",
       "  'callable(class)',\n",
       "  'callable(def)',\n",
       "  'callable(class)',\n",
       "  'callable(import)',\n",
       "  'chr(97)',\n",
       "  'x = 1\\ndir(x)',\n",
       "  'delattr(x.imag)',\n",
       "  \"delattr(x, 'imag')\",\n",
       "  'class foo(object):\\n    def __init__(self, a):\\n        self.val = a\\n    def setVal(self, b):\\n        self.val = b\\na = foo(3)\\nprint(a)',\n",
       "  'class foo(object):\\n    def __init__(self, a):\\n        self.val = a\\n    def setVal(self, b):\\n        self.val = b\\n    def __str__(self):\\n        return \"Foo: {}\" %self.val\\na = foo(3)\\nprint(a)',\n",
       "  'class foo(object):\\n    def __init__(self, a):\\n        self.val = a\\n    def setVal(self, b):\\n        self.val = b\\n    def __str__(self):\\n        return \"Foo: {}\".format(self.val)\\na = foo(3)\\nprint(a)',\n",
       "  'class foo(object):\\n    def __init__(self, a):\\n        self.val = a\\n    def setVal(self, b):\\n        self.val = b\\n    def __str__(self):\\n        return \"Foo: {}\".format(self.val)\\na = foo(3)\\nprint(a)',\n",
       "  'dir(a)',\n",
       "  'delattr(a, setVal)',\n",
       "  \"delattr(a, 'setVal')\",\n",
       "  \"delattr(a, 'val')\",\n",
       "  'print(a)',\n",
       "  \"setattr(a, 'val')\",\n",
       "  \"setattr(a, 'val', 3)\",\n",
       "  'print(a)',\n",
       "  'getattr(a)',\n",
       "  \"getattr(a, 'Val')\",\n",
       "  \"getattr(a, 'val')\",\n",
       "  'dir(a)  # this does return a list of attributes',\n",
       "  'dir(a)  # this does return a list of attributes, but I think getattr is specifically referring to values.',\n",
       "  \"class Shape:\\n    def __dir__(self):\\n        return ['area', 'perimeter', 'location']\\na = Shape()\",\n",
       "  \"class Shape:\\n    def __dir__(self):\\n        return ['area', 'perimeter', 'location']\\na = Shape()\\ndir(a)\",\n",
       "  \"class Shape:\\n    def __dir__(self):\\n        return ['area', 'perimeter', 'location']\\na = Shape()\\ndir(a)  # the dir function calls the __dir__ method in an object which is customizable.\",\n",
       "  'x, y = divmod(10, 3)\\nprint(x, y)',\n",
       "  \"seasons = ['Spring', 'Summer', 'Fall', 'Winter']\\nlist(enumerate(seasons))\",\n",
       "  \"x = 1\\neval('x+1')\",\n",
       "  \"s = 'pow(2, x+1)'\\neval(s)\",\n",
       "  'filter(lambda x: x > 3, range(10))',\n",
       "  'list(filter(lambda x: x > 3, range(10)))',\n",
       "  'a = filter(lambda x: x > 3, range(10))  # This returns an iterable\\na',\n",
       "  'list(a)',\n",
       "  'float(1)',\n",
       "  '\\'{0} is {1}\\'.format(\"TIme\", \"Money\")',\n",
       "  '\\'{0} is {1}\\'.format(\"Time\", \"Money.\")  # More formats to go. ',\n",
       "  'globals()'],\n",
       " 'Out': {1: 10,\n",
       "  2: 8.06225774829855,\n",
       "  3: 5.0,\n",
       "  4: False,\n",
       "  5: True,\n",
       "  7: True,\n",
       "  8: <generator object <genexpr> at 0x106aa69e8>,\n",
       "  9: True,\n",
       "  10: True,\n",
       "  11: True,\n",
       "  12: '1',\n",
       "  13: \"'a'\",\n",
       "  15: \"'\\\\u21321'\",\n",
       "  16: '0b1010',\n",
       "  17: '-0b1010',\n",
       "  18: '-0b1',\n",
       "  19: '-0b1010',\n",
       "  20: True,\n",
       "  21: True,\n",
       "  22: False,\n",
       "  23: bytearray(b'\\x00'),\n",
       "  24: bytearray(b'\\x00\\x00\\x00\\x00\\x00\\x00\\x00\\x00\\x00\\x00'),\n",
       "  25: True,\n",
       "  26: False,\n",
       "  31: 'a',\n",
       "  32: ['__abs__',\n",
       "   '__add__',\n",
       "   '__and__',\n",
       "   '__bool__',\n",
       "   '__ceil__',\n",
       "   '__class__',\n",
       "   '__delattr__',\n",
       "   '__dir__',\n",
       "   '__divmod__',\n",
       "   '__doc__',\n",
       "   '__eq__',\n",
       "   '__float__',\n",
       "   '__floor__',\n",
       "   '__floordiv__',\n",
       "   '__format__',\n",
       "   '__ge__',\n",
       "   '__getattribute__',\n",
       "   '__getnewargs__',\n",
       "   '__gt__',\n",
       "   '__hash__',\n",
       "   '__index__',\n",
       "   '__init__',\n",
       "   '__int__',\n",
       "   '__invert__',\n",
       "   '__le__',\n",
       "   '__lshift__',\n",
       "   '__lt__',\n",
       "   '__mod__',\n",
       "   '__mul__',\n",
       "   '__ne__',\n",
       "   '__neg__',\n",
       "   '__new__',\n",
       "   '__or__',\n",
       "   '__pos__',\n",
       "   '__pow__',\n",
       "   '__radd__',\n",
       "   '__rand__',\n",
       "   '__rdivmod__',\n",
       "   '__reduce__',\n",
       "   '__reduce_ex__',\n",
       "   '__repr__',\n",
       "   '__rfloordiv__',\n",
       "   '__rlshift__',\n",
       "   '__rmod__',\n",
       "   '__rmul__',\n",
       "   '__ror__',\n",
       "   '__round__',\n",
       "   '__rpow__',\n",
       "   '__rrshift__',\n",
       "   '__rshift__',\n",
       "   '__rsub__',\n",
       "   '__rtruediv__',\n",
       "   '__rxor__',\n",
       "   '__setattr__',\n",
       "   '__sizeof__',\n",
       "   '__str__',\n",
       "   '__sub__',\n",
       "   '__subclasshook__',\n",
       "   '__truediv__',\n",
       "   '__trunc__',\n",
       "   '__xor__',\n",
       "   'bit_length',\n",
       "   'conjugate',\n",
       "   'denominator',\n",
       "   'from_bytes',\n",
       "   'imag',\n",
       "   'numerator',\n",
       "   'real',\n",
       "   'to_bytes'],\n",
       "  39: ['__class__',\n",
       "   '__delattr__',\n",
       "   '__dict__',\n",
       "   '__dir__',\n",
       "   '__doc__',\n",
       "   '__eq__',\n",
       "   '__format__',\n",
       "   '__ge__',\n",
       "   '__getattribute__',\n",
       "   '__gt__',\n",
       "   '__hash__',\n",
       "   '__init__',\n",
       "   '__le__',\n",
       "   '__lt__',\n",
       "   '__module__',\n",
       "   '__ne__',\n",
       "   '__new__',\n",
       "   '__reduce__',\n",
       "   '__reduce_ex__',\n",
       "   '__repr__',\n",
       "   '__setattr__',\n",
       "   '__sizeof__',\n",
       "   '__str__',\n",
       "   '__subclasshook__',\n",
       "   '__weakref__',\n",
       "   'setVal',\n",
       "   'val'],\n",
       "  49: 3,\n",
       "  50: ['__class__',\n",
       "   '__delattr__',\n",
       "   '__dict__',\n",
       "   '__dir__',\n",
       "   '__doc__',\n",
       "   '__eq__',\n",
       "   '__format__',\n",
       "   '__ge__',\n",
       "   '__getattribute__',\n",
       "   '__gt__',\n",
       "   '__hash__',\n",
       "   '__init__',\n",
       "   '__le__',\n",
       "   '__lt__',\n",
       "   '__module__',\n",
       "   '__ne__',\n",
       "   '__new__',\n",
       "   '__reduce__',\n",
       "   '__reduce_ex__',\n",
       "   '__repr__',\n",
       "   '__setattr__',\n",
       "   '__sizeof__',\n",
       "   '__str__',\n",
       "   '__subclasshook__',\n",
       "   '__weakref__',\n",
       "   'setVal',\n",
       "   'val'],\n",
       "  51: ['__class__',\n",
       "   '__delattr__',\n",
       "   '__dict__',\n",
       "   '__dir__',\n",
       "   '__doc__',\n",
       "   '__eq__',\n",
       "   '__format__',\n",
       "   '__ge__',\n",
       "   '__getattribute__',\n",
       "   '__gt__',\n",
       "   '__hash__',\n",
       "   '__init__',\n",
       "   '__le__',\n",
       "   '__lt__',\n",
       "   '__module__',\n",
       "   '__ne__',\n",
       "   '__new__',\n",
       "   '__reduce__',\n",
       "   '__reduce_ex__',\n",
       "   '__repr__',\n",
       "   '__setattr__',\n",
       "   '__sizeof__',\n",
       "   '__str__',\n",
       "   '__subclasshook__',\n",
       "   '__weakref__',\n",
       "   'setVal',\n",
       "   'val'],\n",
       "  53: ['area', 'location', 'perimeter'],\n",
       "  54: ['area', 'location', 'perimeter'],\n",
       "  56: [(0, 'Spring'), (1, 'Summer'), (2, 'Fall'), (3, 'Winter')],\n",
       "  57: 2,\n",
       "  58: 4,\n",
       "  59: <filter at 0x106b66b70>,\n",
       "  60: [4, 5, 6, 7, 8, 9],\n",
       "  61: <filter at 0x106b5c390>,\n",
       "  62: [4, 5, 6, 7, 8, 9],\n",
       "  63: 1.0,\n",
       "  64: 'TIme is Money',\n",
       "  65: 'Time is Money.'},\n",
       " 'Shape': __main__.Shape,\n",
       " '_': 'Time is Money.',\n",
       " '_1': 10,\n",
       " '_10': True,\n",
       " '_11': True,\n",
       " '_12': '1',\n",
       " '_13': \"'a'\",\n",
       " '_15': \"'\\\\u21321'\",\n",
       " '_16': '0b1010',\n",
       " '_17': '-0b1010',\n",
       " '_18': '-0b1',\n",
       " '_19': '-0b1010',\n",
       " '_2': 8.06225774829855,\n",
       " '_20': True,\n",
       " '_21': True,\n",
       " '_22': False,\n",
       " '_23': bytearray(b'\\x00'),\n",
       " '_24': bytearray(b'\\x00\\x00\\x00\\x00\\x00\\x00\\x00\\x00\\x00\\x00'),\n",
       " '_25': True,\n",
       " '_26': False,\n",
       " '_3': 5.0,\n",
       " '_31': 'a',\n",
       " '_32': ['__abs__',\n",
       "  '__add__',\n",
       "  '__and__',\n",
       "  '__bool__',\n",
       "  '__ceil__',\n",
       "  '__class__',\n",
       "  '__delattr__',\n",
       "  '__dir__',\n",
       "  '__divmod__',\n",
       "  '__doc__',\n",
       "  '__eq__',\n",
       "  '__float__',\n",
       "  '__floor__',\n",
       "  '__floordiv__',\n",
       "  '__format__',\n",
       "  '__ge__',\n",
       "  '__getattribute__',\n",
       "  '__getnewargs__',\n",
       "  '__gt__',\n",
       "  '__hash__',\n",
       "  '__index__',\n",
       "  '__init__',\n",
       "  '__int__',\n",
       "  '__invert__',\n",
       "  '__le__',\n",
       "  '__lshift__',\n",
       "  '__lt__',\n",
       "  '__mod__',\n",
       "  '__mul__',\n",
       "  '__ne__',\n",
       "  '__neg__',\n",
       "  '__new__',\n",
       "  '__or__',\n",
       "  '__pos__',\n",
       "  '__pow__',\n",
       "  '__radd__',\n",
       "  '__rand__',\n",
       "  '__rdivmod__',\n",
       "  '__reduce__',\n",
       "  '__reduce_ex__',\n",
       "  '__repr__',\n",
       "  '__rfloordiv__',\n",
       "  '__rlshift__',\n",
       "  '__rmod__',\n",
       "  '__rmul__',\n",
       "  '__ror__',\n",
       "  '__round__',\n",
       "  '__rpow__',\n",
       "  '__rrshift__',\n",
       "  '__rshift__',\n",
       "  '__rsub__',\n",
       "  '__rtruediv__',\n",
       "  '__rxor__',\n",
       "  '__setattr__',\n",
       "  '__sizeof__',\n",
       "  '__str__',\n",
       "  '__sub__',\n",
       "  '__subclasshook__',\n",
       "  '__truediv__',\n",
       "  '__trunc__',\n",
       "  '__xor__',\n",
       "  'bit_length',\n",
       "  'conjugate',\n",
       "  'denominator',\n",
       "  'from_bytes',\n",
       "  'imag',\n",
       "  'numerator',\n",
       "  'real',\n",
       "  'to_bytes'],\n",
       " '_39': ['__class__',\n",
       "  '__delattr__',\n",
       "  '__dict__',\n",
       "  '__dir__',\n",
       "  '__doc__',\n",
       "  '__eq__',\n",
       "  '__format__',\n",
       "  '__ge__',\n",
       "  '__getattribute__',\n",
       "  '__gt__',\n",
       "  '__hash__',\n",
       "  '__init__',\n",
       "  '__le__',\n",
       "  '__lt__',\n",
       "  '__module__',\n",
       "  '__ne__',\n",
       "  '__new__',\n",
       "  '__reduce__',\n",
       "  '__reduce_ex__',\n",
       "  '__repr__',\n",
       "  '__setattr__',\n",
       "  '__sizeof__',\n",
       "  '__str__',\n",
       "  '__subclasshook__',\n",
       "  '__weakref__',\n",
       "  'setVal',\n",
       "  'val'],\n",
       " '_4': False,\n",
       " '_49': 3,\n",
       " '_5': True,\n",
       " '_50': ['__class__',\n",
       "  '__delattr__',\n",
       "  '__dict__',\n",
       "  '__dir__',\n",
       "  '__doc__',\n",
       "  '__eq__',\n",
       "  '__format__',\n",
       "  '__ge__',\n",
       "  '__getattribute__',\n",
       "  '__gt__',\n",
       "  '__hash__',\n",
       "  '__init__',\n",
       "  '__le__',\n",
       "  '__lt__',\n",
       "  '__module__',\n",
       "  '__ne__',\n",
       "  '__new__',\n",
       "  '__reduce__',\n",
       "  '__reduce_ex__',\n",
       "  '__repr__',\n",
       "  '__setattr__',\n",
       "  '__sizeof__',\n",
       "  '__str__',\n",
       "  '__subclasshook__',\n",
       "  '__weakref__',\n",
       "  'setVal',\n",
       "  'val'],\n",
       " '_51': ['__class__',\n",
       "  '__delattr__',\n",
       "  '__dict__',\n",
       "  '__dir__',\n",
       "  '__doc__',\n",
       "  '__eq__',\n",
       "  '__format__',\n",
       "  '__ge__',\n",
       "  '__getattribute__',\n",
       "  '__gt__',\n",
       "  '__hash__',\n",
       "  '__init__',\n",
       "  '__le__',\n",
       "  '__lt__',\n",
       "  '__module__',\n",
       "  '__ne__',\n",
       "  '__new__',\n",
       "  '__reduce__',\n",
       "  '__reduce_ex__',\n",
       "  '__repr__',\n",
       "  '__setattr__',\n",
       "  '__sizeof__',\n",
       "  '__str__',\n",
       "  '__subclasshook__',\n",
       "  '__weakref__',\n",
       "  'setVal',\n",
       "  'val'],\n",
       " '_53': ['area', 'location', 'perimeter'],\n",
       " '_54': ['area', 'location', 'perimeter'],\n",
       " '_56': [(0, 'Spring'), (1, 'Summer'), (2, 'Fall'), (3, 'Winter')],\n",
       " '_57': 2,\n",
       " '_58': 4,\n",
       " '_59': <filter at 0x106b66b70>,\n",
       " '_60': [4, 5, 6, 7, 8, 9],\n",
       " '_61': <filter at 0x106b5c390>,\n",
       " '_62': [4, 5, 6, 7, 8, 9],\n",
       " '_63': 1.0,\n",
       " '_64': 'TIme is Money',\n",
       " '_65': 'Time is Money.',\n",
       " '_7': True,\n",
       " '_8': <generator object <genexpr> at 0x106aa69e8>,\n",
       " '_9': True,\n",
       " '__': 'TIme is Money',\n",
       " '___': 1.0,\n",
       " '__builtin__': <module 'builtins' (built-in)>,\n",
       " '__builtins__': <module 'builtins' (built-in)>,\n",
       " '__doc__': 'Automatically created module for IPython interactive environment',\n",
       " '__loader__': None,\n",
       " '__name__': '__main__',\n",
       " '__package__': None,\n",
       " '__spec__': None,\n",
       " '_dh': ['/Users/hanya/Github/myPython/Reviews'],\n",
       " '_i': '\\'{0} is {1}\\'.format(\"Time\", \"Money.\")  # More formats to go. ',\n",
       " '_i1': 'abs(10)',\n",
       " '_i10': 'any(range(2))  # any(iterable)',\n",
       " '_i11': 'any((0, 1, 2))',\n",
       " '_i12': 'ascii(1)',\n",
       " '_i13': \"ascii('a')\",\n",
       " '_i14': \"ascii('a\\\\u')\",\n",
       " '_i15': \"ascii('\\\\u21321')\",\n",
       " '_i16': 'bin(10)',\n",
       " '_i17': 'bin(-10)',\n",
       " '_i18': 'bin(-1)',\n",
       " '_i19': 'bin(-10)',\n",
       " '_i2': 'abs(1-8j)',\n",
       " '_i20': 'bool(1)',\n",
       " '_i21': 'bool(-1)',\n",
       " '_i22': 'bool(0)',\n",
       " '_i23': 'bytearray(1)',\n",
       " '_i24': 'bytearray(10)',\n",
       " '_i25': 'callable(bool)',\n",
       " '_i26': 'callable(1)',\n",
       " '_i27': 'callable(class)',\n",
       " '_i28': 'callable(def)',\n",
       " '_i29': 'callable(class)',\n",
       " '_i3': 'abs(3-4j)',\n",
       " '_i30': 'callable(import)',\n",
       " '_i31': 'chr(97)',\n",
       " '_i32': 'x = 1\\ndir(x)',\n",
       " '_i33': 'delattr(x.imag)',\n",
       " '_i34': \"delattr(x, 'imag')\",\n",
       " '_i35': 'class foo(object):\\n    def __init__(self, a):\\n        self.val = a\\n    def setVal(self, b):\\n        self.val = b\\na = foo(3)\\nprint(a)',\n",
       " '_i36': 'class foo(object):\\n    def __init__(self, a):\\n        self.val = a\\n    def setVal(self, b):\\n        self.val = b\\n    def __str__(self):\\n        return \"Foo: {}\" %self.val\\na = foo(3)\\nprint(a)',\n",
       " '_i37': 'class foo(object):\\n    def __init__(self, a):\\n        self.val = a\\n    def setVal(self, b):\\n        self.val = b\\n    def __str__(self):\\n        return \"Foo: {}\".format(self.val)\\na = foo(3)\\nprint(a)',\n",
       " '_i38': 'class foo(object):\\n    def __init__(self, a):\\n        self.val = a\\n    def setVal(self, b):\\n        self.val = b\\n    def __str__(self):\\n        return \"Foo: {}\".format(self.val)\\na = foo(3)\\nprint(a)',\n",
       " '_i39': 'dir(a)',\n",
       " '_i4': 'all(range(3))  # all(iterable)',\n",
       " '_i40': 'delattr(a, setVal)',\n",
       " '_i41': \"delattr(a, 'setVal')\",\n",
       " '_i42': \"delattr(a, 'val')\",\n",
       " '_i43': 'print(a)',\n",
       " '_i44': \"setattr(a, 'val')\",\n",
       " '_i45': \"setattr(a, 'val', 3)\",\n",
       " '_i46': 'print(a)',\n",
       " '_i47': 'getattr(a)',\n",
       " '_i48': \"getattr(a, 'Val')\",\n",
       " '_i49': \"getattr(a, 'val')\",\n",
       " '_i5': 'all([1, 2, 3])',\n",
       " '_i50': 'dir(a)  # this does return a list of attributes',\n",
       " '_i51': 'dir(a)  # this does return a list of attributes, but I think getattr is specifically referring to values.',\n",
       " '_i52': \"class Shape:\\n    def __dir__(self):\\n        return ['area', 'perimeter', 'location']\\na = Shape()\",\n",
       " '_i53': \"class Shape:\\n    def __dir__(self):\\n        return ['area', 'perimeter', 'location']\\na = Shape()\\ndir(a)\",\n",
       " '_i54': \"class Shape:\\n    def __dir__(self):\\n        return ['area', 'perimeter', 'location']\\na = Shape()\\ndir(a)  # the dir function calls the __dir__ method in an object which is customizable.\",\n",
       " '_i55': 'x, y = divmod(10, 3)\\nprint(x, y)',\n",
       " '_i56': \"seasons = ['Spring', 'Summer', 'Fall', 'Winter']\\nlist(enumerate(seasons))\",\n",
       " '_i57': \"x = 1\\neval('x+1')\",\n",
       " '_i58': \"s = 'pow(2, x+1)'\\neval(s)\",\n",
       " '_i59': 'filter(lambda x: x > 3, range(10))',\n",
       " '_i6': 'all((1, 2, 3)',\n",
       " '_i60': 'list(filter(lambda x: x > 3, range(10)))',\n",
       " '_i61': 'a = filter(lambda x: x > 3, range(10))  # This returns an iterable\\na',\n",
       " '_i62': 'list(a)',\n",
       " '_i63': 'float(1)',\n",
       " '_i64': '\\'{0} is {1}\\'.format(\"TIme\", \"Money\")',\n",
       " '_i65': '\\'{0} is {1}\\'.format(\"Time\", \"Money.\")  # More formats to go. ',\n",
       " '_i66': 'globals()',\n",
       " '_i7': 'all((1, 2, 3))',\n",
       " '_i8': '(1 for _ in range(10))',\n",
       " '_i9': 'all((1 for _ in range(10)))',\n",
       " '_ih': ['',\n",
       "  'abs(10)',\n",
       "  'abs(1-8j)',\n",
       "  'abs(3-4j)',\n",
       "  'all(range(3))  # all(iterable)',\n",
       "  'all([1, 2, 3])',\n",
       "  'all((1, 2, 3)',\n",
       "  'all((1, 2, 3))',\n",
       "  '(1 for _ in range(10))',\n",
       "  'all((1 for _ in range(10)))',\n",
       "  'any(range(2))  # any(iterable)',\n",
       "  'any((0, 1, 2))',\n",
       "  'ascii(1)',\n",
       "  \"ascii('a')\",\n",
       "  \"ascii('a\\\\u')\",\n",
       "  \"ascii('\\\\u21321')\",\n",
       "  'bin(10)',\n",
       "  'bin(-10)',\n",
       "  'bin(-1)',\n",
       "  'bin(-10)',\n",
       "  'bool(1)',\n",
       "  'bool(-1)',\n",
       "  'bool(0)',\n",
       "  'bytearray(1)',\n",
       "  'bytearray(10)',\n",
       "  'callable(bool)',\n",
       "  'callable(1)',\n",
       "  'callable(class)',\n",
       "  'callable(def)',\n",
       "  'callable(class)',\n",
       "  'callable(import)',\n",
       "  'chr(97)',\n",
       "  'x = 1\\ndir(x)',\n",
       "  'delattr(x.imag)',\n",
       "  \"delattr(x, 'imag')\",\n",
       "  'class foo(object):\\n    def __init__(self, a):\\n        self.val = a\\n    def setVal(self, b):\\n        self.val = b\\na = foo(3)\\nprint(a)',\n",
       "  'class foo(object):\\n    def __init__(self, a):\\n        self.val = a\\n    def setVal(self, b):\\n        self.val = b\\n    def __str__(self):\\n        return \"Foo: {}\" %self.val\\na = foo(3)\\nprint(a)',\n",
       "  'class foo(object):\\n    def __init__(self, a):\\n        self.val = a\\n    def setVal(self, b):\\n        self.val = b\\n    def __str__(self):\\n        return \"Foo: {}\".format(self.val)\\na = foo(3)\\nprint(a)',\n",
       "  'class foo(object):\\n    def __init__(self, a):\\n        self.val = a\\n    def setVal(self, b):\\n        self.val = b\\n    def __str__(self):\\n        return \"Foo: {}\".format(self.val)\\na = foo(3)\\nprint(a)',\n",
       "  'dir(a)',\n",
       "  'delattr(a, setVal)',\n",
       "  \"delattr(a, 'setVal')\",\n",
       "  \"delattr(a, 'val')\",\n",
       "  'print(a)',\n",
       "  \"setattr(a, 'val')\",\n",
       "  \"setattr(a, 'val', 3)\",\n",
       "  'print(a)',\n",
       "  'getattr(a)',\n",
       "  \"getattr(a, 'Val')\",\n",
       "  \"getattr(a, 'val')\",\n",
       "  'dir(a)  # this does return a list of attributes',\n",
       "  'dir(a)  # this does return a list of attributes, but I think getattr is specifically referring to values.',\n",
       "  \"class Shape:\\n    def __dir__(self):\\n        return ['area', 'perimeter', 'location']\\na = Shape()\",\n",
       "  \"class Shape:\\n    def __dir__(self):\\n        return ['area', 'perimeter', 'location']\\na = Shape()\\ndir(a)\",\n",
       "  \"class Shape:\\n    def __dir__(self):\\n        return ['area', 'perimeter', 'location']\\na = Shape()\\ndir(a)  # the dir function calls the __dir__ method in an object which is customizable.\",\n",
       "  'x, y = divmod(10, 3)\\nprint(x, y)',\n",
       "  \"seasons = ['Spring', 'Summer', 'Fall', 'Winter']\\nlist(enumerate(seasons))\",\n",
       "  \"x = 1\\neval('x+1')\",\n",
       "  \"s = 'pow(2, x+1)'\\neval(s)\",\n",
       "  'filter(lambda x: x > 3, range(10))',\n",
       "  'list(filter(lambda x: x > 3, range(10)))',\n",
       "  'a = filter(lambda x: x > 3, range(10))  # This returns an iterable\\na',\n",
       "  'list(a)',\n",
       "  'float(1)',\n",
       "  '\\'{0} is {1}\\'.format(\"TIme\", \"Money\")',\n",
       "  '\\'{0} is {1}\\'.format(\"Time\", \"Money.\")  # More formats to go. ',\n",
       "  'globals()'],\n",
       " '_ii': '\\'{0} is {1}\\'.format(\"TIme\", \"Money\")',\n",
       " '_iii': 'float(1)',\n",
       " '_oh': {1: 10,\n",
       "  2: 8.06225774829855,\n",
       "  3: 5.0,\n",
       "  4: False,\n",
       "  5: True,\n",
       "  7: True,\n",
       "  8: <generator object <genexpr> at 0x106aa69e8>,\n",
       "  9: True,\n",
       "  10: True,\n",
       "  11: True,\n",
       "  12: '1',\n",
       "  13: \"'a'\",\n",
       "  15: \"'\\\\u21321'\",\n",
       "  16: '0b1010',\n",
       "  17: '-0b1010',\n",
       "  18: '-0b1',\n",
       "  19: '-0b1010',\n",
       "  20: True,\n",
       "  21: True,\n",
       "  22: False,\n",
       "  23: bytearray(b'\\x00'),\n",
       "  24: bytearray(b'\\x00\\x00\\x00\\x00\\x00\\x00\\x00\\x00\\x00\\x00'),\n",
       "  25: True,\n",
       "  26: False,\n",
       "  31: 'a',\n",
       "  32: ['__abs__',\n",
       "   '__add__',\n",
       "   '__and__',\n",
       "   '__bool__',\n",
       "   '__ceil__',\n",
       "   '__class__',\n",
       "   '__delattr__',\n",
       "   '__dir__',\n",
       "   '__divmod__',\n",
       "   '__doc__',\n",
       "   '__eq__',\n",
       "   '__float__',\n",
       "   '__floor__',\n",
       "   '__floordiv__',\n",
       "   '__format__',\n",
       "   '__ge__',\n",
       "   '__getattribute__',\n",
       "   '__getnewargs__',\n",
       "   '__gt__',\n",
       "   '__hash__',\n",
       "   '__index__',\n",
       "   '__init__',\n",
       "   '__int__',\n",
       "   '__invert__',\n",
       "   '__le__',\n",
       "   '__lshift__',\n",
       "   '__lt__',\n",
       "   '__mod__',\n",
       "   '__mul__',\n",
       "   '__ne__',\n",
       "   '__neg__',\n",
       "   '__new__',\n",
       "   '__or__',\n",
       "   '__pos__',\n",
       "   '__pow__',\n",
       "   '__radd__',\n",
       "   '__rand__',\n",
       "   '__rdivmod__',\n",
       "   '__reduce__',\n",
       "   '__reduce_ex__',\n",
       "   '__repr__',\n",
       "   '__rfloordiv__',\n",
       "   '__rlshift__',\n",
       "   '__rmod__',\n",
       "   '__rmul__',\n",
       "   '__ror__',\n",
       "   '__round__',\n",
       "   '__rpow__',\n",
       "   '__rrshift__',\n",
       "   '__rshift__',\n",
       "   '__rsub__',\n",
       "   '__rtruediv__',\n",
       "   '__rxor__',\n",
       "   '__setattr__',\n",
       "   '__sizeof__',\n",
       "   '__str__',\n",
       "   '__sub__',\n",
       "   '__subclasshook__',\n",
       "   '__truediv__',\n",
       "   '__trunc__',\n",
       "   '__xor__',\n",
       "   'bit_length',\n",
       "   'conjugate',\n",
       "   'denominator',\n",
       "   'from_bytes',\n",
       "   'imag',\n",
       "   'numerator',\n",
       "   'real',\n",
       "   'to_bytes'],\n",
       "  39: ['__class__',\n",
       "   '__delattr__',\n",
       "   '__dict__',\n",
       "   '__dir__',\n",
       "   '__doc__',\n",
       "   '__eq__',\n",
       "   '__format__',\n",
       "   '__ge__',\n",
       "   '__getattribute__',\n",
       "   '__gt__',\n",
       "   '__hash__',\n",
       "   '__init__',\n",
       "   '__le__',\n",
       "   '__lt__',\n",
       "   '__module__',\n",
       "   '__ne__',\n",
       "   '__new__',\n",
       "   '__reduce__',\n",
       "   '__reduce_ex__',\n",
       "   '__repr__',\n",
       "   '__setattr__',\n",
       "   '__sizeof__',\n",
       "   '__str__',\n",
       "   '__subclasshook__',\n",
       "   '__weakref__',\n",
       "   'setVal',\n",
       "   'val'],\n",
       "  49: 3,\n",
       "  50: ['__class__',\n",
       "   '__delattr__',\n",
       "   '__dict__',\n",
       "   '__dir__',\n",
       "   '__doc__',\n",
       "   '__eq__',\n",
       "   '__format__',\n",
       "   '__ge__',\n",
       "   '__getattribute__',\n",
       "   '__gt__',\n",
       "   '__hash__',\n",
       "   '__init__',\n",
       "   '__le__',\n",
       "   '__lt__',\n",
       "   '__module__',\n",
       "   '__ne__',\n",
       "   '__new__',\n",
       "   '__reduce__',\n",
       "   '__reduce_ex__',\n",
       "   '__repr__',\n",
       "   '__setattr__',\n",
       "   '__sizeof__',\n",
       "   '__str__',\n",
       "   '__subclasshook__',\n",
       "   '__weakref__',\n",
       "   'setVal',\n",
       "   'val'],\n",
       "  51: ['__class__',\n",
       "   '__delattr__',\n",
       "   '__dict__',\n",
       "   '__dir__',\n",
       "   '__doc__',\n",
       "   '__eq__',\n",
       "   '__format__',\n",
       "   '__ge__',\n",
       "   '__getattribute__',\n",
       "   '__gt__',\n",
       "   '__hash__',\n",
       "   '__init__',\n",
       "   '__le__',\n",
       "   '__lt__',\n",
       "   '__module__',\n",
       "   '__ne__',\n",
       "   '__new__',\n",
       "   '__reduce__',\n",
       "   '__reduce_ex__',\n",
       "   '__repr__',\n",
       "   '__setattr__',\n",
       "   '__sizeof__',\n",
       "   '__str__',\n",
       "   '__subclasshook__',\n",
       "   '__weakref__',\n",
       "   'setVal',\n",
       "   'val'],\n",
       "  53: ['area', 'location', 'perimeter'],\n",
       "  54: ['area', 'location', 'perimeter'],\n",
       "  56: [(0, 'Spring'), (1, 'Summer'), (2, 'Fall'), (3, 'Winter')],\n",
       "  57: 2,\n",
       "  58: 4,\n",
       "  59: <filter at 0x106b66b70>,\n",
       "  60: [4, 5, 6, 7, 8, 9],\n",
       "  61: <filter at 0x106b5c390>,\n",
       "  62: [4, 5, 6, 7, 8, 9],\n",
       "  63: 1.0,\n",
       "  64: 'TIme is Money',\n",
       "  65: 'Time is Money.'},\n",
       " '_sh': <module 'IPython.core.shadowns' from '/Library/Frameworks/Python.framework/Versions/3.6/lib/python3.6/site-packages/IPython/core/shadowns.py'>,\n",
       " 'a': <filter at 0x106b5c390>,\n",
       " 'exit': <IPython.core.autocall.ZMQExitAutocall at 0x1069e1828>,\n",
       " 'foo': __main__.foo,\n",
       " 'get_ipython': <bound method InteractiveShell.get_ipython of <ipykernel.zmqshell.ZMQInteractiveShell object at 0x106994f60>>,\n",
       " 'quit': <IPython.core.autocall.ZMQExitAutocall at 0x1069e1828>,\n",
       " 's': 'pow(2, x+1)',\n",
       " 'seasons': ['Spring', 'Summer', 'Fall', 'Winter'],\n",
       " 'x': 1,\n",
       " 'y': 1}"
      ]
     },
     "execution_count": 66,
     "metadata": {},
     "output_type": "execute_result"
    }
   ],
   "source": [
    "globals()"
   ]
  },
  {
   "cell_type": "code",
   "execution_count": 69,
   "metadata": {
    "collapsed": false
   },
   "outputs": [
    {
     "name": "stdout",
     "output_type": "stream",
     "text": [
      "Do nothing!\n"
     ]
    }
   ],
   "source": [
    "def f():\n",
    "    print(\"Do nothing!\")\n",
    "    globals()\n",
    "f()\n"
   ]
  },
  {
   "cell_type": "code",
   "execution_count": 75,
   "metadata": {
    "collapsed": false
   },
   "outputs": [
    {
     "data": {
      "text/plain": [
       "['__class__',\n",
       " '__delattr__',\n",
       " '__dir__',\n",
       " '__doc__',\n",
       " '__eq__',\n",
       " '__format__',\n",
       " '__ge__',\n",
       " '__getattribute__',\n",
       " '__gt__',\n",
       " '__hash__',\n",
       " '__init__',\n",
       " '__iter__',\n",
       " '__le__',\n",
       " '__lt__',\n",
       " '__ne__',\n",
       " '__new__',\n",
       " '__next__',\n",
       " '__reduce__',\n",
       " '__reduce_ex__',\n",
       " '__repr__',\n",
       " '__setattr__',\n",
       " '__sizeof__',\n",
       " '__str__',\n",
       " '__subclasshook__']"
      ]
     },
     "execution_count": 75,
     "metadata": {},
     "output_type": "execute_result"
    }
   ],
   "source": [
    "dir(a)"
   ]
  },
  {
   "cell_type": "code",
   "execution_count": 74,
   "metadata": {
    "collapsed": false
   },
   "outputs": [
    {
     "data": {
      "text/plain": [
       "True"
      ]
     },
     "execution_count": 74,
     "metadata": {},
     "output_type": "execute_result"
    }
   ],
   "source": [
    "hasattr(a, '__str__')  # anything in dir(a) is an attribute, but some can be set, the others can't."
   ]
  },
  {
   "cell_type": "code",
   "execution_count": 77,
   "metadata": {
    "collapsed": false
   },
   "outputs": [
    {
     "data": {
      "text/plain": [
       "-1345937757843954335"
      ]
     },
     "execution_count": 77,
     "metadata": {},
     "output_type": "execute_result"
    }
   ],
   "source": [
    "'a'.__hash__()"
   ]
  },
  {
   "cell_type": "code",
   "execution_count": 78,
   "metadata": {
    "collapsed": false
   },
   "outputs": [
    {
     "data": {
      "text/plain": [
       "-1345937757843954335"
      ]
     },
     "execution_count": 78,
     "metadata": {},
     "output_type": "execute_result"
    }
   ],
   "source": [
    "hash('a')"
   ]
  },
  {
   "cell_type": "code",
   "execution_count": 79,
   "metadata": {
    "collapsed": false
   },
   "outputs": [
    {
     "ename": "TypeError",
     "evalue": "unhashable type: 'list'",
     "output_type": "error",
     "traceback": [
      "\u001b[0;31m---------------------------------------------------------------------------\u001b[0m",
      "\u001b[0;31mTypeError\u001b[0m                                 Traceback (most recent call last)",
      "\u001b[0;32m<ipython-input-79-9f4db1cea10a>\u001b[0m in \u001b[0;36m<module>\u001b[0;34m()\u001b[0m\n\u001b[0;32m----> 1\u001b[0;31m \u001b[0mhash\u001b[0m\u001b[0;34m(\u001b[0m\u001b[0;34m[\u001b[0m\u001b[0;36m1\u001b[0m\u001b[0;34m]\u001b[0m\u001b[0;34m)\u001b[0m\u001b[0;34m\u001b[0m\u001b[0m\n\u001b[0m",
      "\u001b[0;31mTypeError\u001b[0m: unhashable type: 'list'"
     ]
    }
   ],
   "source": [
    "hash([1])  # a hashable object must an immutable object"
   ]
  },
  {
   "cell_type": "code",
   "execution_count": 80,
   "metadata": {
    "collapsed": false
   },
   "outputs": [
    {
     "name": "stdout",
     "output_type": "stream",
     "text": [
      "Help on built-in function hash in module builtins:\n",
      "\n",
      "hash(obj, /)\n",
      "    Return the hash value for the given object.\n",
      "    \n",
      "    Two objects that compare equal must also have the same hash value, but the\n",
      "    reverse is not necessarily true.\n",
      "\n"
     ]
    }
   ],
   "source": [
    "help(hash)"
   ]
  },
  {
   "cell_type": "code",
   "execution_count": 81,
   "metadata": {
    "collapsed": false
   },
   "outputs": [
    {
     "data": {
      "text/plain": [
       "True"
      ]
     },
     "execution_count": 81,
     "metadata": {},
     "output_type": "execute_result"
    }
   ],
   "source": [
    "hash('a') == hash(chr(97))"
   ]
  },
  {
   "cell_type": "code",
   "execution_count": 82,
   "metadata": {
    "collapsed": false
   },
   "outputs": [
    {
     "data": {
      "text/plain": [
       "'0xff'"
      ]
     },
     "execution_count": 82,
     "metadata": {},
     "output_type": "execute_result"
    }
   ],
   "source": [
    "hex(255)"
   ]
  },
  {
   "cell_type": "code",
   "execution_count": 83,
   "metadata": {
    "collapsed": false
   },
   "outputs": [
    {
     "data": {
      "text/plain": [
       "'-0x2a'"
      ]
     },
     "execution_count": 83,
     "metadata": {},
     "output_type": "execute_result"
    }
   ],
   "source": [
    "hex(-42)"
   ]
  },
  {
   "cell_type": "code",
   "execution_count": 84,
   "metadata": {
    "collapsed": false
   },
   "outputs": [
    {
     "data": {
      "text/plain": [
       "4297566592"
      ]
     },
     "execution_count": 84,
     "metadata": {},
     "output_type": "execute_result"
    }
   ],
   "source": [
    "id(255)"
   ]
  },
  {
   "cell_type": "code",
   "execution_count": 86,
   "metadata": {
    "collapsed": false
   },
   "outputs": [
    {
     "data": {
      "text/plain": [
       "4407542672"
      ]
     },
     "execution_count": 86,
     "metadata": {},
     "output_type": "execute_result"
    }
   ],
   "source": [
    "# Return the “identity” of an object. \n",
    "# This is an integer which is guaranteed to be \n",
    "# unique and constant for this object during \n",
    "# its lifetime. Two objects with non-overlapping \n",
    "# lifetimes may have the same id() value.\n",
    "id(a)"
   ]
  },
  {
   "cell_type": "code",
   "execution_count": 88,
   "metadata": {
    "collapsed": false
   },
   "outputs": [
    {
     "name": "stdout",
     "output_type": "stream",
     "text": [
      "---> 20\n"
     ]
    }
   ],
   "source": [
    "s = input('---> ')"
   ]
  },
  {
   "cell_type": "code",
   "execution_count": 89,
   "metadata": {
    "collapsed": false
   },
   "outputs": [
    {
     "name": "stdout",
     "output_type": "stream",
     "text": [
      "20\n"
     ]
    }
   ],
   "source": [
    "print(s)"
   ]
  },
  {
   "cell_type": "code",
   "execution_count": 90,
   "metadata": {
    "collapsed": false
   },
   "outputs": [
    {
     "data": {
      "text/plain": [
       "'20'"
      ]
     },
     "execution_count": 90,
     "metadata": {},
     "output_type": "execute_result"
    }
   ],
   "source": [
    "s"
   ]
  },
  {
   "cell_type": "code",
   "execution_count": 91,
   "metadata": {
    "collapsed": false
   },
   "outputs": [
    {
     "data": {
      "text/plain": [
       "str"
      ]
     },
     "execution_count": 91,
     "metadata": {},
     "output_type": "execute_result"
    }
   ],
   "source": [
    "type(s)"
   ]
  },
  {
   "cell_type": "code",
   "execution_count": 92,
   "metadata": {
    "collapsed": false
   },
   "outputs": [
    {
     "data": {
      "text/plain": [
       "True"
      ]
     },
     "execution_count": 92,
     "metadata": {},
     "output_type": "execute_result"
    }
   ],
   "source": [
    "isinstance(1, int)"
   ]
  },
  {
   "cell_type": "code",
   "execution_count": 93,
   "metadata": {
    "collapsed": false
   },
   "outputs": [
    {
     "data": {
      "text/plain": [
       "False"
      ]
     },
     "execution_count": 93,
     "metadata": {},
     "output_type": "execute_result"
    }
   ],
   "source": [
    "isinstance(1, float)"
   ]
  },
  {
   "cell_type": "code",
   "execution_count": 94,
   "metadata": {
    "collapsed": false
   },
   "outputs": [
    {
     "data": {
      "text/plain": [
       "True"
      ]
     },
     "execution_count": 94,
     "metadata": {},
     "output_type": "execute_result"
    }
   ],
   "source": [
    "isinstance(1.0, float)"
   ]
  },
  {
   "cell_type": "code",
   "execution_count": 95,
   "metadata": {
    "collapsed": false
   },
   "outputs": [
    {
     "data": {
      "text/plain": [
       "filter"
      ]
     },
     "execution_count": 95,
     "metadata": {},
     "output_type": "execute_result"
    }
   ],
   "source": [
    "type(a)"
   ]
  },
  {
   "cell_type": "code",
   "execution_count": 96,
   "metadata": {
    "collapsed": false
   },
   "outputs": [
    {
     "data": {
      "text/plain": [
       "True"
      ]
     },
     "execution_count": 96,
     "metadata": {},
     "output_type": "execute_result"
    }
   ],
   "source": [
    "isinstance(a, filter)"
   ]
  },
  {
   "cell_type": "code",
   "execution_count": 113,
   "metadata": {
    "collapsed": false
   },
   "outputs": [
    {
     "data": {
      "text/plain": [
       "True"
      ]
     },
     "execution_count": 113,
     "metadata": {},
     "output_type": "execute_result"
    }
   ],
   "source": [
    "class A():\n",
    "    pass\n",
    "class Bar(A):\n",
    "    pass\n",
    "class Bar2():\n",
    "    pass\n",
    "issubclass(A, A)"
   ]
  },
  {
   "cell_type": "code",
   "execution_count": 114,
   "metadata": {
    "collapsed": false
   },
   "outputs": [
    {
     "data": {
      "text/plain": [
       "True"
      ]
     },
     "execution_count": 114,
     "metadata": {},
     "output_type": "execute_result"
    }
   ],
   "source": [
    "issubclass(Bar, A)"
   ]
  },
  {
   "cell_type": "code",
   "execution_count": 115,
   "metadata": {
    "collapsed": false
   },
   "outputs": [
    {
     "data": {
      "text/plain": [
       "False"
      ]
     },
     "execution_count": 115,
     "metadata": {},
     "output_type": "execute_result"
    }
   ],
   "source": [
    "issubclass(Bar2, A)"
   ]
  },
  {
   "cell_type": "code",
   "execution_count": 121,
   "metadata": {
    "collapsed": false
   },
   "outputs": [],
   "source": [
    "aIter = iter([1, 2, 3])"
   ]
  },
  {
   "cell_type": "code",
   "execution_count": 122,
   "metadata": {
    "collapsed": false
   },
   "outputs": [
    {
     "data": {
      "text/plain": [
       "1"
      ]
     },
     "execution_count": 122,
     "metadata": {},
     "output_type": "execute_result"
    }
   ],
   "source": [
    "next(aIter)"
   ]
  },
  {
   "cell_type": "code",
   "execution_count": 123,
   "metadata": {
    "collapsed": false
   },
   "outputs": [
    {
     "data": {
      "text/plain": [
       "2"
      ]
     },
     "execution_count": 123,
     "metadata": {},
     "output_type": "execute_result"
    }
   ],
   "source": [
    "next(aIter)"
   ]
  },
  {
   "cell_type": "code",
   "execution_count": 124,
   "metadata": {
    "collapsed": false
   },
   "outputs": [
    {
     "data": {
      "text/plain": [
       "3"
      ]
     },
     "execution_count": 124,
     "metadata": {},
     "output_type": "execute_result"
    }
   ],
   "source": [
    "next(aIter)"
   ]
  },
  {
   "cell_type": "code",
   "execution_count": 125,
   "metadata": {
    "collapsed": false
   },
   "outputs": [
    {
     "ename": "StopIteration",
     "evalue": "",
     "output_type": "error",
     "traceback": [
      "\u001b[0;31m---------------------------------------------------------------------------\u001b[0m",
      "\u001b[0;31mStopIteration\u001b[0m                             Traceback (most recent call last)",
      "\u001b[0;32m<ipython-input-125-30840a11e470>\u001b[0m in \u001b[0;36m<module>\u001b[0;34m()\u001b[0m\n\u001b[0;32m----> 1\u001b[0;31m \u001b[0mnext\u001b[0m\u001b[0;34m(\u001b[0m\u001b[0maIter\u001b[0m\u001b[0;34m)\u001b[0m\u001b[0;34m\u001b[0m\u001b[0m\n\u001b[0m",
      "\u001b[0;31mStopIteration\u001b[0m: "
     ]
    }
   ],
   "source": [
    "next(aIter)"
   ]
  },
  {
   "cell_type": "code",
   "execution_count": 126,
   "metadata": {
    "collapsed": false
   },
   "outputs": [
    {
     "data": {
      "text/plain": [
       "3"
      ]
     },
     "execution_count": 126,
     "metadata": {},
     "output_type": "execute_result"
    }
   ],
   "source": [
    "len([1, 2, 3])"
   ]
  },
  {
   "cell_type": "code",
   "execution_count": 127,
   "metadata": {
    "collapsed": false
   },
   "outputs": [
    {
     "data": {
      "text/plain": [
       "{'A': __main__.A,\n",
       " 'Bar': __main__.Bar,\n",
       " 'Bar2': __main__.Bar2,\n",
       " 'C': __main__.C,\n",
       " 'In': ['',\n",
       "  'abs(10)',\n",
       "  'abs(1-8j)',\n",
       "  'abs(3-4j)',\n",
       "  'all(range(3))  # all(iterable)',\n",
       "  'all([1, 2, 3])',\n",
       "  'all((1, 2, 3)',\n",
       "  'all((1, 2, 3))',\n",
       "  '(1 for _ in range(10))',\n",
       "  'all((1 for _ in range(10)))',\n",
       "  'any(range(2))  # any(iterable)',\n",
       "  'any((0, 1, 2))',\n",
       "  'ascii(1)',\n",
       "  \"ascii('a')\",\n",
       "  \"ascii('a\\\\u')\",\n",
       "  \"ascii('\\\\u21321')\",\n",
       "  'bin(10)',\n",
       "  'bin(-10)',\n",
       "  'bin(-1)',\n",
       "  'bin(-10)',\n",
       "  'bool(1)',\n",
       "  'bool(-1)',\n",
       "  'bool(0)',\n",
       "  'bytearray(1)',\n",
       "  'bytearray(10)',\n",
       "  'callable(bool)',\n",
       "  'callable(1)',\n",
       "  'callable(class)',\n",
       "  'callable(def)',\n",
       "  'callable(class)',\n",
       "  'callable(import)',\n",
       "  'chr(97)',\n",
       "  'x = 1\\ndir(x)',\n",
       "  'delattr(x.imag)',\n",
       "  \"delattr(x, 'imag')\",\n",
       "  'class foo(object):\\n    def __init__(self, a):\\n        self.val = a\\n    def setVal(self, b):\\n        self.val = b\\na = foo(3)\\nprint(a)',\n",
       "  'class foo(object):\\n    def __init__(self, a):\\n        self.val = a\\n    def setVal(self, b):\\n        self.val = b\\n    def __str__(self):\\n        return \"Foo: {}\" %self.val\\na = foo(3)\\nprint(a)',\n",
       "  'class foo(object):\\n    def __init__(self, a):\\n        self.val = a\\n    def setVal(self, b):\\n        self.val = b\\n    def __str__(self):\\n        return \"Foo: {}\".format(self.val)\\na = foo(3)\\nprint(a)',\n",
       "  'class foo(object):\\n    def __init__(self, a):\\n        self.val = a\\n    def setVal(self, b):\\n        self.val = b\\n    def __str__(self):\\n        return \"Foo: {}\".format(self.val)\\na = foo(3)\\nprint(a)',\n",
       "  'dir(a)',\n",
       "  'delattr(a, setVal)',\n",
       "  \"delattr(a, 'setVal')\",\n",
       "  \"delattr(a, 'val')\",\n",
       "  'print(a)',\n",
       "  \"setattr(a, 'val')\",\n",
       "  \"setattr(a, 'val', 3)\",\n",
       "  'print(a)',\n",
       "  'getattr(a)',\n",
       "  \"getattr(a, 'Val')\",\n",
       "  \"getattr(a, 'val')\",\n",
       "  'dir(a)  # this does return a list of attributes',\n",
       "  'dir(a)  # this does return a list of attributes, but I think getattr is specifically referring to values.',\n",
       "  \"class Shape:\\n    def __dir__(self):\\n        return ['area', 'perimeter', 'location']\\na = Shape()\",\n",
       "  \"class Shape:\\n    def __dir__(self):\\n        return ['area', 'perimeter', 'location']\\na = Shape()\\ndir(a)\",\n",
       "  \"class Shape:\\n    def __dir__(self):\\n        return ['area', 'perimeter', 'location']\\na = Shape()\\ndir(a)  # the dir function calls the __dir__ method in an object which is customizable.\",\n",
       "  'x, y = divmod(10, 3)\\nprint(x, y)',\n",
       "  \"seasons = ['Spring', 'Summer', 'Fall', 'Winter']\\nlist(enumerate(seasons))\",\n",
       "  \"x = 1\\neval('x+1')\",\n",
       "  \"s = 'pow(2, x+1)'\\neval(s)\",\n",
       "  'filter(lambda x: x > 3, range(10))',\n",
       "  'list(filter(lambda x: x > 3, range(10)))',\n",
       "  'a = filter(lambda x: x > 3, range(10))  # This returns an iterable\\na',\n",
       "  'list(a)',\n",
       "  'float(1)',\n",
       "  '\\'{0} is {1}\\'.format(\"TIme\", \"Money\")',\n",
       "  '\\'{0} is {1}\\'.format(\"Time\", \"Money.\")  # More formats to go. ',\n",
       "  'globals()',\n",
       "  'def f():\\n    print(\"Do nothing!\")\\n    globals()\\nf()',\n",
       "  'def f():\\n    print(\"Do nothing!\")\\n    print(globals())\\nf()',\n",
       "  'def f():\\n    print(\"Do nothing!\")\\n    globals()\\nf()',\n",
       "  'print(a)',\n",
       "  'dir(a)',\n",
       "  \"hasattr(a, '__str__')\",\n",
       "  \"dir(a)\\nhasattr(a, '__str__')\",\n",
       "  \"hasattr(a, '__str__')\",\n",
       "  'dir(a)',\n",
       "  '(1).__hash__()',\n",
       "  \"'a'.__hash__()\",\n",
       "  \"hash('a')\",\n",
       "  'hash([1])',\n",
       "  'help(hash)',\n",
       "  \"hash('a') == hash(chr(97))\",\n",
       "  'hex(255)',\n",
       "  'hex(-42)',\n",
       "  'id(255)',\n",
       "  'id(1)',\n",
       "  'id(a)',\n",
       "  \"s = input('---> ')\",\n",
       "  \"s = input('---> ')\",\n",
       "  'print(s)',\n",
       "  's',\n",
       "  'type(s)',\n",
       "  'isinstance(1, int)',\n",
       "  'isinstance(1, float)',\n",
       "  'isinstance(1.0, float)',\n",
       "  'type(a)',\n",
       "  'isinstance(a, filter)',\n",
       "  'import datetime\\nissubclass(datetime.date, datetime)',\n",
       "  'import datetime\\nissubclass(datetime.date, datetime.datetime)',\n",
       "  'import datetime\\nissubclass(datetime.time, datetime.datetime)',\n",
       "  'import datetime\\nissubclass(datetime.date, datetime.datetime)',\n",
       "  'import datetime\\nissubclass(datetime.datetime.date, datetime.datetime)',\n",
       "  'import numpy as np\\nissubclass(np.random, random.random)',\n",
       "  'import numpy as np\\nimport random\\nissubclass(np.random, random)',\n",
       "  'import numpy as np\\nimport random\\nissubclass(np.random, random.random)',\n",
       "  'import numpy as np\\nimport random\\nissubclass(np.random, random)',\n",
       "  'import numpy as np\\nimport random\\nissubclass(np.random, random.random)',\n",
       "  'type(np.random)',\n",
       "  'type(np.random.random)',\n",
       "  'class C:\\n    pass\\nissubclass(C, C)',\n",
       "  'issubclass(C, object)',\n",
       "  'class C():\\n    pass\\nissubclass(C, C)',\n",
       "  'issubclass(C, object)',\n",
       "  'class A():\\n    pass\\nclass Bar(A):\\n    pass\\nclass Bar2():\\n    pass\\nissubclass(A, A)',\n",
       "  'issubclass(Bar, A)',\n",
       "  'issubclass(Bar2, A)',\n",
       "  'iter()',\n",
       "  'iter([1, 2, 3])',\n",
       "  'iter([1, 2, 3]).__next__',\n",
       "  'iter([1, 2, 3]).__next__()',\n",
       "  'iter([1, 2, 3]).__next__()',\n",
       "  'aIter = iter([1, 2, 3])',\n",
       "  'next(aIter)',\n",
       "  'next(aIter)',\n",
       "  'next(aIter)',\n",
       "  'next(aIter)',\n",
       "  'len([1, 2, 3])',\n",
       "  'locals()'],\n",
       " 'Out': {1: 10,\n",
       "  2: 8.06225774829855,\n",
       "  3: 5.0,\n",
       "  4: False,\n",
       "  5: True,\n",
       "  7: True,\n",
       "  8: <generator object <genexpr> at 0x106aa69e8>,\n",
       "  9: True,\n",
       "  10: True,\n",
       "  11: True,\n",
       "  12: '1',\n",
       "  13: \"'a'\",\n",
       "  15: \"'\\\\u21321'\",\n",
       "  16: '0b1010',\n",
       "  17: '-0b1010',\n",
       "  18: '-0b1',\n",
       "  19: '-0b1010',\n",
       "  20: True,\n",
       "  21: True,\n",
       "  22: False,\n",
       "  23: bytearray(b'\\x00'),\n",
       "  24: bytearray(b'\\x00\\x00\\x00\\x00\\x00\\x00\\x00\\x00\\x00\\x00'),\n",
       "  25: True,\n",
       "  26: False,\n",
       "  31: 'a',\n",
       "  32: ['__abs__',\n",
       "   '__add__',\n",
       "   '__and__',\n",
       "   '__bool__',\n",
       "   '__ceil__',\n",
       "   '__class__',\n",
       "   '__delattr__',\n",
       "   '__dir__',\n",
       "   '__divmod__',\n",
       "   '__doc__',\n",
       "   '__eq__',\n",
       "   '__float__',\n",
       "   '__floor__',\n",
       "   '__floordiv__',\n",
       "   '__format__',\n",
       "   '__ge__',\n",
       "   '__getattribute__',\n",
       "   '__getnewargs__',\n",
       "   '__gt__',\n",
       "   '__hash__',\n",
       "   '__index__',\n",
       "   '__init__',\n",
       "   '__int__',\n",
       "   '__invert__',\n",
       "   '__le__',\n",
       "   '__lshift__',\n",
       "   '__lt__',\n",
       "   '__mod__',\n",
       "   '__mul__',\n",
       "   '__ne__',\n",
       "   '__neg__',\n",
       "   '__new__',\n",
       "   '__or__',\n",
       "   '__pos__',\n",
       "   '__pow__',\n",
       "   '__radd__',\n",
       "   '__rand__',\n",
       "   '__rdivmod__',\n",
       "   '__reduce__',\n",
       "   '__reduce_ex__',\n",
       "   '__repr__',\n",
       "   '__rfloordiv__',\n",
       "   '__rlshift__',\n",
       "   '__rmod__',\n",
       "   '__rmul__',\n",
       "   '__ror__',\n",
       "   '__round__',\n",
       "   '__rpow__',\n",
       "   '__rrshift__',\n",
       "   '__rshift__',\n",
       "   '__rsub__',\n",
       "   '__rtruediv__',\n",
       "   '__rxor__',\n",
       "   '__setattr__',\n",
       "   '__sizeof__',\n",
       "   '__str__',\n",
       "   '__sub__',\n",
       "   '__subclasshook__',\n",
       "   '__truediv__',\n",
       "   '__trunc__',\n",
       "   '__xor__',\n",
       "   'bit_length',\n",
       "   'conjugate',\n",
       "   'denominator',\n",
       "   'from_bytes',\n",
       "   'imag',\n",
       "   'numerator',\n",
       "   'real',\n",
       "   'to_bytes'],\n",
       "  39: ['__class__',\n",
       "   '__delattr__',\n",
       "   '__dict__',\n",
       "   '__dir__',\n",
       "   '__doc__',\n",
       "   '__eq__',\n",
       "   '__format__',\n",
       "   '__ge__',\n",
       "   '__getattribute__',\n",
       "   '__gt__',\n",
       "   '__hash__',\n",
       "   '__init__',\n",
       "   '__le__',\n",
       "   '__lt__',\n",
       "   '__module__',\n",
       "   '__ne__',\n",
       "   '__new__',\n",
       "   '__reduce__',\n",
       "   '__reduce_ex__',\n",
       "   '__repr__',\n",
       "   '__setattr__',\n",
       "   '__sizeof__',\n",
       "   '__str__',\n",
       "   '__subclasshook__',\n",
       "   '__weakref__',\n",
       "   'setVal',\n",
       "   'val'],\n",
       "  49: 3,\n",
       "  50: ['__class__',\n",
       "   '__delattr__',\n",
       "   '__dict__',\n",
       "   '__dir__',\n",
       "   '__doc__',\n",
       "   '__eq__',\n",
       "   '__format__',\n",
       "   '__ge__',\n",
       "   '__getattribute__',\n",
       "   '__gt__',\n",
       "   '__hash__',\n",
       "   '__init__',\n",
       "   '__le__',\n",
       "   '__lt__',\n",
       "   '__module__',\n",
       "   '__ne__',\n",
       "   '__new__',\n",
       "   '__reduce__',\n",
       "   '__reduce_ex__',\n",
       "   '__repr__',\n",
       "   '__setattr__',\n",
       "   '__sizeof__',\n",
       "   '__str__',\n",
       "   '__subclasshook__',\n",
       "   '__weakref__',\n",
       "   'setVal',\n",
       "   'val'],\n",
       "  51: ['__class__',\n",
       "   '__delattr__',\n",
       "   '__dict__',\n",
       "   '__dir__',\n",
       "   '__doc__',\n",
       "   '__eq__',\n",
       "   '__format__',\n",
       "   '__ge__',\n",
       "   '__getattribute__',\n",
       "   '__gt__',\n",
       "   '__hash__',\n",
       "   '__init__',\n",
       "   '__le__',\n",
       "   '__lt__',\n",
       "   '__module__',\n",
       "   '__ne__',\n",
       "   '__new__',\n",
       "   '__reduce__',\n",
       "   '__reduce_ex__',\n",
       "   '__repr__',\n",
       "   '__setattr__',\n",
       "   '__sizeof__',\n",
       "   '__str__',\n",
       "   '__subclasshook__',\n",
       "   '__weakref__',\n",
       "   'setVal',\n",
       "   'val'],\n",
       "  53: ['area', 'location', 'perimeter'],\n",
       "  54: ['area', 'location', 'perimeter'],\n",
       "  56: [(0, 'Spring'), (1, 'Summer'), (2, 'Fall'), (3, 'Winter')],\n",
       "  57: 2,\n",
       "  58: 4,\n",
       "  59: <filter at 0x106b66b70>,\n",
       "  60: [4, 5, 6, 7, 8, 9],\n",
       "  61: <filter at 0x106b5c390>,\n",
       "  62: [4, 5, 6, 7, 8, 9],\n",
       "  63: 1.0,\n",
       "  64: 'TIme is Money',\n",
       "  65: 'Time is Money.',\n",
       "  66: {...},\n",
       "  71: ['__class__',\n",
       "   '__delattr__',\n",
       "   '__dir__',\n",
       "   '__doc__',\n",
       "   '__eq__',\n",
       "   '__format__',\n",
       "   '__ge__',\n",
       "   '__getattribute__',\n",
       "   '__gt__',\n",
       "   '__hash__',\n",
       "   '__init__',\n",
       "   '__iter__',\n",
       "   '__le__',\n",
       "   '__lt__',\n",
       "   '__ne__',\n",
       "   '__new__',\n",
       "   '__next__',\n",
       "   '__reduce__',\n",
       "   '__reduce_ex__',\n",
       "   '__repr__',\n",
       "   '__setattr__',\n",
       "   '__sizeof__',\n",
       "   '__str__',\n",
       "   '__subclasshook__'],\n",
       "  72: True,\n",
       "  73: True,\n",
       "  74: True,\n",
       "  75: ['__class__',\n",
       "   '__delattr__',\n",
       "   '__dir__',\n",
       "   '__doc__',\n",
       "   '__eq__',\n",
       "   '__format__',\n",
       "   '__ge__',\n",
       "   '__getattribute__',\n",
       "   '__gt__',\n",
       "   '__hash__',\n",
       "   '__init__',\n",
       "   '__iter__',\n",
       "   '__le__',\n",
       "   '__lt__',\n",
       "   '__ne__',\n",
       "   '__new__',\n",
       "   '__next__',\n",
       "   '__reduce__',\n",
       "   '__reduce_ex__',\n",
       "   '__repr__',\n",
       "   '__setattr__',\n",
       "   '__sizeof__',\n",
       "   '__str__',\n",
       "   '__subclasshook__'],\n",
       "  76: 1,\n",
       "  77: -1345937757843954335,\n",
       "  78: -1345937757843954335,\n",
       "  81: True,\n",
       "  82: '0xff',\n",
       "  83: '-0x2a',\n",
       "  84: 4297566592,\n",
       "  85: 4297558464,\n",
       "  86: 4407542672,\n",
       "  90: '20',\n",
       "  91: str,\n",
       "  92: True,\n",
       "  93: False,\n",
       "  94: True,\n",
       "  95: filter,\n",
       "  96: True,\n",
       "  98: False,\n",
       "  99: False,\n",
       "  100: False,\n",
       "  107: module,\n",
       "  108: builtin_function_or_method,\n",
       "  109: True,\n",
       "  110: True,\n",
       "  111: True,\n",
       "  112: True,\n",
       "  113: True,\n",
       "  114: True,\n",
       "  115: False,\n",
       "  117: <list_iterator at 0x10730bcf8>,\n",
       "  118: <method-wrapper '__next__' of list_iterator object at 0x10730bd30>,\n",
       "  119: 1,\n",
       "  120: 1,\n",
       "  122: 1,\n",
       "  123: 2,\n",
       "  124: 3,\n",
       "  126: 3},\n",
       " 'Shape': __main__.Shape,\n",
       " '_': 3,\n",
       " '_1': 10,\n",
       " '_10': True,\n",
       " '_100': False,\n",
       " '_107': module,\n",
       " '_108': builtin_function_or_method,\n",
       " '_109': True,\n",
       " '_11': True,\n",
       " '_110': True,\n",
       " '_111': True,\n",
       " '_112': True,\n",
       " '_113': True,\n",
       " '_114': True,\n",
       " '_115': False,\n",
       " '_117': <list_iterator at 0x10730bcf8>,\n",
       " '_118': <method-wrapper '__next__' of list_iterator object at 0x10730bd30>,\n",
       " '_119': 1,\n",
       " '_12': '1',\n",
       " '_120': 1,\n",
       " '_122': 1,\n",
       " '_123': 2,\n",
       " '_124': 3,\n",
       " '_126': 3,\n",
       " '_13': \"'a'\",\n",
       " '_15': \"'\\\\u21321'\",\n",
       " '_16': '0b1010',\n",
       " '_17': '-0b1010',\n",
       " '_18': '-0b1',\n",
       " '_19': '-0b1010',\n",
       " '_2': 8.06225774829855,\n",
       " '_20': True,\n",
       " '_21': True,\n",
       " '_22': False,\n",
       " '_23': bytearray(b'\\x00'),\n",
       " '_24': bytearray(b'\\x00\\x00\\x00\\x00\\x00\\x00\\x00\\x00\\x00\\x00'),\n",
       " '_25': True,\n",
       " '_26': False,\n",
       " '_3': 5.0,\n",
       " '_31': 'a',\n",
       " '_32': ['__abs__',\n",
       "  '__add__',\n",
       "  '__and__',\n",
       "  '__bool__',\n",
       "  '__ceil__',\n",
       "  '__class__',\n",
       "  '__delattr__',\n",
       "  '__dir__',\n",
       "  '__divmod__',\n",
       "  '__doc__',\n",
       "  '__eq__',\n",
       "  '__float__',\n",
       "  '__floor__',\n",
       "  '__floordiv__',\n",
       "  '__format__',\n",
       "  '__ge__',\n",
       "  '__getattribute__',\n",
       "  '__getnewargs__',\n",
       "  '__gt__',\n",
       "  '__hash__',\n",
       "  '__index__',\n",
       "  '__init__',\n",
       "  '__int__',\n",
       "  '__invert__',\n",
       "  '__le__',\n",
       "  '__lshift__',\n",
       "  '__lt__',\n",
       "  '__mod__',\n",
       "  '__mul__',\n",
       "  '__ne__',\n",
       "  '__neg__',\n",
       "  '__new__',\n",
       "  '__or__',\n",
       "  '__pos__',\n",
       "  '__pow__',\n",
       "  '__radd__',\n",
       "  '__rand__',\n",
       "  '__rdivmod__',\n",
       "  '__reduce__',\n",
       "  '__reduce_ex__',\n",
       "  '__repr__',\n",
       "  '__rfloordiv__',\n",
       "  '__rlshift__',\n",
       "  '__rmod__',\n",
       "  '__rmul__',\n",
       "  '__ror__',\n",
       "  '__round__',\n",
       "  '__rpow__',\n",
       "  '__rrshift__',\n",
       "  '__rshift__',\n",
       "  '__rsub__',\n",
       "  '__rtruediv__',\n",
       "  '__rxor__',\n",
       "  '__setattr__',\n",
       "  '__sizeof__',\n",
       "  '__str__',\n",
       "  '__sub__',\n",
       "  '__subclasshook__',\n",
       "  '__truediv__',\n",
       "  '__trunc__',\n",
       "  '__xor__',\n",
       "  'bit_length',\n",
       "  'conjugate',\n",
       "  'denominator',\n",
       "  'from_bytes',\n",
       "  'imag',\n",
       "  'numerator',\n",
       "  'real',\n",
       "  'to_bytes'],\n",
       " '_39': ['__class__',\n",
       "  '__delattr__',\n",
       "  '__dict__',\n",
       "  '__dir__',\n",
       "  '__doc__',\n",
       "  '__eq__',\n",
       "  '__format__',\n",
       "  '__ge__',\n",
       "  '__getattribute__',\n",
       "  '__gt__',\n",
       "  '__hash__',\n",
       "  '__init__',\n",
       "  '__le__',\n",
       "  '__lt__',\n",
       "  '__module__',\n",
       "  '__ne__',\n",
       "  '__new__',\n",
       "  '__reduce__',\n",
       "  '__reduce_ex__',\n",
       "  '__repr__',\n",
       "  '__setattr__',\n",
       "  '__sizeof__',\n",
       "  '__str__',\n",
       "  '__subclasshook__',\n",
       "  '__weakref__',\n",
       "  'setVal',\n",
       "  'val'],\n",
       " '_4': False,\n",
       " '_49': 3,\n",
       " '_5': True,\n",
       " '_50': ['__class__',\n",
       "  '__delattr__',\n",
       "  '__dict__',\n",
       "  '__dir__',\n",
       "  '__doc__',\n",
       "  '__eq__',\n",
       "  '__format__',\n",
       "  '__ge__',\n",
       "  '__getattribute__',\n",
       "  '__gt__',\n",
       "  '__hash__',\n",
       "  '__init__',\n",
       "  '__le__',\n",
       "  '__lt__',\n",
       "  '__module__',\n",
       "  '__ne__',\n",
       "  '__new__',\n",
       "  '__reduce__',\n",
       "  '__reduce_ex__',\n",
       "  '__repr__',\n",
       "  '__setattr__',\n",
       "  '__sizeof__',\n",
       "  '__str__',\n",
       "  '__subclasshook__',\n",
       "  '__weakref__',\n",
       "  'setVal',\n",
       "  'val'],\n",
       " '_51': ['__class__',\n",
       "  '__delattr__',\n",
       "  '__dict__',\n",
       "  '__dir__',\n",
       "  '__doc__',\n",
       "  '__eq__',\n",
       "  '__format__',\n",
       "  '__ge__',\n",
       "  '__getattribute__',\n",
       "  '__gt__',\n",
       "  '__hash__',\n",
       "  '__init__',\n",
       "  '__le__',\n",
       "  '__lt__',\n",
       "  '__module__',\n",
       "  '__ne__',\n",
       "  '__new__',\n",
       "  '__reduce__',\n",
       "  '__reduce_ex__',\n",
       "  '__repr__',\n",
       "  '__setattr__',\n",
       "  '__sizeof__',\n",
       "  '__str__',\n",
       "  '__subclasshook__',\n",
       "  '__weakref__',\n",
       "  'setVal',\n",
       "  'val'],\n",
       " '_53': ['area', 'location', 'perimeter'],\n",
       " '_54': ['area', 'location', 'perimeter'],\n",
       " '_56': [(0, 'Spring'), (1, 'Summer'), (2, 'Fall'), (3, 'Winter')],\n",
       " '_57': 2,\n",
       " '_58': 4,\n",
       " '_59': <filter at 0x106b66b70>,\n",
       " '_60': [4, 5, 6, 7, 8, 9],\n",
       " '_61': <filter at 0x106b5c390>,\n",
       " '_62': [4, 5, 6, 7, 8, 9],\n",
       " '_63': 1.0,\n",
       " '_64': 'TIme is Money',\n",
       " '_65': 'Time is Money.',\n",
       " '_66': {...},\n",
       " '_7': True,\n",
       " '_71': ['__class__',\n",
       "  '__delattr__',\n",
       "  '__dir__',\n",
       "  '__doc__',\n",
       "  '__eq__',\n",
       "  '__format__',\n",
       "  '__ge__',\n",
       "  '__getattribute__',\n",
       "  '__gt__',\n",
       "  '__hash__',\n",
       "  '__init__',\n",
       "  '__iter__',\n",
       "  '__le__',\n",
       "  '__lt__',\n",
       "  '__ne__',\n",
       "  '__new__',\n",
       "  '__next__',\n",
       "  '__reduce__',\n",
       "  '__reduce_ex__',\n",
       "  '__repr__',\n",
       "  '__setattr__',\n",
       "  '__sizeof__',\n",
       "  '__str__',\n",
       "  '__subclasshook__'],\n",
       " '_72': True,\n",
       " '_73': True,\n",
       " '_74': True,\n",
       " '_75': ['__class__',\n",
       "  '__delattr__',\n",
       "  '__dir__',\n",
       "  '__doc__',\n",
       "  '__eq__',\n",
       "  '__format__',\n",
       "  '__ge__',\n",
       "  '__getattribute__',\n",
       "  '__gt__',\n",
       "  '__hash__',\n",
       "  '__init__',\n",
       "  '__iter__',\n",
       "  '__le__',\n",
       "  '__lt__',\n",
       "  '__ne__',\n",
       "  '__new__',\n",
       "  '__next__',\n",
       "  '__reduce__',\n",
       "  '__reduce_ex__',\n",
       "  '__repr__',\n",
       "  '__setattr__',\n",
       "  '__sizeof__',\n",
       "  '__str__',\n",
       "  '__subclasshook__'],\n",
       " '_76': 1,\n",
       " '_77': -1345937757843954335,\n",
       " '_78': -1345937757843954335,\n",
       " '_8': <generator object <genexpr> at 0x106aa69e8>,\n",
       " '_81': True,\n",
       " '_82': '0xff',\n",
       " '_83': '-0x2a',\n",
       " '_84': 4297566592,\n",
       " '_85': 4297558464,\n",
       " '_86': 4407542672,\n",
       " '_9': True,\n",
       " '_90': '20',\n",
       " '_91': str,\n",
       " '_92': True,\n",
       " '_93': False,\n",
       " '_94': True,\n",
       " '_95': filter,\n",
       " '_96': True,\n",
       " '_98': False,\n",
       " '_99': False,\n",
       " '__': 3,\n",
       " '___': 2,\n",
       " '__builtin__': <module 'builtins' (built-in)>,\n",
       " '__builtins__': <module 'builtins' (built-in)>,\n",
       " '__doc__': 'Automatically created module for IPython interactive environment',\n",
       " '__loader__': None,\n",
       " '__name__': '__main__',\n",
       " '__package__': None,\n",
       " '__spec__': None,\n",
       " '_dh': ['/Users/hanya/Github/myPython/Reviews'],\n",
       " '_i': 'len([1, 2, 3])',\n",
       " '_i1': 'abs(10)',\n",
       " '_i10': 'any(range(2))  # any(iterable)',\n",
       " '_i100': 'import datetime\\nissubclass(datetime.date, datetime.datetime)',\n",
       " '_i101': 'import datetime\\nissubclass(datetime.datetime.date, datetime.datetime)',\n",
       " '_i102': 'import numpy as np\\nissubclass(np.random, random.random)',\n",
       " '_i103': 'import numpy as np\\nimport random\\nissubclass(np.random, random)',\n",
       " '_i104': 'import numpy as np\\nimport random\\nissubclass(np.random, random.random)',\n",
       " '_i105': 'import numpy as np\\nimport random\\nissubclass(np.random, random)',\n",
       " '_i106': 'import numpy as np\\nimport random\\nissubclass(np.random, random.random)',\n",
       " '_i107': 'type(np.random)',\n",
       " '_i108': 'type(np.random.random)',\n",
       " '_i109': 'class C:\\n    pass\\nissubclass(C, C)',\n",
       " '_i11': 'any((0, 1, 2))',\n",
       " '_i110': 'issubclass(C, object)',\n",
       " '_i111': 'class C():\\n    pass\\nissubclass(C, C)',\n",
       " '_i112': 'issubclass(C, object)',\n",
       " '_i113': 'class A():\\n    pass\\nclass Bar(A):\\n    pass\\nclass Bar2():\\n    pass\\nissubclass(A, A)',\n",
       " '_i114': 'issubclass(Bar, A)',\n",
       " '_i115': 'issubclass(Bar2, A)',\n",
       " '_i116': 'iter()',\n",
       " '_i117': 'iter([1, 2, 3])',\n",
       " '_i118': 'iter([1, 2, 3]).__next__',\n",
       " '_i119': 'iter([1, 2, 3]).__next__()',\n",
       " '_i12': 'ascii(1)',\n",
       " '_i120': 'iter([1, 2, 3]).__next__()',\n",
       " '_i121': 'aIter = iter([1, 2, 3])',\n",
       " '_i122': 'next(aIter)',\n",
       " '_i123': 'next(aIter)',\n",
       " '_i124': 'next(aIter)',\n",
       " '_i125': 'next(aIter)',\n",
       " '_i126': 'len([1, 2, 3])',\n",
       " '_i127': 'locals()',\n",
       " '_i13': \"ascii('a')\",\n",
       " '_i14': \"ascii('a\\\\u')\",\n",
       " '_i15': \"ascii('\\\\u21321')\",\n",
       " '_i16': 'bin(10)',\n",
       " '_i17': 'bin(-10)',\n",
       " '_i18': 'bin(-1)',\n",
       " '_i19': 'bin(-10)',\n",
       " '_i2': 'abs(1-8j)',\n",
       " '_i20': 'bool(1)',\n",
       " '_i21': 'bool(-1)',\n",
       " '_i22': 'bool(0)',\n",
       " '_i23': 'bytearray(1)',\n",
       " '_i24': 'bytearray(10)',\n",
       " '_i25': 'callable(bool)',\n",
       " '_i26': 'callable(1)',\n",
       " '_i27': 'callable(class)',\n",
       " '_i28': 'callable(def)',\n",
       " '_i29': 'callable(class)',\n",
       " '_i3': 'abs(3-4j)',\n",
       " '_i30': 'callable(import)',\n",
       " '_i31': 'chr(97)',\n",
       " '_i32': 'x = 1\\ndir(x)',\n",
       " '_i33': 'delattr(x.imag)',\n",
       " '_i34': \"delattr(x, 'imag')\",\n",
       " '_i35': 'class foo(object):\\n    def __init__(self, a):\\n        self.val = a\\n    def setVal(self, b):\\n        self.val = b\\na = foo(3)\\nprint(a)',\n",
       " '_i36': 'class foo(object):\\n    def __init__(self, a):\\n        self.val = a\\n    def setVal(self, b):\\n        self.val = b\\n    def __str__(self):\\n        return \"Foo: {}\" %self.val\\na = foo(3)\\nprint(a)',\n",
       " '_i37': 'class foo(object):\\n    def __init__(self, a):\\n        self.val = a\\n    def setVal(self, b):\\n        self.val = b\\n    def __str__(self):\\n        return \"Foo: {}\".format(self.val)\\na = foo(3)\\nprint(a)',\n",
       " '_i38': 'class foo(object):\\n    def __init__(self, a):\\n        self.val = a\\n    def setVal(self, b):\\n        self.val = b\\n    def __str__(self):\\n        return \"Foo: {}\".format(self.val)\\na = foo(3)\\nprint(a)',\n",
       " '_i39': 'dir(a)',\n",
       " '_i4': 'all(range(3))  # all(iterable)',\n",
       " '_i40': 'delattr(a, setVal)',\n",
       " '_i41': \"delattr(a, 'setVal')\",\n",
       " '_i42': \"delattr(a, 'val')\",\n",
       " '_i43': 'print(a)',\n",
       " '_i44': \"setattr(a, 'val')\",\n",
       " '_i45': \"setattr(a, 'val', 3)\",\n",
       " '_i46': 'print(a)',\n",
       " '_i47': 'getattr(a)',\n",
       " '_i48': \"getattr(a, 'Val')\",\n",
       " '_i49': \"getattr(a, 'val')\",\n",
       " '_i5': 'all([1, 2, 3])',\n",
       " '_i50': 'dir(a)  # this does return a list of attributes',\n",
       " '_i51': 'dir(a)  # this does return a list of attributes, but I think getattr is specifically referring to values.',\n",
       " '_i52': \"class Shape:\\n    def __dir__(self):\\n        return ['area', 'perimeter', 'location']\\na = Shape()\",\n",
       " '_i53': \"class Shape:\\n    def __dir__(self):\\n        return ['area', 'perimeter', 'location']\\na = Shape()\\ndir(a)\",\n",
       " '_i54': \"class Shape:\\n    def __dir__(self):\\n        return ['area', 'perimeter', 'location']\\na = Shape()\\ndir(a)  # the dir function calls the __dir__ method in an object which is customizable.\",\n",
       " '_i55': 'x, y = divmod(10, 3)\\nprint(x, y)',\n",
       " '_i56': \"seasons = ['Spring', 'Summer', 'Fall', 'Winter']\\nlist(enumerate(seasons))\",\n",
       " '_i57': \"x = 1\\neval('x+1')\",\n",
       " '_i58': \"s = 'pow(2, x+1)'\\neval(s)\",\n",
       " '_i59': 'filter(lambda x: x > 3, range(10))',\n",
       " '_i6': 'all((1, 2, 3)',\n",
       " '_i60': 'list(filter(lambda x: x > 3, range(10)))',\n",
       " '_i61': 'a = filter(lambda x: x > 3, range(10))  # This returns an iterable\\na',\n",
       " '_i62': 'list(a)',\n",
       " '_i63': 'float(1)',\n",
       " '_i64': '\\'{0} is {1}\\'.format(\"TIme\", \"Money\")',\n",
       " '_i65': '\\'{0} is {1}\\'.format(\"Time\", \"Money.\")  # More formats to go. ',\n",
       " '_i66': 'globals()',\n",
       " '_i67': 'def f():\\n    print(\"Do nothing!\")\\n    globals()\\nf()',\n",
       " '_i68': 'def f():\\n    print(\"Do nothing!\")\\n    print(globals())\\nf()',\n",
       " '_i69': 'def f():\\n    print(\"Do nothing!\")\\n    globals()\\nf()',\n",
       " '_i7': 'all((1, 2, 3))',\n",
       " '_i70': 'print(a)',\n",
       " '_i71': 'dir(a)',\n",
       " '_i72': \"hasattr(a, '__str__')\",\n",
       " '_i73': \"dir(a)\\nhasattr(a, '__str__')\",\n",
       " '_i74': \"hasattr(a, '__str__')\",\n",
       " '_i75': 'dir(a)',\n",
       " '_i76': '(1).__hash__()',\n",
       " '_i77': \"'a'.__hash__()\",\n",
       " '_i78': \"hash('a')\",\n",
       " '_i79': 'hash([1])',\n",
       " '_i8': '(1 for _ in range(10))',\n",
       " '_i80': 'help(hash)',\n",
       " '_i81': \"hash('a') == hash(chr(97))\",\n",
       " '_i82': 'hex(255)',\n",
       " '_i83': 'hex(-42)',\n",
       " '_i84': 'id(255)',\n",
       " '_i85': 'id(1)',\n",
       " '_i86': 'id(a)',\n",
       " '_i87': \"s = input('---> ')\",\n",
       " '_i88': \"s = input('---> ')\",\n",
       " '_i89': 'print(s)',\n",
       " '_i9': 'all((1 for _ in range(10)))',\n",
       " '_i90': 's',\n",
       " '_i91': 'type(s)',\n",
       " '_i92': 'isinstance(1, int)',\n",
       " '_i93': 'isinstance(1, float)',\n",
       " '_i94': 'isinstance(1.0, float)',\n",
       " '_i95': 'type(a)',\n",
       " '_i96': 'isinstance(a, filter)',\n",
       " '_i97': 'import datetime\\nissubclass(datetime.date, datetime)',\n",
       " '_i98': 'import datetime\\nissubclass(datetime.date, datetime.datetime)',\n",
       " '_i99': 'import datetime\\nissubclass(datetime.time, datetime.datetime)',\n",
       " '_ih': ['',\n",
       "  'abs(10)',\n",
       "  'abs(1-8j)',\n",
       "  'abs(3-4j)',\n",
       "  'all(range(3))  # all(iterable)',\n",
       "  'all([1, 2, 3])',\n",
       "  'all((1, 2, 3)',\n",
       "  'all((1, 2, 3))',\n",
       "  '(1 for _ in range(10))',\n",
       "  'all((1 for _ in range(10)))',\n",
       "  'any(range(2))  # any(iterable)',\n",
       "  'any((0, 1, 2))',\n",
       "  'ascii(1)',\n",
       "  \"ascii('a')\",\n",
       "  \"ascii('a\\\\u')\",\n",
       "  \"ascii('\\\\u21321')\",\n",
       "  'bin(10)',\n",
       "  'bin(-10)',\n",
       "  'bin(-1)',\n",
       "  'bin(-10)',\n",
       "  'bool(1)',\n",
       "  'bool(-1)',\n",
       "  'bool(0)',\n",
       "  'bytearray(1)',\n",
       "  'bytearray(10)',\n",
       "  'callable(bool)',\n",
       "  'callable(1)',\n",
       "  'callable(class)',\n",
       "  'callable(def)',\n",
       "  'callable(class)',\n",
       "  'callable(import)',\n",
       "  'chr(97)',\n",
       "  'x = 1\\ndir(x)',\n",
       "  'delattr(x.imag)',\n",
       "  \"delattr(x, 'imag')\",\n",
       "  'class foo(object):\\n    def __init__(self, a):\\n        self.val = a\\n    def setVal(self, b):\\n        self.val = b\\na = foo(3)\\nprint(a)',\n",
       "  'class foo(object):\\n    def __init__(self, a):\\n        self.val = a\\n    def setVal(self, b):\\n        self.val = b\\n    def __str__(self):\\n        return \"Foo: {}\" %self.val\\na = foo(3)\\nprint(a)',\n",
       "  'class foo(object):\\n    def __init__(self, a):\\n        self.val = a\\n    def setVal(self, b):\\n        self.val = b\\n    def __str__(self):\\n        return \"Foo: {}\".format(self.val)\\na = foo(3)\\nprint(a)',\n",
       "  'class foo(object):\\n    def __init__(self, a):\\n        self.val = a\\n    def setVal(self, b):\\n        self.val = b\\n    def __str__(self):\\n        return \"Foo: {}\".format(self.val)\\na = foo(3)\\nprint(a)',\n",
       "  'dir(a)',\n",
       "  'delattr(a, setVal)',\n",
       "  \"delattr(a, 'setVal')\",\n",
       "  \"delattr(a, 'val')\",\n",
       "  'print(a)',\n",
       "  \"setattr(a, 'val')\",\n",
       "  \"setattr(a, 'val', 3)\",\n",
       "  'print(a)',\n",
       "  'getattr(a)',\n",
       "  \"getattr(a, 'Val')\",\n",
       "  \"getattr(a, 'val')\",\n",
       "  'dir(a)  # this does return a list of attributes',\n",
       "  'dir(a)  # this does return a list of attributes, but I think getattr is specifically referring to values.',\n",
       "  \"class Shape:\\n    def __dir__(self):\\n        return ['area', 'perimeter', 'location']\\na = Shape()\",\n",
       "  \"class Shape:\\n    def __dir__(self):\\n        return ['area', 'perimeter', 'location']\\na = Shape()\\ndir(a)\",\n",
       "  \"class Shape:\\n    def __dir__(self):\\n        return ['area', 'perimeter', 'location']\\na = Shape()\\ndir(a)  # the dir function calls the __dir__ method in an object which is customizable.\",\n",
       "  'x, y = divmod(10, 3)\\nprint(x, y)',\n",
       "  \"seasons = ['Spring', 'Summer', 'Fall', 'Winter']\\nlist(enumerate(seasons))\",\n",
       "  \"x = 1\\neval('x+1')\",\n",
       "  \"s = 'pow(2, x+1)'\\neval(s)\",\n",
       "  'filter(lambda x: x > 3, range(10))',\n",
       "  'list(filter(lambda x: x > 3, range(10)))',\n",
       "  'a = filter(lambda x: x > 3, range(10))  # This returns an iterable\\na',\n",
       "  'list(a)',\n",
       "  'float(1)',\n",
       "  '\\'{0} is {1}\\'.format(\"TIme\", \"Money\")',\n",
       "  '\\'{0} is {1}\\'.format(\"Time\", \"Money.\")  # More formats to go. ',\n",
       "  'globals()',\n",
       "  'def f():\\n    print(\"Do nothing!\")\\n    globals()\\nf()',\n",
       "  'def f():\\n    print(\"Do nothing!\")\\n    print(globals())\\nf()',\n",
       "  'def f():\\n    print(\"Do nothing!\")\\n    globals()\\nf()',\n",
       "  'print(a)',\n",
       "  'dir(a)',\n",
       "  \"hasattr(a, '__str__')\",\n",
       "  \"dir(a)\\nhasattr(a, '__str__')\",\n",
       "  \"hasattr(a, '__str__')\",\n",
       "  'dir(a)',\n",
       "  '(1).__hash__()',\n",
       "  \"'a'.__hash__()\",\n",
       "  \"hash('a')\",\n",
       "  'hash([1])',\n",
       "  'help(hash)',\n",
       "  \"hash('a') == hash(chr(97))\",\n",
       "  'hex(255)',\n",
       "  'hex(-42)',\n",
       "  'id(255)',\n",
       "  'id(1)',\n",
       "  'id(a)',\n",
       "  \"s = input('---> ')\",\n",
       "  \"s = input('---> ')\",\n",
       "  'print(s)',\n",
       "  's',\n",
       "  'type(s)',\n",
       "  'isinstance(1, int)',\n",
       "  'isinstance(1, float)',\n",
       "  'isinstance(1.0, float)',\n",
       "  'type(a)',\n",
       "  'isinstance(a, filter)',\n",
       "  'import datetime\\nissubclass(datetime.date, datetime)',\n",
       "  'import datetime\\nissubclass(datetime.date, datetime.datetime)',\n",
       "  'import datetime\\nissubclass(datetime.time, datetime.datetime)',\n",
       "  'import datetime\\nissubclass(datetime.date, datetime.datetime)',\n",
       "  'import datetime\\nissubclass(datetime.datetime.date, datetime.datetime)',\n",
       "  'import numpy as np\\nissubclass(np.random, random.random)',\n",
       "  'import numpy as np\\nimport random\\nissubclass(np.random, random)',\n",
       "  'import numpy as np\\nimport random\\nissubclass(np.random, random.random)',\n",
       "  'import numpy as np\\nimport random\\nissubclass(np.random, random)',\n",
       "  'import numpy as np\\nimport random\\nissubclass(np.random, random.random)',\n",
       "  'type(np.random)',\n",
       "  'type(np.random.random)',\n",
       "  'class C:\\n    pass\\nissubclass(C, C)',\n",
       "  'issubclass(C, object)',\n",
       "  'class C():\\n    pass\\nissubclass(C, C)',\n",
       "  'issubclass(C, object)',\n",
       "  'class A():\\n    pass\\nclass Bar(A):\\n    pass\\nclass Bar2():\\n    pass\\nissubclass(A, A)',\n",
       "  'issubclass(Bar, A)',\n",
       "  'issubclass(Bar2, A)',\n",
       "  'iter()',\n",
       "  'iter([1, 2, 3])',\n",
       "  'iter([1, 2, 3]).__next__',\n",
       "  'iter([1, 2, 3]).__next__()',\n",
       "  'iter([1, 2, 3]).__next__()',\n",
       "  'aIter = iter([1, 2, 3])',\n",
       "  'next(aIter)',\n",
       "  'next(aIter)',\n",
       "  'next(aIter)',\n",
       "  'next(aIter)',\n",
       "  'len([1, 2, 3])',\n",
       "  'locals()'],\n",
       " '_ii': 'next(aIter)',\n",
       " '_iii': 'next(aIter)',\n",
       " '_oh': {1: 10,\n",
       "  2: 8.06225774829855,\n",
       "  3: 5.0,\n",
       "  4: False,\n",
       "  5: True,\n",
       "  7: True,\n",
       "  8: <generator object <genexpr> at 0x106aa69e8>,\n",
       "  9: True,\n",
       "  10: True,\n",
       "  11: True,\n",
       "  12: '1',\n",
       "  13: \"'a'\",\n",
       "  15: \"'\\\\u21321'\",\n",
       "  16: '0b1010',\n",
       "  17: '-0b1010',\n",
       "  18: '-0b1',\n",
       "  19: '-0b1010',\n",
       "  20: True,\n",
       "  21: True,\n",
       "  22: False,\n",
       "  23: bytearray(b'\\x00'),\n",
       "  24: bytearray(b'\\x00\\x00\\x00\\x00\\x00\\x00\\x00\\x00\\x00\\x00'),\n",
       "  25: True,\n",
       "  26: False,\n",
       "  31: 'a',\n",
       "  32: ['__abs__',\n",
       "   '__add__',\n",
       "   '__and__',\n",
       "   '__bool__',\n",
       "   '__ceil__',\n",
       "   '__class__',\n",
       "   '__delattr__',\n",
       "   '__dir__',\n",
       "   '__divmod__',\n",
       "   '__doc__',\n",
       "   '__eq__',\n",
       "   '__float__',\n",
       "   '__floor__',\n",
       "   '__floordiv__',\n",
       "   '__format__',\n",
       "   '__ge__',\n",
       "   '__getattribute__',\n",
       "   '__getnewargs__',\n",
       "   '__gt__',\n",
       "   '__hash__',\n",
       "   '__index__',\n",
       "   '__init__',\n",
       "   '__int__',\n",
       "   '__invert__',\n",
       "   '__le__',\n",
       "   '__lshift__',\n",
       "   '__lt__',\n",
       "   '__mod__',\n",
       "   '__mul__',\n",
       "   '__ne__',\n",
       "   '__neg__',\n",
       "   '__new__',\n",
       "   '__or__',\n",
       "   '__pos__',\n",
       "   '__pow__',\n",
       "   '__radd__',\n",
       "   '__rand__',\n",
       "   '__rdivmod__',\n",
       "   '__reduce__',\n",
       "   '__reduce_ex__',\n",
       "   '__repr__',\n",
       "   '__rfloordiv__',\n",
       "   '__rlshift__',\n",
       "   '__rmod__',\n",
       "   '__rmul__',\n",
       "   '__ror__',\n",
       "   '__round__',\n",
       "   '__rpow__',\n",
       "   '__rrshift__',\n",
       "   '__rshift__',\n",
       "   '__rsub__',\n",
       "   '__rtruediv__',\n",
       "   '__rxor__',\n",
       "   '__setattr__',\n",
       "   '__sizeof__',\n",
       "   '__str__',\n",
       "   '__sub__',\n",
       "   '__subclasshook__',\n",
       "   '__truediv__',\n",
       "   '__trunc__',\n",
       "   '__xor__',\n",
       "   'bit_length',\n",
       "   'conjugate',\n",
       "   'denominator',\n",
       "   'from_bytes',\n",
       "   'imag',\n",
       "   'numerator',\n",
       "   'real',\n",
       "   'to_bytes'],\n",
       "  39: ['__class__',\n",
       "   '__delattr__',\n",
       "   '__dict__',\n",
       "   '__dir__',\n",
       "   '__doc__',\n",
       "   '__eq__',\n",
       "   '__format__',\n",
       "   '__ge__',\n",
       "   '__getattribute__',\n",
       "   '__gt__',\n",
       "   '__hash__',\n",
       "   '__init__',\n",
       "   '__le__',\n",
       "   '__lt__',\n",
       "   '__module__',\n",
       "   '__ne__',\n",
       "   '__new__',\n",
       "   '__reduce__',\n",
       "   '__reduce_ex__',\n",
       "   '__repr__',\n",
       "   '__setattr__',\n",
       "   '__sizeof__',\n",
       "   '__str__',\n",
       "   '__subclasshook__',\n",
       "   '__weakref__',\n",
       "   'setVal',\n",
       "   'val'],\n",
       "  49: 3,\n",
       "  50: ['__class__',\n",
       "   '__delattr__',\n",
       "   '__dict__',\n",
       "   '__dir__',\n",
       "   '__doc__',\n",
       "   '__eq__',\n",
       "   '__format__',\n",
       "   '__ge__',\n",
       "   '__getattribute__',\n",
       "   '__gt__',\n",
       "   '__hash__',\n",
       "   '__init__',\n",
       "   '__le__',\n",
       "   '__lt__',\n",
       "   '__module__',\n",
       "   '__ne__',\n",
       "   '__new__',\n",
       "   '__reduce__',\n",
       "   '__reduce_ex__',\n",
       "   '__repr__',\n",
       "   '__setattr__',\n",
       "   '__sizeof__',\n",
       "   '__str__',\n",
       "   '__subclasshook__',\n",
       "   '__weakref__',\n",
       "   'setVal',\n",
       "   'val'],\n",
       "  51: ['__class__',\n",
       "   '__delattr__',\n",
       "   '__dict__',\n",
       "   '__dir__',\n",
       "   '__doc__',\n",
       "   '__eq__',\n",
       "   '__format__',\n",
       "   '__ge__',\n",
       "   '__getattribute__',\n",
       "   '__gt__',\n",
       "   '__hash__',\n",
       "   '__init__',\n",
       "   '__le__',\n",
       "   '__lt__',\n",
       "   '__module__',\n",
       "   '__ne__',\n",
       "   '__new__',\n",
       "   '__reduce__',\n",
       "   '__reduce_ex__',\n",
       "   '__repr__',\n",
       "   '__setattr__',\n",
       "   '__sizeof__',\n",
       "   '__str__',\n",
       "   '__subclasshook__',\n",
       "   '__weakref__',\n",
       "   'setVal',\n",
       "   'val'],\n",
       "  53: ['area', 'location', 'perimeter'],\n",
       "  54: ['area', 'location', 'perimeter'],\n",
       "  56: [(0, 'Spring'), (1, 'Summer'), (2, 'Fall'), (3, 'Winter')],\n",
       "  57: 2,\n",
       "  58: 4,\n",
       "  59: <filter at 0x106b66b70>,\n",
       "  60: [4, 5, 6, 7, 8, 9],\n",
       "  61: <filter at 0x106b5c390>,\n",
       "  62: [4, 5, 6, 7, 8, 9],\n",
       "  63: 1.0,\n",
       "  64: 'TIme is Money',\n",
       "  65: 'Time is Money.',\n",
       "  66: {...},\n",
       "  71: ['__class__',\n",
       "   '__delattr__',\n",
       "   '__dir__',\n",
       "   '__doc__',\n",
       "   '__eq__',\n",
       "   '__format__',\n",
       "   '__ge__',\n",
       "   '__getattribute__',\n",
       "   '__gt__',\n",
       "   '__hash__',\n",
       "   '__init__',\n",
       "   '__iter__',\n",
       "   '__le__',\n",
       "   '__lt__',\n",
       "   '__ne__',\n",
       "   '__new__',\n",
       "   '__next__',\n",
       "   '__reduce__',\n",
       "   '__reduce_ex__',\n",
       "   '__repr__',\n",
       "   '__setattr__',\n",
       "   '__sizeof__',\n",
       "   '__str__',\n",
       "   '__subclasshook__'],\n",
       "  72: True,\n",
       "  73: True,\n",
       "  74: True,\n",
       "  75: ['__class__',\n",
       "   '__delattr__',\n",
       "   '__dir__',\n",
       "   '__doc__',\n",
       "   '__eq__',\n",
       "   '__format__',\n",
       "   '__ge__',\n",
       "   '__getattribute__',\n",
       "   '__gt__',\n",
       "   '__hash__',\n",
       "   '__init__',\n",
       "   '__iter__',\n",
       "   '__le__',\n",
       "   '__lt__',\n",
       "   '__ne__',\n",
       "   '__new__',\n",
       "   '__next__',\n",
       "   '__reduce__',\n",
       "   '__reduce_ex__',\n",
       "   '__repr__',\n",
       "   '__setattr__',\n",
       "   '__sizeof__',\n",
       "   '__str__',\n",
       "   '__subclasshook__'],\n",
       "  76: 1,\n",
       "  77: -1345937757843954335,\n",
       "  78: -1345937757843954335,\n",
       "  81: True,\n",
       "  82: '0xff',\n",
       "  83: '-0x2a',\n",
       "  84: 4297566592,\n",
       "  85: 4297558464,\n",
       "  86: 4407542672,\n",
       "  90: '20',\n",
       "  91: str,\n",
       "  92: True,\n",
       "  93: False,\n",
       "  94: True,\n",
       "  95: filter,\n",
       "  96: True,\n",
       "  98: False,\n",
       "  99: False,\n",
       "  100: False,\n",
       "  107: module,\n",
       "  108: builtin_function_or_method,\n",
       "  109: True,\n",
       "  110: True,\n",
       "  111: True,\n",
       "  112: True,\n",
       "  113: True,\n",
       "  114: True,\n",
       "  115: False,\n",
       "  117: <list_iterator at 0x10730bcf8>,\n",
       "  118: <method-wrapper '__next__' of list_iterator object at 0x10730bd30>,\n",
       "  119: 1,\n",
       "  120: 1,\n",
       "  122: 1,\n",
       "  123: 2,\n",
       "  124: 3,\n",
       "  126: 3},\n",
       " '_sh': <module 'IPython.core.shadowns' from '/Library/Frameworks/Python.framework/Versions/3.6/lib/python3.6/site-packages/IPython/core/shadowns.py'>,\n",
       " 'a': <filter at 0x106b5c390>,\n",
       " 'aIter': <list_iterator at 0x10730bdd8>,\n",
       " 'datetime': <module 'datetime' from '/Library/Frameworks/Python.framework/Versions/3.6/lib/python3.6/datetime.py'>,\n",
       " 'exit': <IPython.core.autocall.ZMQExitAutocall at 0x1069e1828>,\n",
       " 'f': <function __main__.f>,\n",
       " 'foo': __main__.foo,\n",
       " 'get_ipython': <bound method InteractiveShell.get_ipython of <ipykernel.zmqshell.ZMQInteractiveShell object at 0x106994f60>>,\n",
       " 'np': <module 'numpy' from '/Library/Frameworks/Python.framework/Versions/3.6/lib/python3.6/site-packages/numpy/__init__.py'>,\n",
       " 'quit': <IPython.core.autocall.ZMQExitAutocall at 0x1069e1828>,\n",
       " 'random': <module 'random' from '/Library/Frameworks/Python.framework/Versions/3.6/lib/python3.6/random.py'>,\n",
       " 's': '20',\n",
       " 'seasons': ['Spring', 'Summer', 'Fall', 'Winter'],\n",
       " 'x': 1,\n",
       " 'y': 1}"
      ]
     },
     "execution_count": 127,
     "metadata": {},
     "output_type": "execute_result"
    }
   ],
   "source": [
    "locals()"
   ]
  },
  {
   "cell_type": "code",
   "execution_count": 133,
   "metadata": {
    "collapsed": false
   },
   "outputs": [
    {
     "name": "stdout",
     "output_type": "stream",
     "text": [
      "{'x': 1}\n"
     ]
    },
    {
     "data": {
      "text/plain": [
       "1"
      ]
     },
     "execution_count": 133,
     "metadata": {},
     "output_type": "execute_result"
    }
   ],
   "source": [
    "def f():\n",
    "    x = 1\n",
    "    print(locals())  # I guess this locals() is different from the local dictionary of name space?\n",
    "    return x\n",
    "f()"
   ]
  },
  {
   "cell_type": "code",
   "execution_count": 137,
   "metadata": {
    "collapsed": false
   },
   "outputs": [
    {
     "name": "stdout",
     "output_type": "stream",
     "text": [
      "{}\n",
      "1\n"
     ]
    }
   ],
   "source": [
    "x = 1\n",
    "def f():\n",
    "    print(locals())  # I guess this locals() is different from the local dictionary of name space?\n",
    "    print(x)\n",
    "    \n",
    "f()"
   ]
  },
  {
   "cell_type": "code",
   "execution_count": 139,
   "metadata": {
    "collapsed": false
   },
   "outputs": [
    {
     "name": "stdout",
     "output_type": "stream",
     "text": [
      "0 1 4 9 16 "
     ]
    }
   ],
   "source": [
    "for i in map(lambda x: x**2, range(5)): print(i, end=' ')"
   ]
  },
  {
   "cell_type": "code",
   "execution_count": 140,
   "metadata": {
    "collapsed": false
   },
   "outputs": [
    {
     "data": {
      "text/plain": [
       "9"
      ]
     },
     "execution_count": 140,
     "metadata": {},
     "output_type": "execute_result"
    }
   ],
   "source": [
    "max(range(10))"
   ]
  },
  {
   "cell_type": "code",
   "execution_count": 142,
   "metadata": {
    "collapsed": false
   },
   "outputs": [
    {
     "data": {
      "text/plain": [
       "3"
      ]
     },
     "execution_count": 142,
     "metadata": {},
     "output_type": "execute_result"
    }
   ],
   "source": [
    "max([1,2,3])  # This is the maximum of an iterable"
   ]
  },
  {
   "cell_type": "code",
   "execution_count": 141,
   "metadata": {
    "collapsed": false
   },
   "outputs": [
    {
     "data": {
      "text/plain": [
       "7"
      ]
     },
     "execution_count": 141,
     "metadata": {},
     "output_type": "execute_result"
    }
   ],
   "source": [
    "max(1, 2, 3, 4, 5, 7)  # This is the maximum of input arguments"
   ]
  },
  {
   "cell_type": "code",
   "execution_count": 143,
   "metadata": {
    "collapsed": false
   },
   "outputs": [
    {
     "data": {
      "text/plain": [
       "0"
      ]
     },
     "execution_count": 143,
     "metadata": {},
     "output_type": "execute_result"
    }
   ],
   "source": [
    "min(range(10))"
   ]
  },
  {
   "cell_type": "code",
   "execution_count": 144,
   "metadata": {
    "collapsed": false
   },
   "outputs": [
    {
     "data": {
      "text/plain": [
       "1"
      ]
     },
     "execution_count": 144,
     "metadata": {},
     "output_type": "execute_result"
    }
   ],
   "source": [
    "min(1, 2, 3, 4, 5)"
   ]
  },
  {
   "cell_type": "code",
   "execution_count": 149,
   "metadata": {
    "collapsed": false
   },
   "outputs": [],
   "source": [
    "v = memoryview(b'abcefg')"
   ]
  },
  {
   "cell_type": "code",
   "execution_count": 150,
   "metadata": {
    "collapsed": false
   },
   "outputs": [
    {
     "name": "stdout",
     "output_type": "stream",
     "text": [
      "97\n",
      "98\n",
      "99\n",
      "101\n",
      "102\n",
      "103\n"
     ]
    }
   ],
   "source": [
    "for i in v: print(i)"
   ]
  },
  {
   "cell_type": "code",
   "execution_count": 152,
   "metadata": {
    "collapsed": false
   },
   "outputs": [
    {
     "data": {
      "text/plain": [
       "b'bce'"
      ]
     },
     "execution_count": 152,
     "metadata": {},
     "output_type": "execute_result"
    }
   ],
   "source": [
    "bytes(v[1:4])"
   ]
  },
  {
   "cell_type": "code",
   "execution_count": 153,
   "metadata": {
    "collapsed": false
   },
   "outputs": [
    {
     "data": {
      "text/plain": [
       "'0o12'"
      ]
     },
     "execution_count": 153,
     "metadata": {},
     "output_type": "execute_result"
    }
   ],
   "source": [
    "oct(10)"
   ]
  },
  {
   "cell_type": "code",
   "execution_count": 154,
   "metadata": {
    "collapsed": false
   },
   "outputs": [
    {
     "data": {
      "text/plain": [
       "97"
      ]
     },
     "execution_count": 154,
     "metadata": {},
     "output_type": "execute_result"
    }
   ],
   "source": [
    "ord('a')  # The opposite operation of chr(97)"
   ]
  },
  {
   "cell_type": "code",
   "execution_count": 155,
   "metadata": {
    "collapsed": false
   },
   "outputs": [
    {
     "data": {
      "text/plain": [
       "32"
      ]
     },
     "execution_count": 155,
     "metadata": {},
     "output_type": "execute_result"
    }
   ],
   "source": [
    "pow(2, 5)"
   ]
  },
  {
   "cell_type": "code",
   "execution_count": 156,
   "metadata": {
    "collapsed": false
   },
   "outputs": [
    {
     "name": "stdout",
     "output_type": "stream",
     "text": [
      "32\n"
     ]
    }
   ],
   "source": [
    "print(pow(2, 5))"
   ]
  },
  {
   "cell_type": "code",
   "execution_count": 157,
   "metadata": {
    "collapsed": false
   },
   "outputs": [
    {
     "data": {
      "text/plain": [
       "range(0, 10)"
      ]
     },
     "execution_count": 157,
     "metadata": {},
     "output_type": "execute_result"
    }
   ],
   "source": [
    "range(10)"
   ]
  },
  {
   "cell_type": "code",
   "execution_count": 158,
   "metadata": {
    "collapsed": false
   },
   "outputs": [
    {
     "data": {
      "text/plain": [
       "range(10, 20)"
      ]
     },
     "execution_count": 158,
     "metadata": {},
     "output_type": "execute_result"
    }
   ],
   "source": [
    "range(10, 20)"
   ]
  },
  {
   "cell_type": "code",
   "execution_count": 159,
   "metadata": {
    "collapsed": false
   },
   "outputs": [
    {
     "data": {
      "text/plain": [
       "range"
      ]
     },
     "execution_count": 159,
     "metadata": {},
     "output_type": "execute_result"
    }
   ],
   "source": [
    "type(range(10))"
   ]
  },
  {
   "cell_type": "code",
   "execution_count": 161,
   "metadata": {
    "collapsed": false
   },
   "outputs": [
    {
     "data": {
      "text/plain": [
       "[9, 8, 7, 6, 5, 4, 3, 2, 1, 0]"
      ]
     },
     "execution_count": 161,
     "metadata": {},
     "output_type": "execute_result"
    }
   ],
   "source": [
    "list(reversed(range(10)))"
   ]
  },
  {
   "cell_type": "code",
   "execution_count": 163,
   "metadata": {
    "collapsed": false
   },
   "outputs": [
    {
     "data": {
      "text/plain": [
       "[[7, 8, 9], [4, 5, 6], [1, 2, 3]]"
      ]
     },
     "execution_count": 163,
     "metadata": {},
     "output_type": "execute_result"
    }
   ],
   "source": [
    "list(reversed([[1, 2, 3], [4, 5, 6], [7, 8, 9]]))  # Not reversing every element in the list"
   ]
  },
  {
   "cell_type": "code",
   "execution_count": 164,
   "metadata": {
    "collapsed": false
   },
   "outputs": [
    {
     "data": {
      "text/plain": [
       "10.33"
      ]
     },
     "execution_count": 164,
     "metadata": {},
     "output_type": "execute_result"
    }
   ],
   "source": [
    "round(10.3343, 2)"
   ]
  },
  {
   "cell_type": "code",
   "execution_count": 165,
   "metadata": {
    "collapsed": false
   },
   "outputs": [
    {
     "data": {
      "text/plain": [
       "0"
      ]
     },
     "execution_count": 165,
     "metadata": {},
     "output_type": "execute_result"
    }
   ],
   "source": [
    "round(0.5)"
   ]
  },
  {
   "cell_type": "code",
   "execution_count": 174,
   "metadata": {
    "collapsed": false
   },
   "outputs": [
    {
     "data": {
      "text/plain": [
       "0"
      ]
     },
     "execution_count": 174,
     "metadata": {},
     "output_type": "execute_result"
    }
   ],
   "source": [
    "round(0.50000000000000001)"
   ]
  },
  {
   "cell_type": "code",
   "execution_count": 175,
   "metadata": {
    "collapsed": false
   },
   "outputs": [
    {
     "data": {
      "text/plain": [
       "1"
      ]
     },
     "execution_count": 175,
     "metadata": {},
     "output_type": "execute_result"
    }
   ],
   "source": [
    "round(0.5000000000000001)"
   ]
  },
  {
   "cell_type": "code",
   "execution_count": 176,
   "metadata": {
    "collapsed": false
   },
   "outputs": [
    {
     "data": {
      "text/plain": [
       "{1, 2, 3}"
      ]
     },
     "execution_count": 176,
     "metadata": {},
     "output_type": "execute_result"
    }
   ],
   "source": [
    "set([1, 1, 2, 3])"
   ]
  },
  {
   "cell_type": "code",
   "execution_count": 177,
   "metadata": {
    "collapsed": false
   },
   "outputs": [
    {
     "data": {
      "text/plain": [
       "slice(1, 10, None)"
      ]
     },
     "execution_count": 177,
     "metadata": {},
     "output_type": "execute_result"
    }
   ],
   "source": [
    "slice(1, 10)"
   ]
  },
  {
   "cell_type": "code",
   "execution_count": 178,
   "metadata": {
    "collapsed": false
   },
   "outputs": [
    {
     "data": {
      "text/plain": [
       "range(1, 10, 2)"
      ]
     },
     "execution_count": 178,
     "metadata": {},
     "output_type": "execute_result"
    }
   ],
   "source": [
    "range(100)[slice(1, 10, 2)]"
   ]
  },
  {
   "cell_type": "code",
   "execution_count": 182,
   "metadata": {
    "collapsed": false
   },
   "outputs": [
    {
     "name": "stdout",
     "output_type": "stream",
     "text": [
      "[0.7572348027713246, 0.8368781256774009, 0.2600475438171225, 0.37562076612855555, 0.5779672080268249, 0.9484367125621852, 0.15361605666559908, 0.050259550721107105, 0.7341397314665137, 0.7967221074541544]\n"
     ]
    }
   ],
   "source": [
    "import random\n",
    "nums = [random.random() for _ in range(10)]\n",
    "print(nums)"
   ]
  },
  {
   "cell_type": "code",
   "execution_count": 181,
   "metadata": {
    "collapsed": false
   },
   "outputs": [
    {
     "data": {
      "text/plain": [
       "[0.06540506254351452,\n",
       " 0.17243899884517455,\n",
       " 0.2060965834323174,\n",
       " 0.2395132523848743,\n",
       " 0.25402316730871544,\n",
       " 0.45441479982200095,\n",
       " 0.6881097348305782,\n",
       " 0.7927229364874493,\n",
       " 0.8737251159753587,\n",
       " 0.9735822229509387]"
      ]
     },
     "execution_count": 181,
     "metadata": {},
     "output_type": "execute_result"
    }
   ],
   "source": [
    "sorted(nums)"
   ]
  },
  {
   "cell_type": "code",
   "execution_count": 183,
   "metadata": {
    "collapsed": false
   },
   "outputs": [
    {
     "data": {
      "text/plain": [
       "[0.050259550721107105,\n",
       " 0.9484367125621852,\n",
       " 0.15361605666559908,\n",
       " 0.8368781256774009,\n",
       " 0.7967221074541544,\n",
       " 0.7572348027713246,\n",
       " 0.2600475438171225,\n",
       " 0.7341397314665137,\n",
       " 0.37562076612855555,\n",
       " 0.5779672080268249]"
      ]
     },
     "execution_count": 183,
     "metadata": {},
     "output_type": "execute_result"
    }
   ],
   "source": [
    "sorted(nums, key=lambda x: abs(x-0.5), reverse=True)"
   ]
  },
  {
   "cell_type": "code",
   "execution_count": 184,
   "metadata": {
    "collapsed": false
   },
   "outputs": [
    {
     "data": {
      "text/plain": [
       "5.490922605290788"
      ]
     },
     "execution_count": 184,
     "metadata": {},
     "output_type": "execute_result"
    }
   ],
   "source": [
    "sum(nums)"
   ]
  },
  {
   "cell_type": "code",
   "execution_count": 185,
   "metadata": {
    "collapsed": false
   },
   "outputs": [
    {
     "data": {
      "text/plain": [
       "(0.7572348027713246,\n",
       " 0.8368781256774009,\n",
       " 0.2600475438171225,\n",
       " 0.37562076612855555,\n",
       " 0.5779672080268249,\n",
       " 0.9484367125621852,\n",
       " 0.15361605666559908,\n",
       " 0.050259550721107105,\n",
       " 0.7341397314665137,\n",
       " 0.7967221074541544)"
      ]
     },
     "execution_count": 185,
     "metadata": {},
     "output_type": "execute_result"
    }
   ],
   "source": [
    "tuple(nums)"
   ]
  },
  {
   "cell_type": "code",
   "execution_count": 186,
   "metadata": {
    "collapsed": false
   },
   "outputs": [
    {
     "data": {
      "text/plain": [
       "tuple"
      ]
     },
     "execution_count": 186,
     "metadata": {},
     "output_type": "execute_result"
    }
   ],
   "source": [
    "type(tuple(nums))"
   ]
  },
  {
   "cell_type": "code",
   "execution_count": 189,
   "metadata": {
    "collapsed": false
   },
   "outputs": [
    {
     "data": {
      "text/plain": [
       "mappingproxy({'__dict__': <attribute '__dict__' of 'A' objects>,\n",
       "              '__doc__': None,\n",
       "              '__module__': '__main__',\n",
       "              '__weakref__': <attribute '__weakref__' of 'A' objects>})"
      ]
     },
     "execution_count": 189,
     "metadata": {},
     "output_type": "execute_result"
    }
   ],
   "source": [
    "# Return the __dict__ attribute for a module, class, instance, or any other object with a __dict__ attribute.\n",
    "vars(A)"
   ]
  },
  {
   "cell_type": "code",
   "execution_count": 190,
   "metadata": {
    "collapsed": false
   },
   "outputs": [
    {
     "data": {
      "text/plain": [
       "[(1, 4), (2, 5), (3, 6)]"
      ]
     },
     "execution_count": 190,
     "metadata": {},
     "output_type": "execute_result"
    }
   ],
   "source": [
    "x = [1, 2, 3]\n",
    "y = [4, 5, 6]\n",
    "zipped = zip(x, y)\n",
    "list(zipped)"
   ]
  },
  {
   "cell_type": "code",
   "execution_count": 191,
   "metadata": {
    "collapsed": false
   },
   "outputs": [
    {
     "data": {
      "text/plain": [
       "True"
      ]
     },
     "execution_count": 191,
     "metadata": {},
     "output_type": "execute_result"
    }
   ],
   "source": [
    "x2, y2 = zip(*zip(x, y))\n",
    "x == list(x2) and y == list(y2)"
   ]
  },
  {
   "cell_type": "code",
   "execution_count": 194,
   "metadata": {
    "collapsed": false
   },
   "outputs": [],
   "source": [
    "x2, y2 = zip(*zip(x, y))"
   ]
  },
  {
   "cell_type": "code",
   "execution_count": 195,
   "metadata": {
    "collapsed": false
   },
   "outputs": [
    {
     "data": {
      "text/plain": [
       "(1, 2, 3)"
      ]
     },
     "execution_count": 195,
     "metadata": {},
     "output_type": "execute_result"
    }
   ],
   "source": [
    "x2"
   ]
  },
  {
   "cell_type": "code",
   "execution_count": 196,
   "metadata": {
    "collapsed": false
   },
   "outputs": [
    {
     "data": {
      "text/plain": [
       "(4, 5, 6)"
      ]
     },
     "execution_count": 196,
     "metadata": {},
     "output_type": "execute_result"
    }
   ],
   "source": [
    "y2"
   ]
  },
  {
   "cell_type": "markdown",
   "metadata": {},
   "source": [
    "This concludes the examples of built-in functions. As a practitioner, going through the list of built-in functions does give me a better understanding of them, but I can also see how deep and broad the python programming language is. "
   ]
  },
  {
   "cell_type": "code",
   "execution_count": null,
   "metadata": {
    "collapsed": true
   },
   "outputs": [],
   "source": []
  }
 ],
 "metadata": {
  "kernelspec": {
   "display_name": "Python 3",
   "language": "python",
   "name": "python3"
  },
  "language_info": {
   "codemirror_mode": {
    "name": "ipython",
    "version": 3
   },
   "file_extension": ".py",
   "mimetype": "text/x-python",
   "name": "python",
   "nbconvert_exporter": "python",
   "pygments_lexer": "ipython3",
   "version": "3.6.0a1"
  }
 },
 "nbformat": 4,
 "nbformat_minor": 2
}
