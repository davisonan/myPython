{
 "cells": [
  {
   "cell_type": "code",
   "execution_count": 4,
   "metadata": {
    "collapsed": true,
    "deletable": true,
    "editable": true
   },
   "outputs": [],
   "source": [
    "import numpy as np"
   ]
  },
  {
   "cell_type": "code",
   "execution_count": 3,
   "metadata": {
    "collapsed": false,
    "deletable": true,
    "editable": true
   },
   "outputs": [
    {
     "name": "stdout",
     "output_type": "stream",
     "text": [
      "[1 0 3 2 4]\n"
     ]
    }
   ],
   "source": [
    "x = np.array([2, 1, 4, 3, 5])\n",
    "i = np.argsort(x)\n",
    "print(i)"
   ]
  },
  {
   "cell_type": "code",
   "execution_count": 4,
   "metadata": {
    "collapsed": false,
    "deletable": true,
    "editable": true
   },
   "outputs": [
    {
     "data": {
      "text/plain": [
       "array([1, 2, 3, 4, 5])"
      ]
     },
     "execution_count": 4,
     "metadata": {},
     "output_type": "execute_result"
    }
   ],
   "source": [
    "x[i]"
   ]
  },
  {
   "cell_type": "code",
   "execution_count": 6,
   "metadata": {
    "collapsed": false,
    "deletable": true,
    "editable": true
   },
   "outputs": [
    {
     "name": "stdout",
     "output_type": "stream",
     "text": [
      "[[ 0.  0.]\n",
      " [ 0.  0.]]\n",
      "[[ 1.  1.]]\n",
      "[[7 7]\n",
      " [7 7]]\n",
      "[[ 1.  0.]\n",
      " [ 0.  1.]]\n",
      "[[ 0.37279621  0.96003893]\n",
      " [ 0.12708036  0.88977411]]\n",
      "[[ 2  2  4]\n",
      " [ 5  5  7]\n",
      " [ 8  8 10]\n",
      " [11 11 13]]\n"
     ]
    }
   ],
   "source": [
    "a = np.arange(15).reshape(3, 5)\n",
    "a.shape\n",
    "a.ndim\n",
    "a.dtype\n",
    "a.dtype.name \n",
    "a.itemsize # number of bits for each item\n",
    "a.size # number of items\n",
    "type(a)\n",
    "\n",
    "b = np.array([1.2, 2.3, 4.5])\n",
    "b.dtype.name\n",
    "\n",
    "c = np.array([(1.2, 2.3, 3.4), (2.0, 3.0, 3.0)])\n",
    "\n",
    "c = np.array( [ [1,2], [3,4] ], dtype=complex )\n",
    "\n",
    "a = np.zeros((2,2))\n",
    "print(a)\n",
    "b = np.ones((1,2))\n",
    "print(b)\n",
    "c = np.full((2,2), 7)\n",
    "print(c)\n",
    "d = np.eye(2)\n",
    "print(d)\n",
    "e = np.random.random((2,2))\n",
    "print(e)\n",
    "\n",
    "x = np.array([[1,2,3], [4,5,6], [7,8,9], [10, 11, 12]])\n",
    "v = np.array([1, 0, 1])\n",
    "y = x + v\n",
    "print(y)"
   ]
  },
  {
   "cell_type": "code",
   "execution_count": null,
   "metadata": {
    "collapsed": true
   },
   "outputs": [],
   "source": []
  }
 ],
 "metadata": {
  "kernelspec": {
   "display_name": "Python 3",
   "language": "python",
   "name": "python3"
  },
  "language_info": {
   "codemirror_mode": {
    "name": "ipython",
    "version": 3
   },
   "file_extension": ".py",
   "mimetype": "text/x-python",
   "name": "python",
   "nbconvert_exporter": "python",
   "pygments_lexer": "ipython3",
   "version": "3.6.0a1"
  }
 },
 "nbformat": 4,
 "nbformat_minor": 2
}
