{
 "cells": [
  {
   "cell_type": "markdown",
   "metadata": {},
   "source": [
    "### Background\n",
    "This notebook runs through important details of using the Pandas package mainly for financial time series, either from books or other online sources."
   ]
  },
  {
   "cell_type": "code",
   "execution_count": 1,
   "metadata": {
    "collapsed": true
   },
   "outputs": [],
   "source": [
    "import pandas as pd\n",
    "import numpy as np\n",
    "import matplotlib.pyplot as plt\n",
    "import datetime\n",
    "%matplotlib inline\n",
    "pd.set_option('display.notebook_repr_html', False)\n",
    "pd.set_option('display.max_columns', 15)\n",
    "pd.set_option('display.max_rows', 8)\n",
    "pd.set_option('precision', 3)"
   ]
  },
  {
   "cell_type": "code",
   "execution_count": 19,
   "metadata": {
    "collapsed": false
   },
   "outputs": [],
   "source": [
    "import pandas_datareader.data as wb\n",
    "start = datetime.datetime(2010, 1, 1)\n",
    "end = datetime.date.today()\n",
    "msft = wb.DataReader(\"MSFT\", 'yahoo', start, end)\n",
    "aapl = wb.DataReader(\"AAPL\", 'yahoo', start, end)\n",
    "aapl_act = wb.DataReader('AAPL', 'yahoo-actions', start, end)"
   ]
  },
  {
   "cell_type": "code",
   "execution_count": 20,
   "metadata": {
    "collapsed": false
   },
   "outputs": [
    {
     "name": "stdout",
     "output_type": "stream",
     "text": [
      "              Open    High     Low   Close     Volume  Adj Close\n",
      "Date                                                            \n",
      "2010-01-04  213.43  214.50  212.38  214.01  123432400     27.727\n",
      "2010-01-05  214.60  215.59  213.25  214.38  150476200     27.775\n",
      "2010-01-06  214.38  215.23  210.75  210.97  138040000     27.333\n",
      "2010-01-07  211.75  212.00  209.05  210.58  119282800     27.283\n",
      "2010-01-08  210.30  212.00  209.06  211.98  111902700     27.464\n"
     ]
    }
   ],
   "source": [
    "print(aapl.head())"
   ]
  },
  {
   "cell_type": "code",
   "execution_count": 21,
   "metadata": {
    "collapsed": false
   },
   "outputs": [
    {
     "name": "stdout",
     "output_type": "stream",
     "text": [
      "             Open   High    Low  Close    Volume  Adj Close\n",
      "Date                                                       \n",
      "2010-01-04  30.62  31.10  30.59  30.95  38409100     25.555\n",
      "2010-01-05  30.85  31.10  30.64  30.96  49749600     25.564\n",
      "2010-01-06  30.88  31.08  30.52  30.77  58182400     25.407\n",
      "2010-01-07  30.63  30.70  30.19  30.45  50559700     25.143\n",
      "2010-01-08  30.28  30.88  30.24  30.66  51197400     25.316\n"
     ]
    }
   ],
   "source": [
    "print(msft.head())"
   ]
  },
  {
   "cell_type": "code",
   "execution_count": 22,
   "metadata": {
    "collapsed": false
   },
   "outputs": [
    {
     "name": "stdout",
     "output_type": "stream",
     "text": [
      "              action  value\n",
      "2017-02-09  DIVIDEND  0.570\n",
      "2016-11-03  DIVIDEND  0.570\n",
      "2016-08-04  DIVIDEND  0.570\n",
      "2016-05-05  DIVIDEND  0.570\n",
      "...              ...    ...\n",
      "2013-05-09  DIVIDEND  0.436\n",
      "2013-02-07  DIVIDEND  0.379\n",
      "2012-11-07  DIVIDEND  0.379\n",
      "2012-08-09  DIVIDEND  0.379\n",
      "\n",
      "[20 rows x 2 columns]\n"
     ]
    }
   ],
   "source": [
    "print(aapl_act)"
   ]
  },
  {
   "cell_type": "code",
   "execution_count": 23,
   "metadata": {
    "collapsed": false
   },
   "outputs": [
    {
     "data": {
      "text/plain": [
       "pandas.core.frame.DataFrame"
      ]
     },
     "execution_count": 23,
     "metadata": {},
     "output_type": "execute_result"
    }
   ],
   "source": [
    "type(aapl_act)"
   ]
  },
  {
   "cell_type": "code",
   "execution_count": 29,
   "metadata": {
    "collapsed": false
   },
   "outputs": [
    {
     "data": {
      "text/plain": [
       "          value                           \n",
       "            sum   mean count    min    max\n",
       "action                                    \n",
       "DIVIDEND  9.119  0.480    19  0.379  0.570\n",
       "SPLIT     0.143  0.143     1  0.143  0.143"
      ]
     },
     "execution_count": 29,
     "metadata": {},
     "output_type": "execute_result"
    }
   ],
   "source": [
    "aapl_act.groupby('action').agg(['sum', 'mean', 'count', 'min', 'max'])"
   ]
  },
  {
   "cell_type": "code",
   "execution_count": 30,
   "metadata": {
    "collapsed": false
   },
   "outputs": [
    {
     "data": {
      "text/plain": [
       "[<matplotlib.lines.Line2D at 0x1056339b0>]"
      ]
     },
     "execution_count": 30,
     "metadata": {},
     "output_type": "execute_result"
    },
    {
     "data": {
      "image/png": "[encoded data removed]",
      "text/plain": [
       "<matplotlib.figure.Figure at 0x1055ed470>"
      ]
     },
     "metadata": {},
     "output_type": "display_data"
    }
   ],
   "source": [
    "plt.plot(aapl['Adj Close'])"
   ]
  },
  {
   "cell_type": "markdown",
   "metadata": {},
   "source": [
    "Notice in the above graph that the horizontal axis is set as time automatically by the indexes of the pandas dataframe. This saves you the effort of programming time as the x-axis in other programming language or tools in Python."
   ]
  },
  {
   "cell_type": "code",
   "execution_count": 54,
   "metadata": {
    "collapsed": false
   },
   "outputs": [
    {
     "data": {
      "text/plain": [
       "[<matplotlib.lines.Line2D at 0x10c93c9e8>]"
      ]
     },
     "execution_count": 54,
     "metadata": {},
     "output_type": "execute_result"
    },
    {
     "data": {
      "image/png": "[encoded data removed]",
      "text/plain": [
       "<matplotlib.figure.Figure at 0x106621470>"
      ]
     },
     "metadata": {},
     "output_type": "display_data"
    }
   ],
   "source": [
    "plt.plot(aapl['Adj Close'].reset_index(drop=True))"
   ]
  },
  {
   "cell_type": "markdown",
   "metadata": {},
   "source": [
    "Notice once the index is reset and dropped, the horizontal axis is set as numbers of days since the very beginning. The matplotlib package really has a seamless connection with Pandas."
   ]
  },
  {
   "cell_type": "code",
   "execution_count": 55,
   "metadata": {
    "collapsed": false
   },
   "outputs": [
    {
     "data": {
      "text/plain": [
       "[<matplotlib.lines.Line2D at 0x10c5aed68>]"
      ]
     },
     "execution_count": 55,
     "metadata": {},
     "output_type": "execute_result"
    },
    {
     "data": {
      "image/png": "[encoded data removed]",
      "text/plain": [
       "<matplotlib.figure.Figure at 0x10c9076a0>"
      ]
     },
     "metadata": {},
     "output_type": "display_data"
    }
   ],
   "source": [
    "plt.plot(aapl.index, aapl['Adj Close'])"
   ]
  },
  {
   "cell_type": "markdown",
   "metadata": {},
   "source": [
    "Adding the x-axis in the plotting code is equivalent with not adding it at all."
   ]
  },
  {
   "cell_type": "code",
   "execution_count": 31,
   "metadata": {
    "collapsed": false
   },
   "outputs": [
    {
     "data": {
      "text/plain": [
       "[<matplotlib.lines.Line2D at 0x1065f5c50>]"
      ]
     },
     "execution_count": 31,
     "metadata": {},
     "output_type": "execute_result"
    },
    {
     "data": {
      "image/png": "[encoded data removed]",
      "text/plain": [
       "<matplotlib.figure.Figure at 0x10666f748>"
      ]
     },
     "metadata": {},
     "output_type": "display_data"
    }
   ],
   "source": [
    "plt.plot(msft['Adj Close'])"
   ]
  },
  {
   "cell_type": "code",
   "execution_count": 32,
   "metadata": {
    "collapsed": false
   },
   "outputs": [
    {
     "name": "stdout",
     "output_type": "stream",
     "text": [
      "             Open   High    Low  Close    Volume  Adj Close\n",
      "Date                                                       \n",
      "2010-01-04  30.62  31.10  30.59  30.95  38409100     25.555\n",
      "2010-01-05  30.85  31.10  30.64  30.96  49749600     25.564\n",
      "2010-01-06  30.88  31.08  30.52  30.77  58182400     25.407\n"
     ]
    }
   ],
   "source": [
    "print(msft[:3])"
   ]
  },
  {
   "cell_type": "code",
   "execution_count": 44,
   "metadata": {
    "collapsed": false
   },
   "outputs": [
    {
     "name": "stdout",
     "output_type": "stream",
     "text": [
      "              Low    Volume\n",
      "Date                       \n",
      "2010-01-04  30.59  38409100\n",
      "2010-01-05  30.64  49749600\n",
      "2010-01-06  30.52  58182400\n",
      "2010-01-07  30.19  50559700\n",
      "2010-01-08  30.24  51197400\n"
     ]
    }
   ],
   "source": [
    "print(msft[['Low', 'Volume']].head())"
   ]
  },
  {
   "cell_type": "code",
   "execution_count": 35,
   "metadata": {
    "collapsed": false
   },
   "outputs": [
    {
     "data": {
      "text/plain": [
       "              Open    High     Low   Close     Volume  Adj Close\n",
       "Date                                                            \n",
       "2010-01-04   30.62   31.10   30.59   30.95   38409100     25.555\n",
       "2010-01-05   30.85   31.10   30.64   30.96   49749600     25.564\n",
       "2010-01-06   30.88   31.08   30.52   30.77   58182400     25.407\n",
       "2010-01-04  213.43  214.50  212.38  214.01  123432400     27.727\n",
       "2010-01-05  214.60  215.59  213.25  214.38  150476200     27.775\n",
       "2010-01-06  214.38  215.23  210.75  210.97  138040000     27.333"
      ]
     },
     "execution_count": 35,
     "metadata": {},
     "output_type": "execute_result"
    }
   ],
   "source": [
    "pd.concat([msft[:3], aapl[:3]])"
   ]
  },
  {
   "cell_type": "code",
   "execution_count": 49,
   "metadata": {
    "collapsed": true
   },
   "outputs": [],
   "source": [
    "msftA01 = msft['2012-01'][['Adj Close']][:3]  # This is so convenient\n",
    "msftA02 = msft['2012-02'][['Adj Close']][:3]  # Slicing dates by year and month only"
   ]
  },
  {
   "cell_type": "code",
   "execution_count": 51,
   "metadata": {
    "collapsed": true
   },
   "outputs": [],
   "source": [
    "msftA03 = msft['01/2012'][['Adj Close']][:3]  # Pandas can infer for the date format\n",
    "msftA04 = msft['02/2012'][['Adj Close']][:3]  "
   ]
  },
  {
   "cell_type": "code",
   "execution_count": 50,
   "metadata": {
    "collapsed": false
   },
   "outputs": [
    {
     "data": {
      "text/plain": [
       "            Adj Close\n",
       "Date                 \n",
       "2012-01-03     23.164\n",
       "2012-01-04     23.709\n",
       "2012-01-05     23.951"
      ]
     },
     "execution_count": 50,
     "metadata": {},
     "output_type": "execute_result"
    }
   ],
   "source": [
    "msftA01"
   ]
  },
  {
   "cell_type": "code",
   "execution_count": 47,
   "metadata": {
    "collapsed": false
   },
   "outputs": [
    {
     "data": {
      "text/plain": [
       "            Adj Close\n",
       "Date                 \n",
       "2012-02-01     25.864\n",
       "2012-02-02     25.916\n",
       "2012-02-03     26.166"
      ]
     },
     "execution_count": 47,
     "metadata": {},
     "output_type": "execute_result"
    }
   ],
   "source": [
    "msftA02"
   ]
  },
  {
   "cell_type": "code",
   "execution_count": 48,
   "metadata": {
    "collapsed": false
   },
   "outputs": [
    {
     "data": {
      "text/plain": [
       "            Adj Close\n",
       "Date                 \n",
       "2012-01-03     23.164\n",
       "2012-01-04     23.709\n",
       "2012-01-05     23.951\n",
       "2012-02-01     25.864\n",
       "2012-02-02     25.916\n",
       "2012-02-03     26.166"
      ]
     },
     "execution_count": 48,
     "metadata": {},
     "output_type": "execute_result"
    }
   ],
   "source": [
    "pd.concat([msftA01, msftA02])"
   ]
  },
  {
   "cell_type": "code",
   "execution_count": 52,
   "metadata": {
    "collapsed": false
   },
   "outputs": [
    {
     "data": {
      "text/plain": [
       "            Adj Close\n",
       "Date                 \n",
       "2012-01-03     23.164\n",
       "2012-01-04     23.709\n",
       "2012-01-05     23.951"
      ]
     },
     "execution_count": 52,
     "metadata": {},
     "output_type": "execute_result"
    }
   ],
   "source": [
    "msftA03"
   ]
  },
  {
   "cell_type": "code",
   "execution_count": 53,
   "metadata": {
    "collapsed": false
   },
   "outputs": [
    {
     "data": {
      "text/plain": [
       "            Adj Close\n",
       "Date                 \n",
       "2012-02-01     25.864\n",
       "2012-02-02     25.916\n",
       "2012-02-03     26.166"
      ]
     },
     "execution_count": 53,
     "metadata": {},
     "output_type": "execute_result"
    }
   ],
   "source": [
    "msftA04"
   ]
  },
  {
   "cell_type": "code",
   "execution_count": null,
   "metadata": {
    "collapsed": true
   },
   "outputs": [],
   "source": []
  }
 ],
 "metadata": {
  "kernelspec": {
   "display_name": "Python 3",
   "language": "python",
   "name": "python3"
  },
  "language_info": {
   "codemirror_mode": {
    "name": "ipython",
    "version": 3
   },
   "file_extension": ".py",
   "mimetype": "text/x-python",
   "name": "python",
   "nbconvert_exporter": "python",
   "pygments_lexer": "ipython3",
   "version": "3.6.0a1"
  }
 },
 "nbformat": 4,
 "nbformat_minor": 2
}
